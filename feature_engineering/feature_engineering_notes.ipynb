{
 "cells": [
  {
   "cell_type": "markdown",
   "metadata": {},
   "source": [
    "# Feature engineering\n",
    "- Involves prepping the data before analysis\n",
    "- a data is never ready for analysis right away.\n",
    "- data can come from anywhere and its needs to be treated.\n",
    "- a data might be structured or wont be."
   ]
  },
  {
   "cell_type": "markdown",
   "metadata": {},
   "source": [
    "# Hyper parameter tunning\n",
    "\n",
    "- Tuning the hyperparameters to get a better model by experimentation.\n",
    "- Also involves understanding the concept of pipelines, which helps to standardize the model building process.\n",
    "\n",
    "# Difference between fit, fit_transform and transform\n",
    "- fit - is used to fit parameters of the function\n",
    "- transform - transforming the data using parameters fitted with the fit function\n",
    "- fit_transform - to first fit the parameters of the function and then transform the data also\n",
    "\n",
    "# How to tune a model using train, test and validation split?\n",
    "\n",
    "- Pick a combination of hyperparameter\n",
    "- Train a model using those hyperparameters\n",
    "- Find the model's performance on the validation test\n",
    "- Repeat this process for all combinations available\n",
    "- Choose the model with the best validation score, and find out the final(generalized) score on the test set\n",
    "\n",
    "\n",
    "# Pipeline concept\n",
    "- Data goes through transformations before data hits algorithm to become a model.\n",
    "- So when working on a team to make the transfromations in a uniform way, pipeline helps with this. \n",
    "- Brings discipline to handling of the data.\n",
    "- avaialble in sklearn lib.\n",
    "- what is it?: \n",
    "    - set of steps (are transforms) and to get a final estimator.\n",
    "    - basically contains a list of tuple for eg.: pipe=Pipeline([(\"scalar\",MinMaxScaler()),(\"classifier\",logisticregression())])\n",
    "- All the elements of the pipeline should have \"transform\" method. And the last element should have the \"fit\" method.\n",
    "- Another way to make pipeline object is make_pipeline()\n",
    "\n",
    "\n"
   ]
  },
  {
   "cell_type": "code",
   "execution_count": null,
   "metadata": {},
   "outputs": [],
   "source": []
  }
 ],
 "metadata": {
  "kernelspec": {
   "display_name": "Python 3",
   "language": "python",
   "name": "python3"
  },
  "language_info": {
   "codemirror_mode": {
    "name": "ipython",
    "version": 3
   },
   "file_extension": ".py",
   "mimetype": "text/x-python",
   "name": "python",
   "nbconvert_exporter": "python",
   "pygments_lexer": "ipython3",
   "version": "3.8.5"
  }
 },
 "nbformat": 4,
 "nbformat_minor": 4
}
