{
 "cells": [
  {
   "cell_type": "markdown",
   "metadata": {
    "id": "emerging-diagnosis"
   },
   "source": [
    "## Income Group Classification"
   ]
  },
  {
   "cell_type": "markdown",
   "metadata": {
    "id": "prostate-workplace"
   },
   "source": [
    "## Context \n",
    "DeltaSquare is an NGO that works with the Government on matters of social policy to bring about a change in the lives of underprivileged sections of society. They are given a task of coming up with a policy framework by analyzing a dataset that the government received from WHO. You as a data scientist at DeltaSquare are tasked with solving this problem and sharing a proposal for the government. "
   ]
  },
  {
   "cell_type": "markdown",
   "metadata": {
    "id": "metallic-portugal"
   },
   "source": [
    "### Objective\n",
    "\n",
    "1. What are the different factors that influence the income of an individual?\n",
    "\n",
    "2. To build a prediction model that can help the government formulate policies for the right pockets of the society."
   ]
  },
  {
   "cell_type": "markdown",
   "metadata": {
    "id": "noted-austria"
   },
   "source": [
    "### Dataset\n",
    "\n",
    "The data contains characteristics of the people\n",
    "\n",
    "* age: continuous - age of a Person \n",
    "* workclass: Where does a person works - categorical -Private, Self-emp-not-inc, Self-emp-inc, Federal-gov, Local-gov, State-gov, Without-pay, Never-worked.\n",
    "* fnlwgt: continuous - Weight assigned by Current Population Survey (CPS) - People with similar demographic characteristics should have similar weights since it is a feature aimed to allocate similar weights to people with similar demographic characteristics.\n",
    "* education: Degree the person has - Bachelors, Some-college, 11th, HS-grad, Prof-school, Assoc-acdm, Assoc-voc, 9th, 7th-8th, 12th, Masters, 1st-4th, 10th, Doctorate, 5th-6th, Preschool.\n",
    "* education-num: no. of years a person studied - continuous.\n",
    "* marital-status: Married-civ-spouse, Divorced, Never-married, Separated, Widowed, Married-spouse-absent, Married-AF-spouse.\n",
    "* occupation: Tech-support, Craft-repair, Other-service, Sales, Exec-managerial, Prof-specialty, Handlers-cleaners, Machine-op-inspct, Adm-clerical, Farming-fishing, Transport-moving, Priv-house-serv, Protective-serv, Armed-Forces.\n",
    "* race: White, Asian-Pac-Islander, Amer-Indian-Eskimo, Other, Black.\n",
    "* sex: Female, Male.\n",
    "* capital-gain: Investment gain of the person other than salary - continuous\n",
    "* capital-loss: Loss from investments - continuous\n",
    "* hours-per-week: No. of hours a person works - continuous.\n",
    "* native-country: United-States, Cambodia, England, Puerto-Rico, Canada, Germany, Outlying-US(Guam-USVI-etc), India, Japan, Greece, South, China, Cuba, Iran, Honduras, Philippines, Italy, Poland, Jamaica, Vietnam, Mexico, Portugal, Ireland, France, Dominican-Republic, Laos, Ecuador, Taiwan, Haiti, Columbia, Hungary, Guatemala, Nicaragua, Scotland, Thailand, Yugoslavia, El-Salvador, Trinidad&Tobago, Peru, Hong, Holand-Netherlands.\n",
    "* salary: >50K, <=50K (dependent variable, the salary is in Dollars per year)"
   ]
  },
  {
   "cell_type": "markdown",
   "metadata": {
    "id": "crazy-operations"
   },
   "source": [
    "### Loading Libraries"
   ]
  },
  {
   "cell_type": "code",
   "execution_count": 18,
   "metadata": {
    "id": "handled-ordinance",
    "outputId": "921ae4ce-e9d7-4396-9d09-9a919de166a3"
   },
   "outputs": [],
   "source": [
    "# this will help in making the Python code more structured automatically (good coding practice)\n",
    "\n",
    "\n",
    "import warnings\n",
    "\n",
    "warnings.filterwarnings(\"ignore\")\n",
    "\n",
    "# Libraries to help with reading and manipulating data\n",
    "\n",
    "import pandas as pd\n",
    "import numpy as np\n",
    "\n",
    "# Library to split data\n",
    "from sklearn.model_selection import train_test_split\n",
    "\n",
    "# libaries to help with data visualization\n",
    "import matplotlib.pyplot as plt\n",
    "import seaborn as sns\n",
    "\n",
    "# Removes the limit for the number of displayed columns\n",
    "pd.set_option(\"display.max_columns\", None)\n",
    "# Sets the limit for the number of displayed rows\n",
    "pd.set_option(\"display.max_rows\", 200)\n",
    "\n",
    "\n",
    "# To build model for prediction\n",
    "\n",
    "from sklearn.linear_model import LogisticRegression\n",
    "\n",
    "# To get diferent metric scores\n",
    "# To get diferent metric scores\n",
    "\n",
    "from sklearn.metrics import (\n",
    "    f1_score,\n",
    "    accuracy_score,\n",
    "    recall_score,\n",
    "    precision_score,\n",
    "    confusion_matrix,\n",
    "    roc_auc_score,\n",
    "    plot_confusion_matrix,\n",
    "    precision_recall_curve,\n",
    "    roc_curve,\n",
    ")"
   ]
  },
  {
   "cell_type": "markdown",
   "metadata": {
    "id": "decreased-cambodia"
   },
   "source": [
    "### Note: The first section of the notebook is the section that has been covered multiple times in the previous case studies.  For this discussion this part can be skipped and we can directly refer to this **<a href = #link1>summary</a>** of data cleaning steps and observations from EDA."
   ]
  },
  {
   "cell_type": "markdown",
   "metadata": {
    "id": "renewable-instrumentation"
   },
   "source": [
    "### Load data"
   ]
  },
  {
   "cell_type": "code",
   "execution_count": 20,
   "metadata": {
    "id": "alpha-endorsement",
    "outputId": "05355dc4-958b-4c59-b415-3b6dd0840054"
   },
   "outputs": [],
   "source": [
    "who = pd.read_csv(\"who_data.csv\")"
   ]
  },
  {
   "cell_type": "code",
   "execution_count": 21,
   "metadata": {
    "id": "fifty-prime",
    "outputId": "a895d103-3d59-43ef-b10f-07a1856ae962"
   },
   "outputs": [],
   "source": [
    "# copying data to another variable to avoid any changes to original data\n",
    "data = who.copy()"
   ]
  },
  {
   "cell_type": "markdown",
   "metadata": {
    "id": "egyptian-workstation"
   },
   "source": [
    "### View the first and last 5 rows of the dataset."
   ]
  },
  {
   "cell_type": "code",
   "execution_count": 22,
   "metadata": {
    "colab": {
     "base_uri": "https://localhost:8080/",
     "height": 306
    },
    "id": "interpreted-publisher",
    "outputId": "80196792-f0f7-4482-d9be-ba731e441e23"
   },
   "outputs": [
    {
     "data": {
      "text/html": [
       "<div>\n",
       "<style scoped>\n",
       "    .dataframe tbody tr th:only-of-type {\n",
       "        vertical-align: middle;\n",
       "    }\n",
       "\n",
       "    .dataframe tbody tr th {\n",
       "        vertical-align: top;\n",
       "    }\n",
       "\n",
       "    .dataframe thead th {\n",
       "        text-align: right;\n",
       "    }\n",
       "</style>\n",
       "<table border=\"1\" class=\"dataframe\">\n",
       "  <thead>\n",
       "    <tr style=\"text-align: right;\">\n",
       "      <th></th>\n",
       "      <th>age</th>\n",
       "      <th>workclass</th>\n",
       "      <th>fnlwgt</th>\n",
       "      <th>education</th>\n",
       "      <th>education-no. of years</th>\n",
       "      <th>marital status</th>\n",
       "      <th>occupation</th>\n",
       "      <th>relationship</th>\n",
       "      <th>race</th>\n",
       "      <th>sex</th>\n",
       "      <th>capital gain</th>\n",
       "      <th>capital loss</th>\n",
       "      <th>working hours per week</th>\n",
       "      <th>native-country</th>\n",
       "      <th>salary</th>\n",
       "    </tr>\n",
       "  </thead>\n",
       "  <tbody>\n",
       "    <tr>\n",
       "      <th>0</th>\n",
       "      <td>39</td>\n",
       "      <td>State-gov</td>\n",
       "      <td>77516</td>\n",
       "      <td>Bachelors</td>\n",
       "      <td>13</td>\n",
       "      <td>Never-married</td>\n",
       "      <td>Adm-clerical</td>\n",
       "      <td>Not-in-family</td>\n",
       "      <td>White</td>\n",
       "      <td>Male</td>\n",
       "      <td>2174</td>\n",
       "      <td>0</td>\n",
       "      <td>40</td>\n",
       "      <td>United-States</td>\n",
       "      <td>&lt;=50K</td>\n",
       "    </tr>\n",
       "    <tr>\n",
       "      <th>1</th>\n",
       "      <td>50</td>\n",
       "      <td>Self-emp-not-inc</td>\n",
       "      <td>83311</td>\n",
       "      <td>Bachelors</td>\n",
       "      <td>13</td>\n",
       "      <td>Married-civ-spouse</td>\n",
       "      <td>Exec-managerial</td>\n",
       "      <td>Husband</td>\n",
       "      <td>White</td>\n",
       "      <td>Male</td>\n",
       "      <td>0</td>\n",
       "      <td>0</td>\n",
       "      <td>13</td>\n",
       "      <td>United-States</td>\n",
       "      <td>&lt;=50K</td>\n",
       "    </tr>\n",
       "    <tr>\n",
       "      <th>2</th>\n",
       "      <td>38</td>\n",
       "      <td>Private</td>\n",
       "      <td>215646</td>\n",
       "      <td>HS-grad</td>\n",
       "      <td>9</td>\n",
       "      <td>Divorced</td>\n",
       "      <td>Handlers-cleaners</td>\n",
       "      <td>Not-in-family</td>\n",
       "      <td>White</td>\n",
       "      <td>Male</td>\n",
       "      <td>0</td>\n",
       "      <td>0</td>\n",
       "      <td>40</td>\n",
       "      <td>United-States</td>\n",
       "      <td>&lt;=50K</td>\n",
       "    </tr>\n",
       "    <tr>\n",
       "      <th>3</th>\n",
       "      <td>53</td>\n",
       "      <td>Private</td>\n",
       "      <td>234721</td>\n",
       "      <td>11th</td>\n",
       "      <td>7</td>\n",
       "      <td>Married-civ-spouse</td>\n",
       "      <td>Handlers-cleaners</td>\n",
       "      <td>Husband</td>\n",
       "      <td>Black</td>\n",
       "      <td>Male</td>\n",
       "      <td>0</td>\n",
       "      <td>0</td>\n",
       "      <td>40</td>\n",
       "      <td>United-States</td>\n",
       "      <td>&lt;=50K</td>\n",
       "    </tr>\n",
       "    <tr>\n",
       "      <th>4</th>\n",
       "      <td>28</td>\n",
       "      <td>Private</td>\n",
       "      <td>338409</td>\n",
       "      <td>Bachelors</td>\n",
       "      <td>13</td>\n",
       "      <td>Married-civ-spouse</td>\n",
       "      <td>Prof-specialty</td>\n",
       "      <td>Wife</td>\n",
       "      <td>Black</td>\n",
       "      <td>Female</td>\n",
       "      <td>0</td>\n",
       "      <td>0</td>\n",
       "      <td>40</td>\n",
       "      <td>Cuba</td>\n",
       "      <td>&lt;=50K</td>\n",
       "    </tr>\n",
       "  </tbody>\n",
       "</table>\n",
       "</div>"
      ],
      "text/plain": [
       "   age          workclass  fnlwgt   education  education-no. of years  \\\n",
       "0   39          State-gov   77516   Bachelors                      13   \n",
       "1   50   Self-emp-not-inc   83311   Bachelors                      13   \n",
       "2   38            Private  215646     HS-grad                       9   \n",
       "3   53            Private  234721        11th                       7   \n",
       "4   28            Private  338409   Bachelors                      13   \n",
       "\n",
       "        marital status          occupation    relationship    race      sex  \\\n",
       "0        Never-married        Adm-clerical   Not-in-family   White     Male   \n",
       "1   Married-civ-spouse     Exec-managerial         Husband   White     Male   \n",
       "2             Divorced   Handlers-cleaners   Not-in-family   White     Male   \n",
       "3   Married-civ-spouse   Handlers-cleaners         Husband   Black     Male   \n",
       "4   Married-civ-spouse      Prof-specialty            Wife   Black   Female   \n",
       "\n",
       "   capital gain  capital loss  working hours per week  native-country  salary  \n",
       "0          2174             0                      40   United-States   <=50K  \n",
       "1             0             0                      13   United-States   <=50K  \n",
       "2             0             0                      40   United-States   <=50K  \n",
       "3             0             0                      40   United-States   <=50K  \n",
       "4             0             0                      40            Cuba   <=50K  "
      ]
     },
     "execution_count": 22,
     "metadata": {},
     "output_type": "execute_result"
    }
   ],
   "source": [
    "data.head()"
   ]
  },
  {
   "cell_type": "code",
   "execution_count": 23,
   "metadata": {
    "id": "cultural-reviewer",
    "outputId": "973a732a-36e8-4ed2-eb7d-f9b9edea0d4c"
   },
   "outputs": [
    {
     "data": {
      "text/html": [
       "<div>\n",
       "<style scoped>\n",
       "    .dataframe tbody tr th:only-of-type {\n",
       "        vertical-align: middle;\n",
       "    }\n",
       "\n",
       "    .dataframe tbody tr th {\n",
       "        vertical-align: top;\n",
       "    }\n",
       "\n",
       "    .dataframe thead th {\n",
       "        text-align: right;\n",
       "    }\n",
       "</style>\n",
       "<table border=\"1\" class=\"dataframe\">\n",
       "  <thead>\n",
       "    <tr style=\"text-align: right;\">\n",
       "      <th></th>\n",
       "      <th>age</th>\n",
       "      <th>workclass</th>\n",
       "      <th>fnlwgt</th>\n",
       "      <th>education</th>\n",
       "      <th>education-no. of years</th>\n",
       "      <th>marital status</th>\n",
       "      <th>occupation</th>\n",
       "      <th>relationship</th>\n",
       "      <th>race</th>\n",
       "      <th>sex</th>\n",
       "      <th>capital gain</th>\n",
       "      <th>capital loss</th>\n",
       "      <th>working hours per week</th>\n",
       "      <th>native-country</th>\n",
       "      <th>salary</th>\n",
       "    </tr>\n",
       "  </thead>\n",
       "  <tbody>\n",
       "    <tr>\n",
       "      <th>32556</th>\n",
       "      <td>27</td>\n",
       "      <td>Private</td>\n",
       "      <td>257302</td>\n",
       "      <td>Assoc-acdm</td>\n",
       "      <td>12</td>\n",
       "      <td>Married-civ-spouse</td>\n",
       "      <td>Tech-support</td>\n",
       "      <td>Wife</td>\n",
       "      <td>White</td>\n",
       "      <td>Female</td>\n",
       "      <td>0</td>\n",
       "      <td>0</td>\n",
       "      <td>38</td>\n",
       "      <td>United-States</td>\n",
       "      <td>&lt;=50K</td>\n",
       "    </tr>\n",
       "    <tr>\n",
       "      <th>32557</th>\n",
       "      <td>40</td>\n",
       "      <td>Private</td>\n",
       "      <td>154374</td>\n",
       "      <td>HS-grad</td>\n",
       "      <td>9</td>\n",
       "      <td>Married-civ-spouse</td>\n",
       "      <td>Machine-op-inspct</td>\n",
       "      <td>Husband</td>\n",
       "      <td>White</td>\n",
       "      <td>Male</td>\n",
       "      <td>0</td>\n",
       "      <td>0</td>\n",
       "      <td>40</td>\n",
       "      <td>United-States</td>\n",
       "      <td>&gt;50K</td>\n",
       "    </tr>\n",
       "    <tr>\n",
       "      <th>32558</th>\n",
       "      <td>58</td>\n",
       "      <td>Private</td>\n",
       "      <td>151910</td>\n",
       "      <td>HS-grad</td>\n",
       "      <td>9</td>\n",
       "      <td>Widowed</td>\n",
       "      <td>Adm-clerical</td>\n",
       "      <td>Unmarried</td>\n",
       "      <td>White</td>\n",
       "      <td>Female</td>\n",
       "      <td>0</td>\n",
       "      <td>0</td>\n",
       "      <td>40</td>\n",
       "      <td>United-States</td>\n",
       "      <td>&lt;=50K</td>\n",
       "    </tr>\n",
       "    <tr>\n",
       "      <th>32559</th>\n",
       "      <td>22</td>\n",
       "      <td>Private</td>\n",
       "      <td>201490</td>\n",
       "      <td>HS-grad</td>\n",
       "      <td>9</td>\n",
       "      <td>Never-married</td>\n",
       "      <td>Adm-clerical</td>\n",
       "      <td>Own-child</td>\n",
       "      <td>White</td>\n",
       "      <td>Male</td>\n",
       "      <td>0</td>\n",
       "      <td>0</td>\n",
       "      <td>20</td>\n",
       "      <td>United-States</td>\n",
       "      <td>&lt;=50K</td>\n",
       "    </tr>\n",
       "    <tr>\n",
       "      <th>32560</th>\n",
       "      <td>52</td>\n",
       "      <td>Self-emp-inc</td>\n",
       "      <td>287927</td>\n",
       "      <td>HS-grad</td>\n",
       "      <td>9</td>\n",
       "      <td>Married-civ-spouse</td>\n",
       "      <td>Exec-managerial</td>\n",
       "      <td>Wife</td>\n",
       "      <td>White</td>\n",
       "      <td>Female</td>\n",
       "      <td>15024</td>\n",
       "      <td>0</td>\n",
       "      <td>40</td>\n",
       "      <td>United-States</td>\n",
       "      <td>&gt;50K</td>\n",
       "    </tr>\n",
       "  </tbody>\n",
       "</table>\n",
       "</div>"
      ],
      "text/plain": [
       "       age      workclass  fnlwgt    education  education-no. of years  \\\n",
       "32556   27        Private  257302   Assoc-acdm                      12   \n",
       "32557   40        Private  154374      HS-grad                       9   \n",
       "32558   58        Private  151910      HS-grad                       9   \n",
       "32559   22        Private  201490      HS-grad                       9   \n",
       "32560   52   Self-emp-inc  287927      HS-grad                       9   \n",
       "\n",
       "            marital status          occupation relationship    race      sex  \\\n",
       "32556   Married-civ-spouse        Tech-support         Wife   White   Female   \n",
       "32557   Married-civ-spouse   Machine-op-inspct      Husband   White     Male   \n",
       "32558              Widowed        Adm-clerical    Unmarried   White   Female   \n",
       "32559        Never-married        Adm-clerical    Own-child   White     Male   \n",
       "32560   Married-civ-spouse     Exec-managerial         Wife   White   Female   \n",
       "\n",
       "       capital gain  capital loss  working hours per week  native-country  \\\n",
       "32556             0             0                      38   United-States   \n",
       "32557             0             0                      40   United-States   \n",
       "32558             0             0                      40   United-States   \n",
       "32559             0             0                      20   United-States   \n",
       "32560         15024             0                      40   United-States   \n",
       "\n",
       "       salary  \n",
       "32556   <=50K  \n",
       "32557    >50K  \n",
       "32558   <=50K  \n",
       "32559   <=50K  \n",
       "32560    >50K  "
      ]
     },
     "execution_count": 23,
     "metadata": {},
     "output_type": "execute_result"
    }
   ],
   "source": [
    "data.tail()"
   ]
  },
  {
   "cell_type": "markdown",
   "metadata": {
    "id": "another-punishment"
   },
   "source": [
    "### Understand the shape of the dataset."
   ]
  },
  {
   "cell_type": "code",
   "execution_count": 24,
   "metadata": {
    "id": "second-jewel",
    "outputId": "ebf695f6-c90a-4dda-9cc2-fc47ab2bb9f0"
   },
   "outputs": [
    {
     "data": {
      "text/plain": [
       "(32561, 15)"
      ]
     },
     "execution_count": 24,
     "metadata": {},
     "output_type": "execute_result"
    }
   ],
   "source": [
    "data.shape"
   ]
  },
  {
   "cell_type": "markdown",
   "metadata": {
    "id": "abroad-virgin"
   },
   "source": [
    "* The dataset has 32561 rows and 14 columns "
   ]
  },
  {
   "cell_type": "markdown",
   "metadata": {
    "id": "brutal-question"
   },
   "source": [
    "### Check the data types of the columns for the dataset."
   ]
  },
  {
   "cell_type": "code",
   "execution_count": 25,
   "metadata": {
    "colab": {
     "base_uri": "https://localhost:8080/"
    },
    "id": "sitting-rough",
    "outputId": "4d1e0b70-4911-4e63-d263-6168fa386b65",
    "scrolled": false
   },
   "outputs": [
    {
     "name": "stdout",
     "output_type": "stream",
     "text": [
      "<class 'pandas.core.frame.DataFrame'>\n",
      "RangeIndex: 32561 entries, 0 to 32560\n",
      "Data columns (total 15 columns):\n",
      " #   Column                  Non-Null Count  Dtype \n",
      "---  ------                  --------------  ----- \n",
      " 0   age                     32561 non-null  int64 \n",
      " 1   workclass               32561 non-null  object\n",
      " 2   fnlwgt                  32561 non-null  int64 \n",
      " 3   education               32561 non-null  object\n",
      " 4   education-no. of years  32561 non-null  int64 \n",
      " 5   marital status          32561 non-null  object\n",
      " 6   occupation              32561 non-null  object\n",
      " 7   relationship            32561 non-null  object\n",
      " 8   race                    32561 non-null  object\n",
      " 9   sex                     32561 non-null  object\n",
      " 10  capital gain            32561 non-null  int64 \n",
      " 11  capital loss            32561 non-null  int64 \n",
      " 12  working hours per week  32561 non-null  int64 \n",
      " 13  native-country          32561 non-null  object\n",
      " 14  salary                  32561 non-null  object\n",
      "dtypes: int64(6), object(9)\n",
      "memory usage: 3.7+ MB\n"
     ]
    }
   ],
   "source": [
    "data.info()"
   ]
  },
  {
   "cell_type": "markdown",
   "metadata": {
    "id": "dental-marketplace"
   },
   "source": [
    "* We see that names of the columns have spaces, dots, and dash which we will remove as they should not be present in column names. We are doing this to maintain uniformity along with column names\n",
    "* Dependent variable is the salary which is of categorical type\n",
    "* age, capital gain, and capital loss are of integer type while other variables are of categorical type\n",
    "* There are no missing values in the dataset."
   ]
  },
  {
   "cell_type": "code",
   "execution_count": 26,
   "metadata": {
    "id": "marked-funeral",
    "outputId": "f54dd8a8-c9bd-4a35-fc3b-e70ea57528d7"
   },
   "outputs": [],
   "source": [
    "# fixing the names of columns as there are dots, spaces  in columns names\n",
    "data.columns = [col.replace(\" \", \"_\") for col in data.columns]\n",
    "data.columns = [col.replace(\"-\", \"_\") for col in data.columns]\n",
    "data.columns = [col.replace(\".\", \"\") for col in data.columns]"
   ]
  },
  {
   "cell_type": "code",
   "execution_count": 27,
   "metadata": {
    "colab": {
     "base_uri": "https://localhost:8080/"
    },
    "id": "polished-floating",
    "outputId": "4f861321-21f4-4fac-f144-1a3486e49f1f"
   },
   "outputs": [
    {
     "name": "stdout",
     "output_type": "stream",
     "text": [
      "Index(['age', 'workclass', 'fnlwgt', 'education', 'education_no_of_years',\n",
      "       'marital_status', 'occupation', 'relationship', 'race', 'sex',\n",
      "       'capital_gain', 'capital_loss', 'working_hours_per_week',\n",
      "       'native_country', 'salary'],\n",
      "      dtype='object')\n"
     ]
    }
   ],
   "source": [
    "print(data.columns)"
   ]
  },
  {
   "cell_type": "markdown",
   "metadata": {
    "id": "internal-concept"
   },
   "source": [
    "* column names are fixed"
   ]
  },
  {
   "cell_type": "markdown",
   "metadata": {
    "id": "sealed-platform"
   },
   "source": [
    "### Summary of the dataset."
   ]
  },
  {
   "cell_type": "code",
   "execution_count": 28,
   "metadata": {
    "colab": {
     "base_uri": "https://localhost:8080/",
     "height": 427
    },
    "id": "unusual-industry",
    "outputId": "a775bf9f-9a96-476d-889d-1ae4c5c616fe"
   },
   "outputs": [
    {
     "data": {
      "text/html": [
       "<div>\n",
       "<style scoped>\n",
       "    .dataframe tbody tr th:only-of-type {\n",
       "        vertical-align: middle;\n",
       "    }\n",
       "\n",
       "    .dataframe tbody tr th {\n",
       "        vertical-align: top;\n",
       "    }\n",
       "\n",
       "    .dataframe thead th {\n",
       "        text-align: right;\n",
       "    }\n",
       "</style>\n",
       "<table border=\"1\" class=\"dataframe\">\n",
       "  <thead>\n",
       "    <tr style=\"text-align: right;\">\n",
       "      <th></th>\n",
       "      <th>count</th>\n",
       "      <th>mean</th>\n",
       "      <th>std</th>\n",
       "      <th>min</th>\n",
       "      <th>25%</th>\n",
       "      <th>50%</th>\n",
       "      <th>75%</th>\n",
       "      <th>max</th>\n",
       "    </tr>\n",
       "  </thead>\n",
       "  <tbody>\n",
       "    <tr>\n",
       "      <th>age</th>\n",
       "      <td>32561.0</td>\n",
       "      <td>38.581647</td>\n",
       "      <td>13.640433</td>\n",
       "      <td>17.0</td>\n",
       "      <td>28.0</td>\n",
       "      <td>37.0</td>\n",
       "      <td>48.0</td>\n",
       "      <td>90.0</td>\n",
       "    </tr>\n",
       "    <tr>\n",
       "      <th>fnlwgt</th>\n",
       "      <td>32561.0</td>\n",
       "      <td>189778.366512</td>\n",
       "      <td>105549.977697</td>\n",
       "      <td>12285.0</td>\n",
       "      <td>117827.0</td>\n",
       "      <td>178356.0</td>\n",
       "      <td>237051.0</td>\n",
       "      <td>1484705.0</td>\n",
       "    </tr>\n",
       "    <tr>\n",
       "      <th>education_no_of_years</th>\n",
       "      <td>32561.0</td>\n",
       "      <td>10.080679</td>\n",
       "      <td>2.572720</td>\n",
       "      <td>1.0</td>\n",
       "      <td>9.0</td>\n",
       "      <td>10.0</td>\n",
       "      <td>12.0</td>\n",
       "      <td>16.0</td>\n",
       "    </tr>\n",
       "    <tr>\n",
       "      <th>capital_gain</th>\n",
       "      <td>32561.0</td>\n",
       "      <td>1077.648844</td>\n",
       "      <td>7385.292085</td>\n",
       "      <td>0.0</td>\n",
       "      <td>0.0</td>\n",
       "      <td>0.0</td>\n",
       "      <td>0.0</td>\n",
       "      <td>99999.0</td>\n",
       "    </tr>\n",
       "    <tr>\n",
       "      <th>capital_loss</th>\n",
       "      <td>32561.0</td>\n",
       "      <td>87.303830</td>\n",
       "      <td>402.960219</td>\n",
       "      <td>0.0</td>\n",
       "      <td>0.0</td>\n",
       "      <td>0.0</td>\n",
       "      <td>0.0</td>\n",
       "      <td>4356.0</td>\n",
       "    </tr>\n",
       "    <tr>\n",
       "      <th>working_hours_per_week</th>\n",
       "      <td>32561.0</td>\n",
       "      <td>40.437456</td>\n",
       "      <td>12.347429</td>\n",
       "      <td>1.0</td>\n",
       "      <td>40.0</td>\n",
       "      <td>40.0</td>\n",
       "      <td>45.0</td>\n",
       "      <td>99.0</td>\n",
       "    </tr>\n",
       "  </tbody>\n",
       "</table>\n",
       "</div>"
      ],
      "text/plain": [
       "                          count           mean            std      min  \\\n",
       "age                     32561.0      38.581647      13.640433     17.0   \n",
       "fnlwgt                  32561.0  189778.366512  105549.977697  12285.0   \n",
       "education_no_of_years   32561.0      10.080679       2.572720      1.0   \n",
       "capital_gain            32561.0    1077.648844    7385.292085      0.0   \n",
       "capital_loss            32561.0      87.303830     402.960219      0.0   \n",
       "working_hours_per_week  32561.0      40.437456      12.347429      1.0   \n",
       "\n",
       "                             25%       50%       75%        max  \n",
       "age                         28.0      37.0      48.0       90.0  \n",
       "fnlwgt                  117827.0  178356.0  237051.0  1484705.0  \n",
       "education_no_of_years        9.0      10.0      12.0       16.0  \n",
       "capital_gain                 0.0       0.0       0.0    99999.0  \n",
       "capital_loss                 0.0       0.0       0.0     4356.0  \n",
       "working_hours_per_week      40.0      40.0      45.0       99.0  "
      ]
     },
     "execution_count": 28,
     "metadata": {},
     "output_type": "execute_result"
    }
   ],
   "source": [
    "data.describe().T"
   ]
  },
  {
   "cell_type": "markdown",
   "metadata": {
    "id": "administrative-protein"
   },
   "source": [
    "* `age`: Average age of people in the dataset is 38 years, age has a wide range from 17 to 90 years.\n",
    "* `education_no_of_years`: The average education in years is 10 years. There's a large difference between the minimum value and 25th percentile which indicates that there might be outliers present in this variable.\n",
    "* `capital_gain`: There's a huge difference in the 75th percentile and maximum value of capital_gain indicating the presence of outliers. Also, 75% of the observations are 0.\n",
    "* `capital_loss`: Same as capital gain there's a huge difference in the 75th percentile and maximum value indicating the presence of outliers. Also, 75% of the observations are 0.\n",
    "* `working_hours_per_week`: On average people work for 40 hours a week. A vast difference in minimum value and 25th percentile, as well as 75th percentile and the maximum value, indicates that there might be outliers present in the variable."
   ]
  },
  {
   "cell_type": "markdown",
   "metadata": {
    "id": "grand-trainer"
   },
   "source": [
    "**Lets us look at different levels in categorical variables**"
   ]
  },
  {
   "cell_type": "code",
   "execution_count": 29,
   "metadata": {
    "id": "governing-shaft",
    "outputId": "e160f6d7-a028-40ec-8e3e-49fef5c33878"
   },
   "outputs": [
    {
     "data": {
      "text/plain": [
       "Index(['workclass', 'education', 'marital_status', 'occupation',\n",
       "       'relationship', 'race', 'sex', 'native_country', 'salary'],\n",
       "      dtype='object')"
      ]
     },
     "execution_count": 29,
     "metadata": {},
     "output_type": "execute_result"
    }
   ],
   "source": [
    "# filtering object type columns\n",
    "cat_columns = data.describe(include=[\"object\"]).columns\n",
    "cat_columns"
   ]
  },
  {
   "cell_type": "code",
   "execution_count": 30,
   "metadata": {
    "id": "sapphire-reunion",
    "outputId": "4f1910e0-9426-471d-aef0-5ce0ad990944",
    "scrolled": false
   },
   "outputs": [
    {
     "name": "stdout",
     "output_type": "stream",
     "text": [
      "Unique values in workclass are :\n",
      " Private             22696\n",
      " Self-emp-not-inc     2541\n",
      " Local-gov            2093\n",
      " ?                    1836\n",
      " State-gov            1298\n",
      " Self-emp-inc         1116\n",
      " Federal-gov           960\n",
      " Without-pay            14\n",
      " Never-worked            7\n",
      "Name: workclass, dtype: int64\n",
      "**************************************************\n",
      "Unique values in education are :\n",
      " HS-grad         10501\n",
      " Some-college     7291\n",
      " Bachelors        5355\n",
      " Masters          1723\n",
      " Assoc-voc        1382\n",
      " 11th             1175\n",
      " Assoc-acdm       1067\n",
      " 10th              933\n",
      " 7th-8th           646\n",
      " Prof-school       576\n",
      " 9th               514\n",
      " 12th              433\n",
      " Doctorate         413\n",
      " 5th-6th           333\n",
      " 1st-4th           168\n",
      " Preschool          51\n",
      "Name: education, dtype: int64\n",
      "**************************************************\n",
      "Unique values in marital_status are :\n",
      " Married-civ-spouse       14976\n",
      " Never-married            10683\n",
      " Divorced                  4443\n",
      " Separated                 1025\n",
      " Widowed                    993\n",
      " Married-spouse-absent      418\n",
      " Married-AF-spouse           23\n",
      "Name: marital_status, dtype: int64\n",
      "**************************************************\n",
      "Unique values in occupation are :\n",
      " Prof-specialty       4140\n",
      " Craft-repair         4099\n",
      " Exec-managerial      4066\n",
      " Adm-clerical         3770\n",
      " Sales                3650\n",
      " Other-service        3295\n",
      " Machine-op-inspct    2002\n",
      " ?                    1843\n",
      " Transport-moving     1597\n",
      " Handlers-cleaners    1370\n",
      " Farming-fishing       994\n",
      " Tech-support          928\n",
      " Protective-serv       649\n",
      " Priv-house-serv       149\n",
      " Armed-Forces            9\n",
      "Name: occupation, dtype: int64\n",
      "**************************************************\n",
      "Unique values in relationship are :\n",
      " Husband           13193\n",
      " Not-in-family      8305\n",
      " Own-child          5068\n",
      " Unmarried          3446\n",
      " Wife               1568\n",
      " Other-relative      981\n",
      "Name: relationship, dtype: int64\n",
      "**************************************************\n",
      "Unique values in race are :\n",
      " White                 27816\n",
      " Black                  3124\n",
      " Asian-Pac-Islander     1039\n",
      " Amer-Indian-Eskimo      311\n",
      " Other                   271\n",
      "Name: race, dtype: int64\n",
      "**************************************************\n",
      "Unique values in sex are :\n",
      " Male      21790\n",
      " Female    10771\n",
      "Name: sex, dtype: int64\n",
      "**************************************************\n",
      "Unique values in native_country are :\n",
      " United-States                 29170\n",
      " Mexico                          643\n",
      " ?                               583\n",
      " Philippines                     198\n",
      " Germany                         137\n",
      " Canada                          121\n",
      " Puerto-Rico                     114\n",
      " El-Salvador                     106\n",
      " India                           100\n",
      " Cuba                             95\n",
      " England                          90\n",
      " Jamaica                          81\n",
      " South                            80\n",
      " China                            75\n",
      " Italy                            73\n",
      " Dominican-Republic               70\n",
      " Vietnam                          67\n",
      " Guatemala                        64\n",
      " Japan                            62\n",
      " Poland                           60\n",
      " Columbia                         59\n",
      " Taiwan                           51\n",
      " Haiti                            44\n",
      " Iran                             43\n",
      " Portugal                         37\n",
      " Nicaragua                        34\n",
      " Peru                             31\n",
      " Greece                           29\n",
      " France                           29\n",
      " Ecuador                          28\n",
      " Ireland                          24\n",
      " Hong                             20\n",
      " Trinadad&Tobago                  19\n",
      " Cambodia                         19\n",
      " Thailand                         18\n",
      " Laos                             18\n",
      " Yugoslavia                       16\n",
      " Outlying-US(Guam-USVI-etc)       14\n",
      " Honduras                         13\n",
      " Hungary                          13\n",
      " Scotland                         12\n",
      " Holand-Netherlands                1\n",
      "Name: native_country, dtype: int64\n",
      "**************************************************\n",
      "Unique values in salary are :\n",
      " <=50K    24720\n",
      " >50K      7841\n",
      "Name: salary, dtype: int64\n",
      "**************************************************\n"
     ]
    }
   ],
   "source": [
    "for i in cat_columns:\n",
    "    print(\"Unique values in\", i, \"are :\")\n",
    "    print(data[i].value_counts())\n",
    "    print(\"*\" * 50)"
   ]
  },
  {
   "cell_type": "markdown",
   "metadata": {
    "id": "earned-sheriff"
   },
   "source": [
    "* There are some values represented by a '?' in workclass, occupation, and native country columns which we should investigate further.\n",
    "* There are many distinct values in native_country that can be reduced to their respective continents.\n",
    "* The distinct levels of marital_status can also be reduced."
   ]
  },
  {
   "cell_type": "markdown",
   "metadata": {
    "id": "super-exhibition"
   },
   "source": [
    "#### We can assume that wherever there is a ? the data is unknown or missing. Let us see if there is a pattern in the missingness."
   ]
  },
  {
   "cell_type": "markdown",
   "metadata": {
    "id": "recent-ladder"
   },
   "source": [
    "#### workclass"
   ]
  },
  {
   "cell_type": "code",
   "execution_count": 31,
   "metadata": {
    "id": "working-frank",
    "outputId": "9b5b2410-b4d0-4de8-e60c-77e12e0432aa"
   },
   "outputs": [
    {
     "data": {
      "text/html": [
       "<div>\n",
       "<style scoped>\n",
       "    .dataframe tbody tr th:only-of-type {\n",
       "        vertical-align: middle;\n",
       "    }\n",
       "\n",
       "    .dataframe tbody tr th {\n",
       "        vertical-align: top;\n",
       "    }\n",
       "\n",
       "    .dataframe thead th {\n",
       "        text-align: right;\n",
       "    }\n",
       "</style>\n",
       "<table border=\"1\" class=\"dataframe\">\n",
       "  <thead>\n",
       "    <tr style=\"text-align: right;\">\n",
       "      <th></th>\n",
       "      <th>age</th>\n",
       "      <th>workclass</th>\n",
       "      <th>fnlwgt</th>\n",
       "      <th>education</th>\n",
       "      <th>education_no_of_years</th>\n",
       "      <th>marital_status</th>\n",
       "      <th>occupation</th>\n",
       "      <th>relationship</th>\n",
       "      <th>race</th>\n",
       "      <th>sex</th>\n",
       "      <th>capital_gain</th>\n",
       "      <th>capital_loss</th>\n",
       "      <th>working_hours_per_week</th>\n",
       "      <th>native_country</th>\n",
       "      <th>salary</th>\n",
       "    </tr>\n",
       "  </thead>\n",
       "  <tbody>\n",
       "    <tr>\n",
       "      <th>4437</th>\n",
       "      <td>56</td>\n",
       "      <td>?</td>\n",
       "      <td>132930</td>\n",
       "      <td>Masters</td>\n",
       "      <td>14</td>\n",
       "      <td>Never-married</td>\n",
       "      <td>?</td>\n",
       "      <td>Not-in-family</td>\n",
       "      <td>White</td>\n",
       "      <td>Female</td>\n",
       "      <td>0</td>\n",
       "      <td>0</td>\n",
       "      <td>50</td>\n",
       "      <td>United-States</td>\n",
       "      <td>&gt;50K</td>\n",
       "    </tr>\n",
       "    <tr>\n",
       "      <th>20656</th>\n",
       "      <td>48</td>\n",
       "      <td>?</td>\n",
       "      <td>174533</td>\n",
       "      <td>11th</td>\n",
       "      <td>7</td>\n",
       "      <td>Separated</td>\n",
       "      <td>?</td>\n",
       "      <td>Unmarried</td>\n",
       "      <td>White</td>\n",
       "      <td>Male</td>\n",
       "      <td>0</td>\n",
       "      <td>0</td>\n",
       "      <td>40</td>\n",
       "      <td>United-States</td>\n",
       "      <td>&lt;=50K</td>\n",
       "    </tr>\n",
       "    <tr>\n",
       "      <th>11691</th>\n",
       "      <td>37</td>\n",
       "      <td>?</td>\n",
       "      <td>87369</td>\n",
       "      <td>9th</td>\n",
       "      <td>5</td>\n",
       "      <td>Divorced</td>\n",
       "      <td>?</td>\n",
       "      <td>Unmarried</td>\n",
       "      <td>White</td>\n",
       "      <td>Female</td>\n",
       "      <td>0</td>\n",
       "      <td>0</td>\n",
       "      <td>40</td>\n",
       "      <td>United-States</td>\n",
       "      <td>&lt;=50K</td>\n",
       "    </tr>\n",
       "    <tr>\n",
       "      <th>21356</th>\n",
       "      <td>77</td>\n",
       "      <td>?</td>\n",
       "      <td>174887</td>\n",
       "      <td>Some-college</td>\n",
       "      <td>10</td>\n",
       "      <td>Married-civ-spouse</td>\n",
       "      <td>?</td>\n",
       "      <td>Husband</td>\n",
       "      <td>White</td>\n",
       "      <td>Male</td>\n",
       "      <td>0</td>\n",
       "      <td>0</td>\n",
       "      <td>6</td>\n",
       "      <td>United-States</td>\n",
       "      <td>&lt;=50K</td>\n",
       "    </tr>\n",
       "    <tr>\n",
       "      <th>21146</th>\n",
       "      <td>48</td>\n",
       "      <td>?</td>\n",
       "      <td>193047</td>\n",
       "      <td>HS-grad</td>\n",
       "      <td>9</td>\n",
       "      <td>Married-civ-spouse</td>\n",
       "      <td>?</td>\n",
       "      <td>Husband</td>\n",
       "      <td>White</td>\n",
       "      <td>Male</td>\n",
       "      <td>0</td>\n",
       "      <td>0</td>\n",
       "      <td>40</td>\n",
       "      <td>United-States</td>\n",
       "      <td>&gt;50K</td>\n",
       "    </tr>\n",
       "  </tbody>\n",
       "</table>\n",
       "</div>"
      ],
      "text/plain": [
       "       age workclass  fnlwgt      education  education_no_of_years  \\\n",
       "4437    56         ?  132930        Masters                     14   \n",
       "20656   48         ?  174533           11th                      7   \n",
       "11691   37         ?   87369            9th                      5   \n",
       "21356   77         ?  174887   Some-college                     10   \n",
       "21146   48         ?  193047        HS-grad                      9   \n",
       "\n",
       "            marital_status occupation    relationship    race      sex  \\\n",
       "4437         Never-married          ?   Not-in-family   White   Female   \n",
       "20656            Separated          ?       Unmarried   White     Male   \n",
       "11691             Divorced          ?       Unmarried   White   Female   \n",
       "21356   Married-civ-spouse          ?         Husband   White     Male   \n",
       "21146   Married-civ-spouse          ?         Husband   White     Male   \n",
       "\n",
       "       capital_gain  capital_loss  working_hours_per_week  native_country  \\\n",
       "4437              0             0                      50   United-States   \n",
       "20656             0             0                      40   United-States   \n",
       "11691             0             0                      40   United-States   \n",
       "21356             0             0                       6   United-States   \n",
       "21146             0             0                      40   United-States   \n",
       "\n",
       "       salary  \n",
       "4437     >50K  \n",
       "20656   <=50K  \n",
       "11691   <=50K  \n",
       "21356   <=50K  \n",
       "21146    >50K  "
      ]
     },
     "execution_count": 31,
     "metadata": {},
     "output_type": "execute_result"
    }
   ],
   "source": [
    "data[data[\"workclass\"] == \" ?\"].sample(5)"
   ]
  },
  {
   "cell_type": "markdown",
   "metadata": {
    "id": "handed-bracket"
   },
   "source": [
    "* From the sample it looks like wherever workclass is missing occupation is also missing. \n",
    "* It looks like for ? observations in workclass the native country is the United States.\n",
    "* Let's see if the above observations hold."
   ]
  },
  {
   "cell_type": "code",
   "execution_count": 32,
   "metadata": {
    "id": "deluxe-builder",
    "outputId": "932592be-61f7-466f-9041-f9879bc7e376"
   },
   "outputs": [
    {
     "data": {
      "text/plain": [
       " ?    1836\n",
       "Name: occupation, dtype: int64"
      ]
     },
     "execution_count": 32,
     "metadata": {},
     "output_type": "execute_result"
    }
   ],
   "source": [
    "data[data[\"workclass\"] == \" ?\"][\"occupation\"].value_counts()"
   ]
  },
  {
   "cell_type": "markdown",
   "metadata": {
    "id": "figured-pressure"
   },
   "source": [
    "* It is indeed true that wherever workclass has ? the occupation is also ?\n",
    "* This indicates there is a strong pattern in the missingness of workclass and occupation. This is intuitive as well because both the columns are capturing similar information."
   ]
  },
  {
   "cell_type": "code",
   "execution_count": 33,
   "metadata": {
    "id": "configured-correlation",
    "outputId": "2d698fc3-52ec-4aa9-e655-64fba5b3ce1d"
   },
   "outputs": [
    {
     "data": {
      "text/plain": [
       " United-States         1659\n",
       " Mexico                  33\n",
       " ?                       27\n",
       " Canada                  14\n",
       " Philippines             10\n",
       " South                    9\n",
       " Taiwan                   9\n",
       " Germany                  9\n",
       " China                    7\n",
       " El-Salvador              6\n",
       " Puerto-Rico              5\n",
       " Italy                    5\n",
       " Poland                   4\n",
       " England                  4\n",
       " Cuba                     3\n",
       " Portugal                 3\n",
       " Columbia                 3\n",
       " Dominican-Republic       3\n",
       " Japan                    3\n",
       " Vietnam                  3\n",
       " France                   2\n",
       " Haiti                    2\n",
       " Cambodia                 1\n",
       " Iran                     1\n",
       " Guatemala                1\n",
       " Scotland                 1\n",
       " Nicaragua                1\n",
       " Ecuador                  1\n",
       " Honduras                 1\n",
       " Jamaica                  1\n",
       " Peru                     1\n",
       " Laos                     1\n",
       " Trinadad&Tobago          1\n",
       " Thailand                 1\n",
       " Hong                     1\n",
       "Name: native_country, dtype: int64"
      ]
     },
     "execution_count": 33,
     "metadata": {},
     "output_type": "execute_result"
    }
   ],
   "source": [
    "data[data[\"workclass\"] == \" ?\"][\"native_country\"].value_counts()"
   ]
  },
  {
   "cell_type": "markdown",
   "metadata": {
    "id": "clean-scientist"
   },
   "source": [
    "* The above observations don't hold for native_country as there many other countries where the observations are ?."
   ]
  },
  {
   "cell_type": "markdown",
   "metadata": {
    "id": "bright-joint"
   },
   "source": [
    "#### occupation"
   ]
  },
  {
   "cell_type": "code",
   "execution_count": 34,
   "metadata": {
    "id": "double-gregory",
    "outputId": "c0dad011-f564-4070-8dcf-10e1928d853f"
   },
   "outputs": [
    {
     "data": {
      "text/html": [
       "<div>\n",
       "<style scoped>\n",
       "    .dataframe tbody tr th:only-of-type {\n",
       "        vertical-align: middle;\n",
       "    }\n",
       "\n",
       "    .dataframe tbody tr th {\n",
       "        vertical-align: top;\n",
       "    }\n",
       "\n",
       "    .dataframe thead th {\n",
       "        text-align: right;\n",
       "    }\n",
       "</style>\n",
       "<table border=\"1\" class=\"dataframe\">\n",
       "  <thead>\n",
       "    <tr style=\"text-align: right;\">\n",
       "      <th></th>\n",
       "      <th>age</th>\n",
       "      <th>workclass</th>\n",
       "      <th>fnlwgt</th>\n",
       "      <th>education</th>\n",
       "      <th>education_no_of_years</th>\n",
       "      <th>marital_status</th>\n",
       "      <th>occupation</th>\n",
       "      <th>relationship</th>\n",
       "      <th>race</th>\n",
       "      <th>sex</th>\n",
       "      <th>capital_gain</th>\n",
       "      <th>capital_loss</th>\n",
       "      <th>working_hours_per_week</th>\n",
       "      <th>native_country</th>\n",
       "      <th>salary</th>\n",
       "    </tr>\n",
       "  </thead>\n",
       "  <tbody>\n",
       "    <tr>\n",
       "      <th>17321</th>\n",
       "      <td>26</td>\n",
       "      <td>?</td>\n",
       "      <td>431861</td>\n",
       "      <td>10th</td>\n",
       "      <td>6</td>\n",
       "      <td>Separated</td>\n",
       "      <td>?</td>\n",
       "      <td>Not-in-family</td>\n",
       "      <td>White</td>\n",
       "      <td>Male</td>\n",
       "      <td>0</td>\n",
       "      <td>0</td>\n",
       "      <td>40</td>\n",
       "      <td>United-States</td>\n",
       "      <td>&lt;=50K</td>\n",
       "    </tr>\n",
       "    <tr>\n",
       "      <th>16583</th>\n",
       "      <td>21</td>\n",
       "      <td>?</td>\n",
       "      <td>162160</td>\n",
       "      <td>Some-college</td>\n",
       "      <td>10</td>\n",
       "      <td>Never-married</td>\n",
       "      <td>?</td>\n",
       "      <td>Own-child</td>\n",
       "      <td>Asian-Pac-Islander</td>\n",
       "      <td>Male</td>\n",
       "      <td>0</td>\n",
       "      <td>0</td>\n",
       "      <td>40</td>\n",
       "      <td>Taiwan</td>\n",
       "      <td>&lt;=50K</td>\n",
       "    </tr>\n",
       "    <tr>\n",
       "      <th>15685</th>\n",
       "      <td>21</td>\n",
       "      <td>?</td>\n",
       "      <td>107801</td>\n",
       "      <td>Some-college</td>\n",
       "      <td>10</td>\n",
       "      <td>Never-married</td>\n",
       "      <td>?</td>\n",
       "      <td>Own-child</td>\n",
       "      <td>White</td>\n",
       "      <td>Female</td>\n",
       "      <td>0</td>\n",
       "      <td>0</td>\n",
       "      <td>6</td>\n",
       "      <td>United-States</td>\n",
       "      <td>&lt;=50K</td>\n",
       "    </tr>\n",
       "    <tr>\n",
       "      <th>8085</th>\n",
       "      <td>67</td>\n",
       "      <td>?</td>\n",
       "      <td>81761</td>\n",
       "      <td>HS-grad</td>\n",
       "      <td>9</td>\n",
       "      <td>Divorced</td>\n",
       "      <td>?</td>\n",
       "      <td>Own-child</td>\n",
       "      <td>White</td>\n",
       "      <td>Male</td>\n",
       "      <td>0</td>\n",
       "      <td>0</td>\n",
       "      <td>20</td>\n",
       "      <td>United-States</td>\n",
       "      <td>&lt;=50K</td>\n",
       "    </tr>\n",
       "    <tr>\n",
       "      <th>32494</th>\n",
       "      <td>82</td>\n",
       "      <td>?</td>\n",
       "      <td>403910</td>\n",
       "      <td>HS-grad</td>\n",
       "      <td>9</td>\n",
       "      <td>Never-married</td>\n",
       "      <td>?</td>\n",
       "      <td>Not-in-family</td>\n",
       "      <td>White</td>\n",
       "      <td>Male</td>\n",
       "      <td>0</td>\n",
       "      <td>0</td>\n",
       "      <td>3</td>\n",
       "      <td>United-States</td>\n",
       "      <td>&lt;=50K</td>\n",
       "    </tr>\n",
       "  </tbody>\n",
       "</table>\n",
       "</div>"
      ],
      "text/plain": [
       "       age workclass  fnlwgt      education  education_no_of_years  \\\n",
       "17321   26         ?  431861           10th                      6   \n",
       "16583   21         ?  162160   Some-college                     10   \n",
       "15685   21         ?  107801   Some-college                     10   \n",
       "8085    67         ?   81761        HS-grad                      9   \n",
       "32494   82         ?  403910        HS-grad                      9   \n",
       "\n",
       "       marital_status occupation    relationship                 race  \\\n",
       "17321       Separated          ?   Not-in-family                White   \n",
       "16583   Never-married          ?       Own-child   Asian-Pac-Islander   \n",
       "15685   Never-married          ?       Own-child                White   \n",
       "8085         Divorced          ?       Own-child                White   \n",
       "32494   Never-married          ?   Not-in-family                White   \n",
       "\n",
       "           sex  capital_gain  capital_loss  working_hours_per_week  \\\n",
       "17321     Male             0             0                      40   \n",
       "16583     Male             0             0                      40   \n",
       "15685   Female             0             0                       6   \n",
       "8085      Male             0             0                      20   \n",
       "32494     Male             0             0                       3   \n",
       "\n",
       "       native_country  salary  \n",
       "17321   United-States   <=50K  \n",
       "16583          Taiwan   <=50K  \n",
       "15685   United-States   <=50K  \n",
       "8085    United-States   <=50K  \n",
       "32494   United-States   <=50K  "
      ]
     },
     "execution_count": 34,
     "metadata": {},
     "output_type": "execute_result"
    }
   ],
   "source": [
    "data[data[\"occupation\"] == \" ?\"].sample(5)"
   ]
  },
  {
   "cell_type": "code",
   "execution_count": 35,
   "metadata": {
    "id": "plastic-measure",
    "outputId": "4e8977d3-b6b3-459c-c514-110c1b7b3ab8"
   },
   "outputs": [
    {
     "data": {
      "text/plain": [
       " ?               1836\n",
       " Never-worked       7\n",
       "Name: workclass, dtype: int64"
      ]
     },
     "execution_count": 35,
     "metadata": {},
     "output_type": "execute_result"
    }
   ],
   "source": [
    "data[data[\"occupation\"] == \" ?\"][\"workclass\"].value_counts()"
   ]
  },
  {
   "cell_type": "markdown",
   "metadata": {
    "id": "relevant-gallery"
   },
   "source": [
    "* We observe the same pattern here, where occupation is ? most of the values in workclass are ?."
   ]
  },
  {
   "cell_type": "code",
   "execution_count": 36,
   "metadata": {
    "id": "micro-plaintiff",
    "outputId": "95f23b52-faf5-4e65-d8b4-e7c8ffeb27fe"
   },
   "outputs": [
    {
     "data": {
      "text/plain": [
       " United-States         1666\n",
       " Mexico                  33\n",
       " ?                       27\n",
       " Canada                  14\n",
       " Philippines             10\n",
       " South                    9\n",
       " Taiwan                   9\n",
       " Germany                  9\n",
       " China                    7\n",
       " El-Salvador              6\n",
       " Puerto-Rico              5\n",
       " Italy                    5\n",
       " Poland                   4\n",
       " England                  4\n",
       " Cuba                     3\n",
       " Portugal                 3\n",
       " Columbia                 3\n",
       " Dominican-Republic       3\n",
       " Japan                    3\n",
       " Vietnam                  3\n",
       " France                   2\n",
       " Haiti                    2\n",
       " Cambodia                 1\n",
       " Iran                     1\n",
       " Guatemala                1\n",
       " Scotland                 1\n",
       " Nicaragua                1\n",
       " Ecuador                  1\n",
       " Honduras                 1\n",
       " Jamaica                  1\n",
       " Peru                     1\n",
       " Laos                     1\n",
       " Trinadad&Tobago          1\n",
       " Thailand                 1\n",
       " Hong                     1\n",
       "Name: native_country, dtype: int64"
      ]
     },
     "execution_count": 36,
     "metadata": {},
     "output_type": "execute_result"
    }
   ],
   "source": [
    "data[data[\"occupation\"] == \" ?\"][\"native_country\"].value_counts()"
   ]
  },
  {
   "cell_type": "markdown",
   "metadata": {
    "id": "loaded-comparison"
   },
   "source": [
    "* The native_country column has other countries where the observations are ? corresponding to ?s in occupation."
   ]
  },
  {
   "cell_type": "markdown",
   "metadata": {
    "id": "cooked-fireplace"
   },
   "source": [
    "#### native_country"
   ]
  },
  {
   "cell_type": "code",
   "execution_count": 37,
   "metadata": {
    "id": "sacred-pakistan",
    "outputId": "11d1d5f8-9165-4403-ae61-48aee171c331"
   },
   "outputs": [
    {
     "data": {
      "text/html": [
       "<div>\n",
       "<style scoped>\n",
       "    .dataframe tbody tr th:only-of-type {\n",
       "        vertical-align: middle;\n",
       "    }\n",
       "\n",
       "    .dataframe tbody tr th {\n",
       "        vertical-align: top;\n",
       "    }\n",
       "\n",
       "    .dataframe thead th {\n",
       "        text-align: right;\n",
       "    }\n",
       "</style>\n",
       "<table border=\"1\" class=\"dataframe\">\n",
       "  <thead>\n",
       "    <tr style=\"text-align: right;\">\n",
       "      <th></th>\n",
       "      <th>age</th>\n",
       "      <th>workclass</th>\n",
       "      <th>fnlwgt</th>\n",
       "      <th>education</th>\n",
       "      <th>education_no_of_years</th>\n",
       "      <th>marital_status</th>\n",
       "      <th>occupation</th>\n",
       "      <th>relationship</th>\n",
       "      <th>race</th>\n",
       "      <th>sex</th>\n",
       "      <th>capital_gain</th>\n",
       "      <th>capital_loss</th>\n",
       "      <th>working_hours_per_week</th>\n",
       "      <th>native_country</th>\n",
       "      <th>salary</th>\n",
       "    </tr>\n",
       "  </thead>\n",
       "  <tbody>\n",
       "    <tr>\n",
       "      <th>24465</th>\n",
       "      <td>42</td>\n",
       "      <td>Private</td>\n",
       "      <td>187720</td>\n",
       "      <td>Masters</td>\n",
       "      <td>14</td>\n",
       "      <td>Married-civ-spouse</td>\n",
       "      <td>Sales</td>\n",
       "      <td>Husband</td>\n",
       "      <td>White</td>\n",
       "      <td>Male</td>\n",
       "      <td>15024</td>\n",
       "      <td>0</td>\n",
       "      <td>50</td>\n",
       "      <td>?</td>\n",
       "      <td>&gt;50K</td>\n",
       "    </tr>\n",
       "    <tr>\n",
       "      <th>13817</th>\n",
       "      <td>37</td>\n",
       "      <td>Private</td>\n",
       "      <td>82283</td>\n",
       "      <td>5th-6th</td>\n",
       "      <td>3</td>\n",
       "      <td>Married-civ-spouse</td>\n",
       "      <td>Other-service</td>\n",
       "      <td>Husband</td>\n",
       "      <td>Asian-Pac-Islander</td>\n",
       "      <td>Male</td>\n",
       "      <td>0</td>\n",
       "      <td>0</td>\n",
       "      <td>40</td>\n",
       "      <td>?</td>\n",
       "      <td>&lt;=50K</td>\n",
       "    </tr>\n",
       "    <tr>\n",
       "      <th>5234</th>\n",
       "      <td>42</td>\n",
       "      <td>Self-emp-inc</td>\n",
       "      <td>204033</td>\n",
       "      <td>Bachelors</td>\n",
       "      <td>13</td>\n",
       "      <td>Married-civ-spouse</td>\n",
       "      <td>Adm-clerical</td>\n",
       "      <td>Wife</td>\n",
       "      <td>White</td>\n",
       "      <td>Female</td>\n",
       "      <td>0</td>\n",
       "      <td>0</td>\n",
       "      <td>35</td>\n",
       "      <td>?</td>\n",
       "      <td>&lt;=50K</td>\n",
       "    </tr>\n",
       "    <tr>\n",
       "      <th>26762</th>\n",
       "      <td>23</td>\n",
       "      <td>Private</td>\n",
       "      <td>184400</td>\n",
       "      <td>10th</td>\n",
       "      <td>6</td>\n",
       "      <td>Never-married</td>\n",
       "      <td>Transport-moving</td>\n",
       "      <td>Own-child</td>\n",
       "      <td>Asian-Pac-Islander</td>\n",
       "      <td>Male</td>\n",
       "      <td>0</td>\n",
       "      <td>0</td>\n",
       "      <td>30</td>\n",
       "      <td>?</td>\n",
       "      <td>&lt;=50K</td>\n",
       "    </tr>\n",
       "    <tr>\n",
       "      <th>16328</th>\n",
       "      <td>43</td>\n",
       "      <td>Private</td>\n",
       "      <td>95634</td>\n",
       "      <td>Bachelors</td>\n",
       "      <td>13</td>\n",
       "      <td>Married-civ-spouse</td>\n",
       "      <td>Other-service</td>\n",
       "      <td>Wife</td>\n",
       "      <td>Asian-Pac-Islander</td>\n",
       "      <td>Female</td>\n",
       "      <td>0</td>\n",
       "      <td>0</td>\n",
       "      <td>45</td>\n",
       "      <td>?</td>\n",
       "      <td>&lt;=50K</td>\n",
       "    </tr>\n",
       "  </tbody>\n",
       "</table>\n",
       "</div>"
      ],
      "text/plain": [
       "       age      workclass  fnlwgt   education  education_no_of_years  \\\n",
       "24465   42        Private  187720     Masters                     14   \n",
       "13817   37        Private   82283     5th-6th                      3   \n",
       "5234    42   Self-emp-inc  204033   Bachelors                     13   \n",
       "26762   23        Private  184400        10th                      6   \n",
       "16328   43        Private   95634   Bachelors                     13   \n",
       "\n",
       "            marital_status         occupation relationship  \\\n",
       "24465   Married-civ-spouse              Sales      Husband   \n",
       "13817   Married-civ-spouse      Other-service      Husband   \n",
       "5234    Married-civ-spouse       Adm-clerical         Wife   \n",
       "26762        Never-married   Transport-moving    Own-child   \n",
       "16328   Married-civ-spouse      Other-service         Wife   \n",
       "\n",
       "                      race      sex  capital_gain  capital_loss  \\\n",
       "24465                White     Male         15024             0   \n",
       "13817   Asian-Pac-Islander     Male             0             0   \n",
       "5234                 White   Female             0             0   \n",
       "26762   Asian-Pac-Islander     Male             0             0   \n",
       "16328   Asian-Pac-Islander   Female             0             0   \n",
       "\n",
       "       working_hours_per_week native_country  salary  \n",
       "24465                      50              ?    >50K  \n",
       "13817                      40              ?   <=50K  \n",
       "5234                       35              ?   <=50K  \n",
       "26762                      30              ?   <=50K  \n",
       "16328                      45              ?   <=50K  "
      ]
     },
     "execution_count": 37,
     "metadata": {},
     "output_type": "execute_result"
    }
   ],
   "source": [
    "data[data[\"native_country\"] == \" ?\"].sample(5)"
   ]
  },
  {
   "cell_type": "code",
   "execution_count": 38,
   "metadata": {
    "id": "olympic-adolescent",
    "outputId": "d2e2368c-16b8-4385-dd46-90e5b1c6aba0"
   },
   "outputs": [
    {
     "data": {
      "text/plain": [
       " Prof-specialty       102\n",
       " Other-service         83\n",
       " Exec-managerial       74\n",
       " Craft-repair          69\n",
       " Sales                 66\n",
       " Adm-clerical          49\n",
       " Machine-op-inspct     36\n",
       " ?                     27\n",
       " Transport-moving      25\n",
       " Handlers-cleaners     20\n",
       " Tech-support          16\n",
       " Priv-house-serv        6\n",
       " Protective-serv        5\n",
       " Farming-fishing        5\n",
       "Name: occupation, dtype: int64"
      ]
     },
     "execution_count": 38,
     "metadata": {},
     "output_type": "execute_result"
    }
   ],
   "source": [
    "data[data[\"native_country\"] == \" ?\"][\"occupation\"].value_counts()"
   ]
  },
  {
   "cell_type": "code",
   "execution_count": 39,
   "metadata": {
    "id": "civilian-shepherd",
    "outputId": "3c792c54-e55e-4a42-dd6f-a0fd66af2309"
   },
   "outputs": [
    {
     "data": {
      "text/plain": [
       " Private             410\n",
       " Self-emp-inc         42\n",
       " Self-emp-not-inc     42\n",
       " ?                    27\n",
       " Local-gov            26\n",
       " State-gov            19\n",
       " Federal-gov          17\n",
       "Name: workclass, dtype: int64"
      ]
     },
     "execution_count": 39,
     "metadata": {},
     "output_type": "execute_result"
    }
   ],
   "source": [
    "data[data[\"native_country\"] == \" ?\"][\"workclass\"].value_counts()"
   ]
  },
  {
   "cell_type": "markdown",
   "metadata": {
    "id": "freelance-lottery"
   },
   "source": [
    "* There is no clear pattern here."
   ]
  },
  {
   "cell_type": "markdown",
   "metadata": {
    "id": "waiting-passport"
   },
   "source": [
    "#### Observations:\n",
    "* We observe that all the observations where workclass = ? the values in the occupation are ? \n",
    "* The strong pattern between workclass and occupation makes sense as both of these variables capture similar information.\n",
    "* There is no strong correlation of ? observations in occupation and workclass with native_country.\n",
    "* For now we will replace these ?'s with the 'unknown' category."
   ]
  },
  {
   "cell_type": "markdown",
   "metadata": {
    "id": "particular-shannon"
   },
   "source": [
    "#### Replacing ? with 'Unknown'"
   ]
  },
  {
   "cell_type": "code",
   "execution_count": 40,
   "metadata": {
    "id": "leading-tracker",
    "outputId": "aac0dc01-5a5a-46bd-a877-73654bad02af"
   },
   "outputs": [],
   "source": [
    "data.workclass = data.workclass.apply(lambda x: \"Unknown\" if x == \" ?\" else x)\n",
    "data.native_country = data.native_country.apply(lambda x: \"Unknown\" if x == \" ?\" else x)\n",
    "data.occupation = data.occupation.apply(lambda x: \"Unknown\" if x == \" ?\" else x)"
   ]
  },
  {
   "cell_type": "markdown",
   "metadata": {
    "id": "dressed-yemen"
   },
   "source": [
    "#### Mapping countries to continents to reduce the number of unique values."
   ]
  },
  {
   "cell_type": "code",
   "execution_count": 41,
   "metadata": {
    "id": "unique-handling",
    "outputId": "4550079f-f66e-4b85-a049-b44f06baed91"
   },
   "outputs": [
    {
     "data": {
      "text/plain": [
       "42"
      ]
     },
     "execution_count": 41,
     "metadata": {},
     "output_type": "execute_result"
    }
   ],
   "source": [
    "data.native_country.nunique()"
   ]
  },
  {
   "cell_type": "markdown",
   "metadata": {
    "id": "liquid-sodium",
    "outputId": "e0ac41c1-de06-4599-c6f1-3f3f8447cf10"
   },
   "source": [
    "* There are 42 distinct countries in the data set, we can reduce them to their respective continents as this will help us reduce the dimension of data."
   ]
  },
  {
   "cell_type": "code",
   "execution_count": 42,
   "metadata": {
    "id": "structured-steel",
    "outputId": "4b81eaef-5997-4518-8790-48fc60abdf7e"
   },
   "outputs": [],
   "source": [
    "data.native_country = data.native_country.str.replace(\n",
    "    \" \", \"\"\n",
    ")  # remove empty spaces from strings"
   ]
  },
  {
   "cell_type": "code",
   "execution_count": 43,
   "metadata": {
    "id": "informational-advertising",
    "outputId": "992548b8-5876-461f-ae06-0a989396c212"
   },
   "outputs": [],
   "source": [
    "north_america = [\n",
    "    \"Canada\",\n",
    "    \"Cuba\",\n",
    "    \"Dominican-Republic\",\n",
    "    \"El-Salvador\",\n",
    "    \"Guatemala\",\n",
    "    \"Haiti\",\n",
    "    \"Honduras\",\n",
    "    \"Jamaica\",\n",
    "    \"Mexico\",\n",
    "    \"Nicaragua\",\n",
    "    \"Outlying-US(Guam-USVI-etc)\",\n",
    "    \"Puerto-Rico\",\n",
    "    \"Trinadad&Tobago\",\n",
    "    \"United-States\",\n",
    "]\n",
    "asia = [\n",
    "    \"Cambodia\",\n",
    "    \"China\",\n",
    "    \"Hong\",\n",
    "    \"India\",\n",
    "    \"Iran\",\n",
    "    \"Japan\",\n",
    "    \"Laos\",\n",
    "    \"Philippines\",\n",
    "    \"Taiwan\",\n",
    "    \"Thailand\",\n",
    "    \"Vietnam\",\n",
    "]\n",
    "south_america = [\"Columbia\", \"Ecuador\", \"Peru\"]\n",
    "europe = [\n",
    "    \"England\",\n",
    "    \"France\",\n",
    "    \"Germany\",\n",
    "    \"Greece\",\n",
    "    \"Holand-Netherlands\",\n",
    "    \"Hungary\",\n",
    "    \"Ireland\",\n",
    "    \"Italy\",\n",
    "    \"Poland\",\n",
    "    \"Portugal\",\n",
    "    \"Scotland\",\n",
    "    \"Yugoslavia\",\n",
    "]\n",
    "other = [\"South\", \"Unknown\", \"?\"]"
   ]
  },
  {
   "cell_type": "code",
   "execution_count": 44,
   "metadata": {
    "id": "latest-private",
    "outputId": "1d049883-8d8a-47c3-f0a6-c119f8454214"
   },
   "outputs": [],
   "source": [
    "def region_combining(x):\n",
    "    if x in north_america:\n",
    "        return \"north_america\"\n",
    "    elif x in asia:\n",
    "        return \"asia\"\n",
    "    elif x in south_america:\n",
    "        return \"south_america\"\n",
    "    elif x in europe:\n",
    "        return \"europe\"\n",
    "    elif x in other:\n",
    "        return \"other\"\n",
    "    else:\n",
    "        return x"
   ]
  },
  {
   "cell_type": "code",
   "execution_count": 45,
   "metadata": {
    "id": "prerequisite-owner",
    "outputId": "863dcd0b-50d1-4d46-8143-a4a44f9a733e"
   },
   "outputs": [],
   "source": [
    "data[\"native_country\"] = data[\"native_country\"].apply(region_combining)"
   ]
  },
  {
   "cell_type": "code",
   "execution_count": 46,
   "metadata": {
    "id": "behavioral-electronics",
    "outputId": "236a9796-1a5d-4584-ab61-e1996117ef65"
   },
   "outputs": [
    {
     "name": "stdout",
     "output_type": "stream",
     "text": [
      "Distinct values in Native Country column: 5\n"
     ]
    }
   ],
   "source": [
    "print(\"Distinct values in Native Country column:\", data.native_country.nunique())"
   ]
  },
  {
   "cell_type": "markdown",
   "metadata": {
    "id": "short-elimination"
   },
   "source": [
    "#### Reducing the number of distinct values in marital_status"
   ]
  },
  {
   "cell_type": "code",
   "execution_count": 47,
   "metadata": {
    "id": "wanted-front",
    "outputId": "4d551e83-0a3f-4303-9e56-0f1ac44bb02e"
   },
   "outputs": [
    {
     "data": {
      "text/plain": [
       "array([' Never-married', ' Married-civ-spouse', ' Divorced',\n",
       "       ' Married-spouse-absent', ' Separated', ' Married-AF-spouse',\n",
       "       ' Widowed'], dtype=object)"
      ]
     },
     "execution_count": 47,
     "metadata": {},
     "output_type": "execute_result"
    }
   ],
   "source": [
    "data.marital_status.unique()"
   ]
  },
  {
   "cell_type": "markdown",
   "metadata": {
    "id": "banned-affiliate"
   },
   "source": [
    "We can reduce these values into the following groups:\n",
    "* Married\n",
    "* Not-Married\n",
    "* Never-Married"
   ]
  },
  {
   "cell_type": "code",
   "execution_count": 48,
   "metadata": {
    "id": "furnished-grain",
    "outputId": "405e80ba-1fb9-4ffa-cc24-ef23e7024f11"
   },
   "outputs": [],
   "source": [
    "data.marital_status = data.marital_status.str.replace(\n",
    "    \" \", \"\"\n",
    ")  # remove empty spaces from strings\n",
    "\n",
    "married = [\"Married-civ-spouse\", \"Married-AF-spouse\"]\n",
    "not_married = [\"Divorced\", \"Separated\", \"Widowed\", \"Married-spouse-absent\"]\n",
    "\n",
    "\n",
    "def reduce_marital_status(x):\n",
    "    if x in married:\n",
    "        return \"married\"\n",
    "    elif x in not_married:\n",
    "        return \"not_married\"\n",
    "    else:\n",
    "        return x"
   ]
  },
  {
   "cell_type": "code",
   "execution_count": 49,
   "metadata": {
    "id": "conceptual-primary",
    "outputId": "58cc42fe-20de-4a66-e0a9-267776a58bb8"
   },
   "outputs": [],
   "source": [
    "data.marital_status = data.marital_status.apply(reduce_marital_status)"
   ]
  },
  {
   "cell_type": "code",
   "execution_count": 50,
   "metadata": {
    "colab": {
     "base_uri": "https://localhost:8080/"
    },
    "id": "artistic-element",
    "outputId": "f760d042-5202-402a-9829-c07061fc6b9c"
   },
   "outputs": [
    {
     "data": {
      "text/plain": [
       "array(['Never-married', 'married', 'not_married'], dtype=object)"
      ]
     },
     "execution_count": 50,
     "metadata": {},
     "output_type": "execute_result"
    }
   ],
   "source": [
    "data.marital_status.unique()"
   ]
  },
  {
   "cell_type": "markdown",
   "metadata": {
    "id": "whole-enclosure"
   },
   "source": [
    "* Values have been clubbed into three categories."
   ]
  },
  {
   "cell_type": "markdown",
   "metadata": {
    "id": "peaceful-header"
   },
   "source": [
    "## Univariate Analysis"
   ]
  },
  {
   "cell_type": "code",
   "execution_count": 51,
   "metadata": {
    "id": "possible-mathematics",
    "outputId": "77e19f6a-26ea-4787-8a69-9d7b232cc39a"
   },
   "outputs": [],
   "source": [
    "def histogram_boxplot(data, feature, figsize=(12, 7), kde=False, bins=None):\n",
    "    \"\"\"\n",
    "    Boxplot and histogram combined\n",
    "\n",
    "    data: dataframe\n",
    "    feature: dataframe column\n",
    "    figsize: size of figure (default (12,7))\n",
    "    kde: whether to show the density curve (default False)\n",
    "    bins: number of bins for histogram (default None)\n",
    "    \"\"\"\n",
    "    f2, (ax_box2, ax_hist2) = plt.subplots(\n",
    "        nrows=2,  # Number of rows of the subplot grid= 2\n",
    "        sharex=True,  # x-axis will be shared among all subplots\n",
    "        gridspec_kw={\"height_ratios\": (0.25, 0.75)},\n",
    "        figsize=figsize,\n",
    "    )  # creating the 2 subplots\n",
    "    sns.boxplot(\n",
    "        data=data, x=feature, ax=ax_box2, showmeans=True, color=\"violet\"\n",
    "    )  # boxplot will be created and a star will indicate the mean value of the column\n",
    "    sns.histplot(\n",
    "        data=data, x=feature, kde=kde, ax=ax_hist2, bins=bins, palette=\"winter\"\n",
    "    ) if bins else sns.histplot(\n",
    "        data=data, x=feature, kde=kde, ax=ax_hist2\n",
    "    )  # For histogram\n",
    "    ax_hist2.axvline(\n",
    "        data[feature].mean(), color=\"green\", linestyle=\"--\"\n",
    "    )  # Add mean to the histogram\n",
    "    ax_hist2.axvline(\n",
    "        data[feature].median(), color=\"black\", linestyle=\"-\"\n",
    "    )  # Add median to the histogram"
   ]
  },
  {
   "cell_type": "markdown",
   "metadata": {
    "id": "earlier-peoples"
   },
   "source": [
    "### Observations on fnlwgt"
   ]
  },
  {
   "cell_type": "code",
   "execution_count": 52,
   "metadata": {
    "id": "appropriate-conversion",
    "outputId": "50a44290-af25-4096-91d1-3efa7cdd8106"
   },
   "outputs": [
    {
     "data": {
      "image/png": "[encoded data removed]",
      "text/plain": [
       "<Figure size 864x504 with 2 Axes>"
      ]
     },
     "metadata": {
      "needs_background": "light"
     },
     "output_type": "display_data"
    }
   ],
   "source": [
    "histogram_boxplot(data, \"fnlwgt\", bins=100)"
   ]
  },
  {
   "cell_type": "markdown",
   "metadata": {
    "id": "addressed-stationery"
   },
   "source": [
    "* fnlwght is right-skewed. It has lots of outliers on the right side which we can cap."
   ]
  },
  {
   "cell_type": "markdown",
   "metadata": {
    "id": "fitting-mining"
   },
   "source": [
    "### Observations on hours_per_week"
   ]
  },
  {
   "cell_type": "code",
   "execution_count": 53,
   "metadata": {
    "colab": {
     "base_uri": "https://localhost:8080/",
     "height": 633
    },
    "id": "acting-center",
    "outputId": "7d990ab7-0a70-45a4-e151-3d36d3db45ca"
   },
   "outputs": [
    {
     "data": {
      "image/png": "[encoded data removed]",
      "text/plain": [
       "<Figure size 864x504 with 2 Axes>"
      ]
     },
     "metadata": {
      "needs_background": "light"
     },
     "output_type": "display_data"
    }
   ],
   "source": [
    "histogram_boxplot(data, \"working_hours_per_week\", bins=50)"
   ]
  },
  {
   "cell_type": "markdown",
   "metadata": {
    "id": "global-hughes"
   },
   "source": [
    "* Most of the data is concentrated around 40 working hours this gives a sense that most of the observations in data might be salaried employees working 8hrs 5 days a week.\n",
    "* Some of the observations are clear outliers like working  1 hour a week which needs to be treated."
   ]
  },
  {
   "cell_type": "code",
   "execution_count": 54,
   "metadata": {
    "id": "played-mistake",
    "outputId": "2aa1f476-7dc5-426e-cb7b-943d485f9bc3"
   },
   "outputs": [],
   "source": [
    "# function to create labeled barplots\n",
    "\n",
    "\n",
    "def labeled_barplot(data, feature, perc=False, n=None):\n",
    "    \"\"\"\n",
    "    Barplot with percentage at the top\n",
    "\n",
    "    data: dataframe\n",
    "    feature: dataframe column\n",
    "    perc: whether to display percentages instead of count (default is False)\n",
    "    n: displays the top n category levels (default is None, i.e., display all levels)\n",
    "    \"\"\"\n",
    "\n",
    "    total = len(data[feature])  # length of the column\n",
    "    count = data[feature].nunique()\n",
    "    if n is None:\n",
    "        plt.figure(figsize=(count + 1, 5))\n",
    "    else:\n",
    "        plt.figure(figsize=(n + 1, 5))\n",
    "\n",
    "    plt.xticks(rotation=90, fontsize=15)\n",
    "    ax = sns.countplot(\n",
    "        data=data,\n",
    "        x=feature,\n",
    "        palette=\"Paired\",\n",
    "        order=data[feature].value_counts().index[:n].sort_values(),\n",
    "    )\n",
    "\n",
    "    for p in ax.patches:\n",
    "        if perc == True:\n",
    "            label = \"{:.1f}%\".format(\n",
    "                100 * p.get_height() / total\n",
    "            )  # percentage of each class of the category\n",
    "        else:\n",
    "            label = p.get_height()  # count of each level of the category\n",
    "\n",
    "        x = p.get_x() + p.get_width() / 2  # width of the plot\n",
    "        y = p.get_height()  # height of the plot\n",
    "\n",
    "        ax.annotate(\n",
    "            label,\n",
    "            (x, y),\n",
    "            ha=\"center\",\n",
    "            va=\"center\",\n",
    "            size=12,\n",
    "            xytext=(0, 5),\n",
    "            textcoords=\"offset points\",\n",
    "        )  # annotate the percentage\n",
    "\n",
    "    plt.show()  # show the plot"
   ]
  },
  {
   "cell_type": "markdown",
   "metadata": {
    "id": "liquid-sauce"
   },
   "source": [
    "### Observations on workclass"
   ]
  },
  {
   "cell_type": "code",
   "execution_count": 55,
   "metadata": {
    "id": "radio-parliament",
    "outputId": "7a8414da-4c04-4e70-d2e6-395cb07c7389"
   },
   "outputs": [
    {
     "data": {
      "image/png": "[encoded data removed]",
      "text/plain": [
       "<Figure size 720x360 with 1 Axes>"
      ]
     },
     "metadata": {
      "needs_background": "light"
     },
     "output_type": "display_data"
    }
   ],
   "source": [
    "labeled_barplot(data, \"workclass\", perc=True)"
   ]
  },
  {
   "cell_type": "markdown",
   "metadata": {
    "id": "secondary-scroll"
   },
   "source": [
    "* ~70% of the observations are from the Private sector working class.\n",
    "* As expected from the number of hours per week."
   ]
  },
  {
   "cell_type": "markdown",
   "metadata": {
    "id": "quick-living"
   },
   "source": [
    "### Observations on marital_status"
   ]
  },
  {
   "cell_type": "code",
   "execution_count": 56,
   "metadata": {
    "id": "handy-bangkok",
    "outputId": "ff4f4e64-3e80-4f16-956d-5db76938c865"
   },
   "outputs": [
    {
     "data": {
      "image/png": "[encoded data removed]",
      "text/plain": [
       "<Figure size 288x360 with 1 Axes>"
      ]
     },
     "metadata": {
      "needs_background": "light"
     },
     "output_type": "display_data"
    }
   ],
   "source": [
    "labeled_barplot(data, \"marital_status\", perc=True)"
   ]
  },
  {
   "cell_type": "markdown",
   "metadata": {
    "id": "norman-person"
   },
   "source": [
    "* 46.1% of the observations in the dataset are married followed by 32.8% of the people who never married."
   ]
  },
  {
   "cell_type": "markdown",
   "metadata": {
    "id": "featured-exemption"
   },
   "source": [
    "### Observations on native_country"
   ]
  },
  {
   "cell_type": "code",
   "execution_count": 57,
   "metadata": {
    "id": "received-sailing",
    "outputId": "455c818c-8184-439d-ded7-aa9b49c0e9ed"
   },
   "outputs": [
    {
     "data": {
      "image/png": "[encoded data removed]",
      "text/plain": [
       "<Figure size 432x360 with 1 Axes>"
      ]
     },
     "metadata": {
      "needs_background": "light"
     },
     "output_type": "display_data"
    }
   ],
   "source": [
    "labeled_barplot(data, \"native_country\", perc=True)"
   ]
  },
  {
   "cell_type": "markdown",
   "metadata": {
    "id": "healthy-slide"
   },
   "source": [
    "* 94% of the people are native to north_america followed by 2.1% Asians."
   ]
  },
  {
   "cell_type": "markdown",
   "metadata": {
    "id": "elect-passenger"
   },
   "source": [
    "### Observations on salary"
   ]
  },
  {
   "cell_type": "code",
   "execution_count": 58,
   "metadata": {
    "id": "modular-assist",
    "outputId": "7d859f0c-d5cc-4be5-dc79-9025f41329d2"
   },
   "outputs": [
    {
     "data": {
      "image/png": "[encoded data removed]",
      "text/plain": [
       "<Figure size 216x360 with 1 Axes>"
      ]
     },
     "metadata": {
      "needs_background": "light"
     },
     "output_type": "display_data"
    }
   ],
   "source": [
    "labeled_barplot(data, \"salary\", perc=True)"
   ]
  },
  {
   "cell_type": "markdown",
   "metadata": {
    "id": "spoken-polls"
   },
   "source": [
    "* 24% of the observations have a salary above 50K and while 76% have a salary below 50K"
   ]
  },
  {
   "cell_type": "markdown",
   "metadata": {
    "id": "national-creativity"
   },
   "source": [
    "## Bivariate analysis"
   ]
  },
  {
   "cell_type": "code",
   "execution_count": 59,
   "metadata": {
    "id": "geological-yeast",
    "outputId": "ebf1c329-9e58-4213-f083-475b7d1060f8"
   },
   "outputs": [
    {
     "data": {
      "image/png": "[encoded data removed]",
      "text/plain": [
       "<Figure size 1080x504 with 2 Axes>"
      ]
     },
     "metadata": {
      "needs_background": "light"
     },
     "output_type": "display_data"
    }
   ],
   "source": [
    "plt.figure(figsize=(15, 7))\n",
    "sns.heatmap(data.corr(), annot=True, vmin=-1, vmax=1, fmt=\".2f\", cmap=\"Spectral\")\n",
    "plt.show()"
   ]
  },
  {
   "cell_type": "markdown",
   "metadata": {
    "id": "skilled-tractor"
   },
   "source": [
    "* There is no significant correlation between the columns."
   ]
  },
  {
   "cell_type": "code",
   "execution_count": 60,
   "metadata": {
    "id": "ordinary-short",
    "outputId": "a61ffbed-5253-44fc-a28c-86243db355d0"
   },
   "outputs": [],
   "source": [
    "def stacked_barplot(data, predictor, target):\n",
    "    \"\"\"\n",
    "    Print the category counts and plot a stacked bar chart\n",
    "\n",
    "    data: dataframe\n",
    "    predictor: independent variable\n",
    "    target: target variable\n",
    "    \"\"\"\n",
    "    count = data[predictor].nunique()\n",
    "    sorter = data[target].value_counts().index[-1]\n",
    "    tab1 = pd.crosstab(data[predictor], data[target], margins=True).sort_values(\n",
    "        by=sorter, ascending=False\n",
    "    )\n",
    "    print(tab1)\n",
    "    print(\"-\" * 120)\n",
    "    tab = pd.crosstab(data[predictor], data[target], normalize=\"index\").sort_values(\n",
    "        by=sorter, ascending=False\n",
    "    )\n",
    "    tab.plot(kind=\"bar\", stacked=True, figsize=(count + 5, 5))\n",
    "    plt.legend(\n",
    "        loc=\"lower left\", frameon=False,\n",
    "    )\n",
    "    plt.legend(loc=\"upper left\", bbox_to_anchor=(1, 1))\n",
    "    plt.show()"
   ]
  },
  {
   "cell_type": "code",
   "execution_count": 61,
   "metadata": {
    "id": "supposed-hierarchy",
    "outputId": "2bc0a66c-d0f6-45fd-bb64-0feb993be747"
   },
   "outputs": [
    {
     "name": "stdout",
     "output_type": "stream",
     "text": [
      "salary    <=50K   >50K    All\n",
      "sex                          \n",
      "All       24720   7841  32561\n",
      " Male     15128   6662  21790\n",
      " Female    9592   1179  10771\n",
      "------------------------------------------------------------------------------------------------------------------------\n"
     ]
    },
    {
     "data": {
      "image/png": "[encoded data removed]",
      "text/plain": [
       "<Figure size 504x360 with 1 Axes>"
      ]
     },
     "metadata": {
      "needs_background": "light"
     },
     "output_type": "display_data"
    }
   ],
   "source": [
    "stacked_barplot(data, \"sex\", \"salary\")"
   ]
  },
  {
   "cell_type": "markdown",
   "metadata": {
    "id": "suffering-valley"
   },
   "source": [
    "* ~25% of the males have salary >50K whereas only ~15% of the females have salary >50K.\n",
    "* This shows the pay gap that exists in society and the government should investigate further on it to formulate policy to ensure equal pay."
   ]
  },
  {
   "cell_type": "markdown",
   "metadata": {
    "id": "continuous-reset"
   },
   "source": [
    "### salary vs education"
   ]
  },
  {
   "cell_type": "code",
   "execution_count": 62,
   "metadata": {
    "id": "featured-equation",
    "outputId": "e0753c80-1601-43fe-87ce-b326e1dc7689"
   },
   "outputs": [
    {
     "name": "stdout",
     "output_type": "stream",
     "text": [
      "salary          <=50K   >50K    All\n",
      "education                          \n",
      "All             24720   7841  32561\n",
      " Bachelors       3134   2221   5355\n",
      " HS-grad         8826   1675  10501\n",
      " Some-college    5904   1387   7291\n",
      " Masters          764    959   1723\n",
      " Prof-school      153    423    576\n",
      " Assoc-voc       1021    361   1382\n",
      " Doctorate        107    306    413\n",
      " Assoc-acdm       802    265   1067\n",
      " 10th             871     62    933\n",
      " 11th            1115     60   1175\n",
      " 7th-8th          606     40    646\n",
      " 12th             400     33    433\n",
      " 9th              487     27    514\n",
      " 5th-6th          317     16    333\n",
      " 1st-4th          162      6    168\n",
      " Preschool         51      0     51\n",
      "------------------------------------------------------------------------------------------------------------------------\n"
     ]
    },
    {
     "data": {
      "image/png": "[encoded data removed]",
      "text/plain": [
       "<Figure size 1512x360 with 1 Axes>"
      ]
     },
     "metadata": {
      "needs_background": "light"
     },
     "output_type": "display_data"
    }
   ],
   "source": [
    "stacked_barplot(data, \"education\", \"salary\")"
   ]
  },
  {
   "cell_type": "markdown",
   "metadata": {
    "id": "boxed-diesel"
   },
   "source": [
    "* ~70% of the people of are Doctorate, graduate from Professional school program (Prof-school) have a salary above $50K.\n",
    "* This clearly shows a positive relationship between education and salary, the higher the education higher is the salary."
   ]
  },
  {
   "cell_type": "markdown",
   "metadata": {
    "id": "great-worry"
   },
   "source": [
    "### salary vs occupation"
   ]
  },
  {
   "cell_type": "code",
   "execution_count": 63,
   "metadata": {
    "id": "modified-blink",
    "outputId": "5b9ff31a-40fe-434a-89e8-1adf98a91a3a"
   },
   "outputs": [
    {
     "name": "stdout",
     "output_type": "stream",
     "text": [
      "salary               <=50K   >50K    All\n",
      "occupation                              \n",
      "All                  24720   7841  32561\n",
      " Exec-managerial      2098   1968   4066\n",
      " Prof-specialty       2281   1859   4140\n",
      " Sales                2667    983   3650\n",
      " Craft-repair         3170    929   4099\n",
      " Adm-clerical         3263    507   3770\n",
      " Transport-moving     1277    320   1597\n",
      " Tech-support          645    283    928\n",
      " Machine-op-inspct    1752    250   2002\n",
      " Protective-serv       438    211    649\n",
      "Unknown               1652    191   1843\n",
      " Other-service        3158    137   3295\n",
      " Farming-fishing       879    115    994\n",
      " Handlers-cleaners    1284     86   1370\n",
      " Armed-Forces            8      1      9\n",
      " Priv-house-serv       148      1    149\n",
      "------------------------------------------------------------------------------------------------------------------------\n"
     ]
    },
    {
     "data": {
      "image/png": "[encoded data removed]",
      "text/plain": [
       "<Figure size 1440x360 with 1 Axes>"
      ]
     },
     "metadata": {
      "needs_background": "light"
     },
     "output_type": "display_data"
    }
   ],
   "source": [
    "stacked_barplot(data, \"occupation\", \"salary\")"
   ]
  },
  {
   "cell_type": "markdown",
   "metadata": {
    "id": "affiliated-recipient"
   },
   "source": [
    "- ~50% of the people whose occupation is of Executive Manager, Professor-speciality have a salary above $50,000\n",
    "- People with occupations like Private house service,handlers-cleaners, farming-fishing have a higher likelihood of having below 50K salary."
   ]
  },
  {
   "cell_type": "markdown",
   "metadata": {
    "id": "prepared-tuesday"
   },
   "source": [
    "### salary vs race"
   ]
  },
  {
   "cell_type": "code",
   "execution_count": 64,
   "metadata": {
    "id": "alpine-voluntary",
    "outputId": "f292cff0-2fbd-473f-ddcc-3f64371b0d4b"
   },
   "outputs": [
    {
     "name": "stdout",
     "output_type": "stream",
     "text": [
      "salary                <=50K   >50K    All\n",
      "race                                     \n",
      "All                   24720   7841  32561\n",
      " White                20699   7117  27816\n",
      " Black                 2737    387   3124\n",
      " Asian-Pac-Islander     763    276   1039\n",
      " Amer-Indian-Eskimo     275     36    311\n",
      " Other                  246     25    271\n",
      "------------------------------------------------------------------------------------------------------------------------\n"
     ]
    },
    {
     "data": {
      "image/png": "[encoded data removed]",
      "text/plain": [
       "<Figure size 720x360 with 1 Axes>"
      ]
     },
     "metadata": {
      "needs_background": "light"
     },
     "output_type": "display_data"
    }
   ],
   "source": [
    "stacked_barplot(data, \"race\", \"salary\")"
   ]
  },
  {
   "cell_type": "markdown",
   "metadata": {
    "id": "medium-zoning"
   },
   "source": [
    "* 25% of the White and Asia-Pacific people have a salary more than 50K salary as compared to people from other race."
   ]
  },
  {
   "cell_type": "markdown",
   "metadata": {
    "id": "optical-samuel"
   },
   "source": [
    "### salary vs workclass"
   ]
  },
  {
   "cell_type": "code",
   "execution_count": 65,
   "metadata": {
    "id": "induced-bargain",
    "outputId": "fb7ba3d7-b9d2-4826-9246-34d22e3e71f7"
   },
   "outputs": [
    {
     "name": "stdout",
     "output_type": "stream",
     "text": [
      "salary              <=50K   >50K    All\n",
      "workclass                              \n",
      "All                 24720   7841  32561\n",
      " Private            17733   4963  22696\n",
      " Self-emp-not-inc    1817    724   2541\n",
      " Self-emp-inc         494    622   1116\n",
      " Local-gov           1476    617   2093\n",
      " Federal-gov          589    371    960\n",
      " State-gov            945    353   1298\n",
      "Unknown              1645    191   1836\n",
      " Never-worked           7      0      7\n",
      " Without-pay           14      0     14\n",
      "------------------------------------------------------------------------------------------------------------------------\n"
     ]
    },
    {
     "data": {
      "image/png": "[encoded data removed]",
      "text/plain": [
       "<Figure size 1008x360 with 1 Axes>"
      ]
     },
     "metadata": {
      "needs_background": "light"
     },
     "output_type": "display_data"
    }
   ],
   "source": [
    "stacked_barplot(data, \"workclass\", \"salary\")"
   ]
  },
  {
   "cell_type": "markdown",
   "metadata": {
    "id": "laden-touch"
   },
   "source": [
    "* ~50% of the self-employed people have a salary above 50K followed by ~40% of the federal govt employee who has salary more than 50K.\n",
    "* ~20% of the people working in the private sector earn more than 50K."
   ]
  },
  {
   "cell_type": "markdown",
   "metadata": {
    "id": "welcome-afternoon"
   },
   "source": [
    "### salary vs marital_status"
   ]
  },
  {
   "cell_type": "code",
   "execution_count": 66,
   "metadata": {
    "id": "objective-client",
    "outputId": "eafbc7aa-4152-4c7a-d5a4-d41adc5c83fd"
   },
   "outputs": [
    {
     "name": "stdout",
     "output_type": "stream",
     "text": [
      "salary           <=50K   >50K    All\n",
      "marital_status                      \n",
      "All              24720   7841  32561\n",
      "married           8297   6702  14999\n",
      "not_married       6231    648   6879\n",
      "Never-married    10192    491  10683\n",
      "------------------------------------------------------------------------------------------------------------------------\n"
     ]
    },
    {
     "data": {
      "image/png": "[encoded data removed]",
      "text/plain": [
       "<Figure size 576x360 with 1 Axes>"
      ]
     },
     "metadata": {
      "needs_background": "light"
     },
     "output_type": "display_data"
    }
   ],
   "source": [
    "stacked_barplot(data, \"marital_status\", \"salary\")"
   ]
  },
  {
   "cell_type": "markdown",
   "metadata": {
    "id": "built-escape"
   },
   "source": [
    "* Married people have a higher likelihood of getting a salary above 50K compared to Never Married and Not married people."
   ]
  },
  {
   "cell_type": "code",
   "execution_count": 67,
   "metadata": {
    "id": "clean-harvey",
    "outputId": "28264fa0-9b11-4fb7-9721-e6e861cd00d4"
   },
   "outputs": [],
   "source": [
    "### function to plot distributions wrt target\n",
    "\n",
    "\n",
    "def distribution_plot_wrt_target(data, predictor, target):\n",
    "\n",
    "    fig, axs = plt.subplots(2, 2, figsize=(12, 10))\n",
    "\n",
    "    target_uniq = data[target].unique()\n",
    "\n",
    "    axs[0, 0].set_title(\"Distribution of target for target=\" + str(target_uniq[0]))\n",
    "    sns.histplot(\n",
    "        data=data[data[target] == target_uniq[0]],\n",
    "        x=predictor,\n",
    "        kde=True,\n",
    "        ax=axs[0, 0],\n",
    "        color=\"teal\",\n",
    "        stat=\"density\",\n",
    "    )\n",
    "\n",
    "    axs[0, 1].set_title(\"Distribution of target for target=\" + str(target_uniq[1]))\n",
    "    sns.histplot(\n",
    "        data=data[data[target] == target_uniq[1]],\n",
    "        x=predictor,\n",
    "        kde=True,\n",
    "        ax=axs[0, 1],\n",
    "        color=\"orange\",\n",
    "        stat=\"density\",\n",
    "    )\n",
    "\n",
    "    axs[1, 0].set_title(\"Boxplot w.r.t target\")\n",
    "    sns.boxplot(data=data, x=target, y=predictor, ax=axs[1, 0], palette=\"gist_rainbow\")\n",
    "\n",
    "    axs[1, 1].set_title(\"Boxplot (without outliers) w.r.t target\")\n",
    "    sns.boxplot(\n",
    "        data=data,\n",
    "        x=target,\n",
    "        y=predictor,\n",
    "        ax=axs[1, 1],\n",
    "        showfliers=False,\n",
    "        palette=\"gist_rainbow\",\n",
    "    )\n",
    "\n",
    "    plt.tight_layout()\n",
    "    plt.show()"
   ]
  },
  {
   "cell_type": "markdown",
   "metadata": {
    "id": "verbal-elder"
   },
   "source": [
    "### salary vs age"
   ]
  },
  {
   "cell_type": "code",
   "execution_count": 68,
   "metadata": {
    "id": "cardiovascular-twenty",
    "outputId": "6771be47-b83f-477b-b5c5-1cf7127a6164",
    "scrolled": false
   },
   "outputs": [
    {
     "data": {
      "image/png": "[encoded data removed]",
      "text/plain": [
       "<Figure size 864x720 with 4 Axes>"
      ]
     },
     "metadata": {
      "needs_background": "light"
     },
     "output_type": "display_data"
    }
   ],
   "source": [
    "distribution_plot_wrt_target(data, \"age\", \"salary\")"
   ]
  },
  {
   "cell_type": "markdown",
   "metadata": {
    "id": "thorough-limit"
   },
   "source": [
    "* People who more than 50K salary are generally older having an average age of around 48 years.\n",
    "* People who have less than 50K salary have an average age of around 36."
   ]
  },
  {
   "cell_type": "markdown",
   "metadata": {
    "id": "empirical-density"
   },
   "source": [
    "### salary vs working_hours_per_week"
   ]
  },
  {
   "cell_type": "code",
   "execution_count": 69,
   "metadata": {
    "colab": {
     "base_uri": "https://localhost:8080/",
     "height": 487
    },
    "id": "latest-matrix",
    "outputId": "f062e838-197e-467e-ba65-b41167656e17"
   },
   "outputs": [
    {
     "data": {
      "image/png": "[encoded data removed]",
      "text/plain": [
       "<Figure size 864x720 with 4 Axes>"
      ]
     },
     "metadata": {
      "needs_background": "light"
     },
     "output_type": "display_data"
    }
   ],
   "source": [
    "distribution_plot_wrt_target(data, \"working_hours_per_week\", \"salary\")"
   ]
  },
  {
   "cell_type": "markdown",
   "metadata": {
    "id": "binary-sensitivity"
   },
   "source": [
    "* Majority of people having above 50K salary work around 40 hours per week.\n",
    "* Those having >50K salary have a higher range of working hours as compared to the ones with <=50K, but there are outliers present."
   ]
  },
  {
   "cell_type": "code",
   "execution_count": 70,
   "metadata": {
    "id": "vietnamese-depression",
    "outputId": "a8b9fb76-8947-4542-a376-45b261988fb1"
   },
   "outputs": [
    {
     "data": {
      "image/png": "[encoded data removed]",
      "text/plain": [
       "<Figure size 1080x864 with 1 Axes>"
      ]
     },
     "metadata": {
      "needs_background": "light"
     },
     "output_type": "display_data"
    }
   ],
   "source": [
    "# lets see how working hours per week vary across different occupation\n",
    "plt.figure(figsize=(15, 12))\n",
    "sns.boxplot(\n",
    "    y=\"workclass\", x=\"working_hours_per_week\", data=data, hue=\"salary\", showfliers=False\n",
    ")\n",
    "plt.show()"
   ]
  },
  {
   "cell_type": "markdown",
   "metadata": {
    "id": "formed-auction"
   },
   "source": [
    "* Private sector employees work for more hours to get a salary above 50K.\n",
    "* There's large variability in the working hours of self-employed people which makes sense as they might be working at their ease.\n",
    "* Without pay and never worked will have no income or less than 50K income.\n",
    "* The number of working hours for many government employees is concentrated at 40 hrs a week, which makes sense as government employees generally have fixed working hours."
   ]
  },
  {
   "cell_type": "markdown",
   "metadata": {
    "id": "dominant-maple"
   },
   "source": [
    "### <a id='link1'>Summary of EDA</a>\n",
    "**Data Description:**\n",
    "\n",
    "* Dependent variable is the salary which is of categorical data type.\n",
    "* age, capital gain, and capital loss are of integer type while other variables are of categorical type\n",
    "* There are no missing values in the dataset.\n",
    "\n",
    "**Data Cleaning:**\n",
    "\n",
    "* We observed that all the observations where workclass = ? the values in the occupation are ? \n",
    "* The strong pattern between workclass and occupation makes sense as both of these variables capture similar information.\n",
    "* There is no strong correlation of ? observations in occupation and workclass with native_country.\n",
    "* For now we will replaced these ?'s with the 'unknown' category.\n",
    "* There are 42 distinct countries in the data set, which were reduced to their respective continents to reduce the dimension of data and we now have only 5 distinct values in the data.\n",
    "* We reduced the distinct groups of marital_status to three categories: Married, Not-Married and Never-Married.\n",
    "\n",
    "**Observations from EDA:**\n",
    "\n",
    "* `age`: Average age of people in the dataset is 38 years, age has a wide range from 17 to 90 years.\n",
    "* `education_no_of_years`: The average education in years is 10 years. There's a large difference between the minimum value and 25th percentile which indicates that there might be outliers present in this variable.\n",
    "* `capital_gain`: There's a huge difference in the 75th percentile and maximum value of capital_gain indicating the presence of outliers. Also, 75% of the observations are 0.\n",
    "* `capital_loss`: Same as capital gain there's a huge difference in the 75th percentile and maximum value indicating the presence of outliers. Also, 75% of the observations are 0.\n",
    "* `working_hours_per_week`: On average people work for 40 hours a week. A vast difference in minimum value and 25th percentile, as well as 75th percentile and the maximum value, indicates that there might be outliers present in the variable.\n",
    "* `fnlwght`: fnlwght is right-skewed. It has lots of outliers on the right side which we can cap.\n",
    "* `working_hours_per_week`: Most of the data is concentrated around 40 working hours this gives a sense that most of the observations in data might be salaried employees working 8hrs 5 days a week. Some of the observations are clear outliers like working  1 hour a week which needs to be treated.\n",
    "* `workclass`: ~70% of the observations are from the Private sector working class.\n",
    "* `marita_status`: 47.3% of the observations in the dataset are married followed by 32.8% of the people who never married.\n",
    "* `race`: * 94% of the people are native to north_america followed by 2.1% Asians.\n",
    "* `salary vs sex`: ~25% of the males have salary >50K whereas only ~15% of the females have salary >50K.\n",
    "* `salary vs occupation`: - ~50% of the people whose occupation is of Executive Manager, Professor-speciality have a salary above 50,000 dollars. People with occupations like Private house service,handlers-cleaners, farming-fishing have a higher likelihood of having below 50K salary.\n",
    "* `salary vs education`: ~70% of the people of are Doctorate, graduate from Professional school program (Prof-school) have a salary above 50K dollars\n",
    "* `salary vs workclass`: ~50% of the self-employed people have a salary above 50K followed by ~40% of the federal govt employee who has salary more than 50K. ~20% of the people working in the private sector earn more than 50K.\n",
    "* `salary vs working_hours_per_week`: Majority of people having above 50K salary work around 40 hours per week.\n",
    "* Private sector employees work for more hours to get a salary above 50K.\n",
    "* There's large variability in the working hours of self-employed people which makes sense as they might be working at their ease."
   ]
  },
  {
   "cell_type": "markdown",
   "metadata": {
    "id": "daaf3750"
   },
   "source": [
    "### Actions for data pre-processing:\n",
    "\n",
    "* Many variables have outliers that need to be treated.\n",
    "* We can drop capital_gain and capital_loss as most of the observations are 0 in these variables, and if the government already knows a person's capital gain or loss it will be easier for them to classify a person into a salary group."
   ]
  },
  {
   "cell_type": "markdown",
   "metadata": {
    "id": "strong-spain"
   },
   "source": [
    "### Data Pre-Processing"
   ]
  },
  {
   "cell_type": "markdown",
   "metadata": {
    "id": "german-assessment"
   },
   "source": [
    "* Dropping capital_gain and capital_loss\n",
    "* There are many outliers in the data which we will treat (perform capping of outliers).\n",
    "* All the values smaller than the lower whisker will be assigned the value of the lower whisker, and all the values above the upper whisker will be assigned the value of the upper whisker."
   ]
  },
  {
   "cell_type": "markdown",
   "metadata": {
    "id": "fifty-lottery"
   },
   "source": [
    "**Dropping capital_gain and capital_loss**"
   ]
  },
  {
   "cell_type": "code",
   "execution_count": 71,
   "metadata": {
    "id": "identified-class",
    "outputId": "ce80aac3-e3c4-4d40-9b29-8dab2279520f"
   },
   "outputs": [],
   "source": [
    "data.drop([\"capital_gain\", \"capital_loss\"], axis=1, inplace=True)"
   ]
  },
  {
   "cell_type": "markdown",
   "metadata": {
    "id": "seasonal-catalyst"
   },
   "source": [
    "**Outliers detection using boxplot**"
   ]
  },
  {
   "cell_type": "code",
   "execution_count": 72,
   "metadata": {
    "colab": {
     "base_uri": "https://localhost:8080/",
     "height": 774
    },
    "id": "national-transsexual",
    "outputId": "679650a3-78e6-4bf8-c93a-b7f5f1c49be6"
   },
   "outputs": [
    {
     "data": {
      "image/png": "[encoded data removed]",
      "text/plain": [
       "<Figure size 1440x2160 with 4 Axes>"
      ]
     },
     "metadata": {
      "needs_background": "light"
     },
     "output_type": "display_data"
    }
   ],
   "source": [
    "numerical_col = data.select_dtypes(include=np.number).columns.tolist()\n",
    "plt.figure(figsize=(20, 30))\n",
    "\n",
    "for i, variable in enumerate(numerical_col):\n",
    "    plt.subplot(5, 4, i + 1)\n",
    "    plt.boxplot(data[variable], whis=1.5)\n",
    "    plt.tight_layout()\n",
    "    plt.title(variable)\n",
    "\n",
    "plt.show()"
   ]
  },
  {
   "cell_type": "code",
   "execution_count": null,
   "metadata": {},
   "outputs": [],
   "source": []
  },
  {
   "cell_type": "markdown",
   "metadata": {
    "id": "annual-penalty"
   },
   "source": [
    "* Age and fnlwgt have upper outliers. \n",
    "* education_no_years has lower outliers. \n",
    "* working_hours_per_week has both upper and lower outliers."
   ]
  },
  {
   "cell_type": "markdown",
   "metadata": {
    "id": "matched-field"
   },
   "source": [
    "### Treating Outliers"
   ]
  },
  {
   "cell_type": "code",
   "execution_count": 73,
   "metadata": {
    "id": "tested-status",
    "outputId": "ccde7d5b-d48f-4e8e-b7e9-b572c6865081"
   },
   "outputs": [],
   "source": [
    "# functions to treat outliers by flooring and capping\n",
    "\n",
    "\n",
    "def treat_outliers(df, col):\n",
    "    \"\"\"\n",
    "    Treats outliers in a variable\n",
    "\n",
    "    df: dataframe\n",
    "    col: dataframe column\n",
    "    \"\"\"\n",
    "    Q1 = df[col].quantile(0.25)  # 25th quantile\n",
    "    Q3 = df[col].quantile(0.75)  # 75th quantile\n",
    "    IQR = Q3 - Q1\n",
    "    Lower_Whisker = Q1 - 1.5 * IQR\n",
    "    Upper_Whisker = Q3 + 1.5 * IQR\n",
    "\n",
    "    # all the values smaller than Lower_Whisker will be assigned the value of Lower_Whisker\n",
    "    # all the values greater than Upper_Whisker will be assigned the value of Upper_Whisker\n",
    "    df[col] = np.clip(df[col], Lower_Whisker, Upper_Whisker)\n",
    "\n",
    "    return df\n",
    "\n",
    "\n",
    "def treat_outliers_all(df, col_list):\n",
    "    \"\"\"\n",
    "    Treat outliers in a list of variables\n",
    "\n",
    "    df: dataframe\n",
    "    col_list: list of dataframe columns\n",
    "    \"\"\"\n",
    "    for c in col_list:\n",
    "        df = treat_outliers(df, c)\n",
    "\n",
    "    return df"
   ]
  },
  {
   "cell_type": "code",
   "execution_count": 74,
   "metadata": {
    "id": "ordinary-recruitment",
    "outputId": "23d546a6-327d-440d-e8be-31af831ce06c"
   },
   "outputs": [],
   "source": [
    "numerical_col = data.select_dtypes(include=np.number).columns.tolist()\n",
    "data = treat_outliers_all(data, numerical_col)"
   ]
  },
  {
   "cell_type": "code",
   "execution_count": 75,
   "metadata": {
    "id": "rocky-limitation",
    "outputId": "c01467ee-bf5d-4274-c3ad-e42ec0eb669d"
   },
   "outputs": [
    {
     "data": {
      "image/png": "[encoded data removed]",
      "text/plain": [
       "<Figure size 1440x2160 with 4 Axes>"
      ]
     },
     "metadata": {
      "needs_background": "light"
     },
     "output_type": "display_data"
    }
   ],
   "source": [
    "# let's look at box plot to see if outliers have been treated or not\n",
    "plt.figure(figsize=(20, 30))\n",
    "\n",
    "for i, variable in enumerate(numerical_col):\n",
    "    plt.subplot(5, 4, i + 1)\n",
    "    plt.boxplot(data[variable], whis=1.5)\n",
    "    plt.tight_layout()\n",
    "    plt.title(variable)\n",
    "\n",
    "plt.show()"
   ]
  },
  {
   "cell_type": "markdown",
   "metadata": {
    "id": "prescribed-focus"
   },
   "source": [
    "### Data Preparation"
   ]
  },
  {
   "cell_type": "markdown",
   "metadata": {
    "id": "cellular-david"
   },
   "source": [
    "**Encoding >50K as 0 and <=50K as 1 as government wants to find underprivileged section of society.**"
   ]
  },
  {
   "cell_type": "code",
   "execution_count": 76,
   "metadata": {
    "id": "purple-annotation",
    "outputId": "70260704-8f81-4cf7-fa15-12e53ea2ea9e"
   },
   "outputs": [],
   "source": [
    "data[\"salary\"] = data[\"salary\"].apply(lambda x: 1 if x == \" <=50K\" else 0)"
   ]
  },
  {
   "cell_type": "code",
   "execution_count": 119,
   "metadata": {},
   "outputs": [
    {
     "data": {
      "text/html": [
       "<div>\n",
       "<style scoped>\n",
       "    .dataframe tbody tr th:only-of-type {\n",
       "        vertical-align: middle;\n",
       "    }\n",
       "\n",
       "    .dataframe tbody tr th {\n",
       "        vertical-align: top;\n",
       "    }\n",
       "\n",
       "    .dataframe thead th {\n",
       "        text-align: right;\n",
       "    }\n",
       "</style>\n",
       "<table border=\"1\" class=\"dataframe\">\n",
       "  <thead>\n",
       "    <tr style=\"text-align: right;\">\n",
       "      <th></th>\n",
       "      <th>age</th>\n",
       "      <th>workclass</th>\n",
       "      <th>fnlwgt</th>\n",
       "      <th>education</th>\n",
       "      <th>education_no_of_years</th>\n",
       "      <th>marital_status</th>\n",
       "      <th>occupation</th>\n",
       "      <th>relationship</th>\n",
       "      <th>race</th>\n",
       "      <th>sex</th>\n",
       "      <th>working_hours_per_week</th>\n",
       "      <th>native_country</th>\n",
       "      <th>salary</th>\n",
       "    </tr>\n",
       "  </thead>\n",
       "  <tbody>\n",
       "    <tr>\n",
       "      <th>0</th>\n",
       "      <td>39</td>\n",
       "      <td>State-gov</td>\n",
       "      <td>77516</td>\n",
       "      <td>Bachelors</td>\n",
       "      <td>13.0</td>\n",
       "      <td>Never-married</td>\n",
       "      <td>Adm-clerical</td>\n",
       "      <td>Not-in-family</td>\n",
       "      <td>White</td>\n",
       "      <td>Male</td>\n",
       "      <td>40.0</td>\n",
       "      <td>north_america</td>\n",
       "      <td>1</td>\n",
       "    </tr>\n",
       "    <tr>\n",
       "      <th>1</th>\n",
       "      <td>50</td>\n",
       "      <td>Self-emp-not-inc</td>\n",
       "      <td>83311</td>\n",
       "      <td>Bachelors</td>\n",
       "      <td>13.0</td>\n",
       "      <td>married</td>\n",
       "      <td>Exec-managerial</td>\n",
       "      <td>Husband</td>\n",
       "      <td>White</td>\n",
       "      <td>Male</td>\n",
       "      <td>32.5</td>\n",
       "      <td>north_america</td>\n",
       "      <td>1</td>\n",
       "    </tr>\n",
       "    <tr>\n",
       "      <th>2</th>\n",
       "      <td>38</td>\n",
       "      <td>Private</td>\n",
       "      <td>215646</td>\n",
       "      <td>HS-grad</td>\n",
       "      <td>9.0</td>\n",
       "      <td>not_married</td>\n",
       "      <td>Handlers-cleaners</td>\n",
       "      <td>Not-in-family</td>\n",
       "      <td>White</td>\n",
       "      <td>Male</td>\n",
       "      <td>40.0</td>\n",
       "      <td>north_america</td>\n",
       "      <td>1</td>\n",
       "    </tr>\n",
       "    <tr>\n",
       "      <th>3</th>\n",
       "      <td>53</td>\n",
       "      <td>Private</td>\n",
       "      <td>234721</td>\n",
       "      <td>11th</td>\n",
       "      <td>7.0</td>\n",
       "      <td>married</td>\n",
       "      <td>Handlers-cleaners</td>\n",
       "      <td>Husband</td>\n",
       "      <td>Black</td>\n",
       "      <td>Male</td>\n",
       "      <td>40.0</td>\n",
       "      <td>north_america</td>\n",
       "      <td>1</td>\n",
       "    </tr>\n",
       "    <tr>\n",
       "      <th>4</th>\n",
       "      <td>28</td>\n",
       "      <td>Private</td>\n",
       "      <td>338409</td>\n",
       "      <td>Bachelors</td>\n",
       "      <td>13.0</td>\n",
       "      <td>married</td>\n",
       "      <td>Prof-specialty</td>\n",
       "      <td>Wife</td>\n",
       "      <td>Black</td>\n",
       "      <td>Female</td>\n",
       "      <td>40.0</td>\n",
       "      <td>north_america</td>\n",
       "      <td>1</td>\n",
       "    </tr>\n",
       "  </tbody>\n",
       "</table>\n",
       "</div>"
      ],
      "text/plain": [
       "   age          workclass  fnlwgt   education  education_no_of_years  \\\n",
       "0   39          State-gov   77516   Bachelors                   13.0   \n",
       "1   50   Self-emp-not-inc   83311   Bachelors                   13.0   \n",
       "2   38            Private  215646     HS-grad                    9.0   \n",
       "3   53            Private  234721        11th                    7.0   \n",
       "4   28            Private  338409   Bachelors                   13.0   \n",
       "\n",
       "  marital_status          occupation    relationship    race      sex  \\\n",
       "0  Never-married        Adm-clerical   Not-in-family   White     Male   \n",
       "1        married     Exec-managerial         Husband   White     Male   \n",
       "2    not_married   Handlers-cleaners   Not-in-family   White     Male   \n",
       "3        married   Handlers-cleaners         Husband   Black     Male   \n",
       "4        married      Prof-specialty            Wife   Black   Female   \n",
       "\n",
       "   working_hours_per_week native_country  salary  \n",
       "0                    40.0  north_america       1  \n",
       "1                    32.5  north_america       1  \n",
       "2                    40.0  north_america       1  \n",
       "3                    40.0  north_america       1  \n",
       "4                    40.0  north_america       1  "
      ]
     },
     "execution_count": 119,
     "metadata": {},
     "output_type": "execute_result"
    }
   ],
   "source": [
    "data.head()"
   ]
  },
  {
   "cell_type": "markdown",
   "metadata": {
    "id": "lesbian-soldier"
   },
   "source": [
    "**Creating training and test sets.**"
   ]
  },
  {
   "cell_type": "code",
   "execution_count": 77,
   "metadata": {
    "id": "metallic-latex",
    "outputId": "bf02bf4a-ff11-467e-8e03-bfe803685f75"
   },
   "outputs": [],
   "source": [
    "X = data.drop([\"salary\"], axis=1)\n",
    "Y = data[\"salary\"]\n",
    "\n",
    "X = pd.get_dummies(X, drop_first=True)\n",
    "\n",
    "# Splitting data in train and test sets\n",
    "X_train, X_test, y_train, y_test = train_test_split(\n",
    "    X, Y, test_size=0.30, random_state=1\n",
    ")"
   ]
  },
  {
   "cell_type": "code",
   "execution_count": 78,
   "metadata": {
    "id": "organized-worth",
    "outputId": "4160c9f5-b16b-4f7a-a966-e3c943518b09"
   },
   "outputs": [
    {
     "name": "stdout",
     "output_type": "stream",
     "text": [
      "Shape of Training set :  (22792, 57)\n",
      "Shape of test set :  (9769, 57)\n",
      "Percentage of classes in training set:\n",
      "1    0.753335\n",
      "0    0.246665\n",
      "Name: salary, dtype: float64\n",
      "Percentage of classes in test set:\n",
      "1    0.772853\n",
      "0    0.227147\n",
      "Name: salary, dtype: float64\n"
     ]
    }
   ],
   "source": [
    "print(\"Shape of Training set : \", X_train.shape)\n",
    "print(\"Shape of test set : \", X_test.shape)\n",
    "print(\"Percentage of classes in training set:\")\n",
    "print(y_train.value_counts(normalize=True))\n",
    "print(\"Percentage of classes in test set:\")\n",
    "print(y_test.value_counts(normalize=True))"
   ]
  },
  {
   "cell_type": "markdown",
   "metadata": {
    "id": "developing-survival"
   },
   "source": [
    "### Building the model"
   ]
  },
  {
   "cell_type": "markdown",
   "metadata": {
    "id": "elect-domain"
   },
   "source": [
    "### Model evaluation criterion\n",
    "\n",
    "### Model can make wrong predictions as:\n",
    "1. Predicting a person has a salary <=50K but in reality the salary of the person is >50K.\n",
    "2. Predicting a person doesn't have a salary <=50K but in reality the salary of the person is <=50k.\n",
    "\n",
    "### Which case is more important? \n",
    "* Both the cases are important as:\n",
    "\n",
    "* If we predict a person has a salary <=50K but actually the salary is >50K then a wrong person will be getting the benefits of the scheme and government might lose resources.\n",
    "\n",
    "* If we predict a person doesn't have a salary <=50K but actually the salary is <=50K that person will not be able to avail the benefits of the scheme constituting to opportunity loss.\n",
    "\n",
    "\n",
    "### How to reduce this loss i.e need to reduce False Negatives?\n",
    "*  `f1_score` should be maximized, the greater the f1_score higher the chances of identifying both the classes correctly."
   ]
  },
  {
   "cell_type": "markdown",
   "metadata": {
    "id": "industrial-merchant"
   },
   "source": [
    "#### First, let's create functions to calculate different metrics and confusion matrix so that we don't have to use the same code repeatedly for each model.\n",
    "* The model_performance_classification_sklearn_with_threshold function will be used to check the model performance of models. \n",
    "* The confusion_matrix_sklearn_with_threshold function will be used to plot confusion matrix."
   ]
  },
  {
   "cell_type": "code",
   "execution_count": 79,
   "metadata": {
    "id": "pregnant-madagascar",
    "outputId": "ecfe8f0d-7aba-4949-d66d-31bb0f3cacd7"
   },
   "outputs": [],
   "source": [
    "# defining a function to compute different metrics to check performance of a classification model built using sklearn\n",
    "\n",
    "def model_performance_classification_sklearn_with_threshold(model, predictors, target, threshold=0.5):\n",
    "    \"\"\"\n",
    "    Function to compute different metrics, based on the threshold specified, to check classification model performance\n",
    "\n",
    "    model: classifier\n",
    "    predictors: independent variables\n",
    "    target: dependent variable\n",
    "    threshold: threshold for classifying the observation as class 1\n",
    "    \"\"\"\n",
    "\n",
    "    # predicting using the independent variables\n",
    "    pred_prob = model.predict_proba(predictors)[:, 1]\n",
    "    pred_thres = pred_prob > threshold\n",
    "    pred = np.round(pred_thres)\n",
    "\n",
    "    acc = accuracy_score(target, pred)  # to compute Accuracy\n",
    "    recall = recall_score(target, pred)  # to compute Recall\n",
    "    precision = precision_score(target, pred)  # to compute Precision\n",
    "    f1 = f1_score(target, pred)  # to compute F1-score\n",
    "\n",
    "    # creating a dataframe of metrics\n",
    "    df_perf = pd.DataFrame(\n",
    "        {\n",
    "            \"Accuracy\": acc,\n",
    "            \"Recall\": recall,\n",
    "            \"Precision\": precision,\n",
    "            \"F1\": f1,\n",
    "        },\n",
    "        index=[0],\n",
    "    )\n",
    "\n",
    "    return df_perf\n"
   ]
  },
  {
   "cell_type": "code",
   "execution_count": 80,
   "metadata": {
    "id": "adjacent-community",
    "outputId": "7ee1dd55-c856-4fd7-b4e7-3cd0bd79eee6"
   },
   "outputs": [],
   "source": [
    "# defining a function to plot the confusion_matrix of a classification model built using sklearn\n",
    "def confusion_matrix_sklearn_with_threshold(model, predictors, target, threshold=0.5):\n",
    "    \"\"\"\n",
    "    To plot the confusion_matrix, based on the threshold specified, with percentages\n",
    "\n",
    "    model: classifier\n",
    "    predictors: independent variables\n",
    "    target: dependent variable\n",
    "    threshold: threshold for classifying the observation as class 1\n",
    "    \"\"\"\n",
    "    pred_prob = model.predict_proba(predictors)[:, 1]\n",
    "    pred_thres = pred_prob > threshold\n",
    "    y_pred = np.round(pred_thres)\n",
    "\n",
    "    cm = confusion_matrix(target, y_pred)\n",
    "    labels = np.asarray(\n",
    "        [\n",
    "            [\"{0:0.0f}\".format(item) + \"\\n{0:.2%}\".format(item / cm.flatten().sum())]\n",
    "            for item in cm.flatten()\n",
    "        ]\n",
    "    ).reshape(2, 2)\n",
    "\n",
    "    plt.figure(figsize=(6, 4))\n",
    "    sns.heatmap(cm, annot=labels, fmt=\"\")\n",
    "    plt.ylabel(\"True label\")\n",
    "    plt.xlabel(\"Predicted label\")"
   ]
  },
  {
   "cell_type": "markdown",
   "metadata": {
    "id": "waiting-clinic"
   },
   "source": [
    "### Logistic Regression"
   ]
  },
  {
   "cell_type": "code",
   "execution_count": 81,
   "metadata": {
    "id": "judicial-acrylic",
    "outputId": "27a6521f-072d-4c3f-816e-467909968f0d"
   },
   "outputs": [],
   "source": [
    "# There are different solvers available in Sklearn logistic regression\n",
    "# The newton-cg solver is faster for high-dimensional data\n",
    "\n",
    "lg = LogisticRegression(solver=\"newton-cg\", random_state=1)\n",
    "model = lg.fit(X_train, y_train)"
   ]
  },
  {
   "cell_type": "markdown",
   "metadata": {
    "id": "other-ministry"
   },
   "source": [
    "### Finding the coefficients"
   ]
  },
  {
   "cell_type": "code",
   "execution_count": 82,
   "metadata": {
    "id": "federal-fiction",
    "outputId": "1cb606a8-cc99-4c9b-f311-f14ed2f78867"
   },
   "outputs": [
    {
     "data": {
      "text/html": [
       "<div>\n",
       "<style scoped>\n",
       "    .dataframe tbody tr th:only-of-type {\n",
       "        vertical-align: middle;\n",
       "    }\n",
       "\n",
       "    .dataframe tbody tr th {\n",
       "        vertical-align: top;\n",
       "    }\n",
       "\n",
       "    .dataframe thead th {\n",
       "        text-align: right;\n",
       "    }\n",
       "</style>\n",
       "<table border=\"1\" class=\"dataframe\">\n",
       "  <thead>\n",
       "    <tr style=\"text-align: right;\">\n",
       "      <th></th>\n",
       "      <th>age</th>\n",
       "      <th>fnlwgt</th>\n",
       "      <th>education_no_of_years</th>\n",
       "      <th>working_hours_per_week</th>\n",
       "      <th>workclass_ Local-gov</th>\n",
       "      <th>workclass_ Never-worked</th>\n",
       "      <th>workclass_ Private</th>\n",
       "      <th>workclass_ Self-emp-inc</th>\n",
       "      <th>workclass_ Self-emp-not-inc</th>\n",
       "      <th>workclass_ State-gov</th>\n",
       "      <th>workclass_ Without-pay</th>\n",
       "      <th>workclass_Unknown</th>\n",
       "      <th>education_ 11th</th>\n",
       "      <th>education_ 12th</th>\n",
       "      <th>education_ 1st-4th</th>\n",
       "      <th>education_ 5th-6th</th>\n",
       "      <th>education_ 7th-8th</th>\n",
       "      <th>education_ 9th</th>\n",
       "      <th>education_ Assoc-acdm</th>\n",
       "      <th>education_ Assoc-voc</th>\n",
       "      <th>education_ Bachelors</th>\n",
       "      <th>education_ Doctorate</th>\n",
       "      <th>education_ HS-grad</th>\n",
       "      <th>education_ Masters</th>\n",
       "      <th>education_ Preschool</th>\n",
       "      <th>education_ Prof-school</th>\n",
       "      <th>education_ Some-college</th>\n",
       "      <th>marital_status_married</th>\n",
       "      <th>marital_status_not_married</th>\n",
       "      <th>occupation_ Armed-Forces</th>\n",
       "      <th>occupation_ Craft-repair</th>\n",
       "      <th>occupation_ Exec-managerial</th>\n",
       "      <th>occupation_ Farming-fishing</th>\n",
       "      <th>occupation_ Handlers-cleaners</th>\n",
       "      <th>occupation_ Machine-op-inspct</th>\n",
       "      <th>occupation_ Other-service</th>\n",
       "      <th>occupation_ Priv-house-serv</th>\n",
       "      <th>occupation_ Prof-specialty</th>\n",
       "      <th>occupation_ Protective-serv</th>\n",
       "      <th>occupation_ Sales</th>\n",
       "      <th>occupation_ Tech-support</th>\n",
       "      <th>occupation_ Transport-moving</th>\n",
       "      <th>occupation_Unknown</th>\n",
       "      <th>relationship_ Not-in-family</th>\n",
       "      <th>relationship_ Other-relative</th>\n",
       "      <th>relationship_ Own-child</th>\n",
       "      <th>relationship_ Unmarried</th>\n",
       "      <th>relationship_ Wife</th>\n",
       "      <th>race_ Asian-Pac-Islander</th>\n",
       "      <th>race_ Black</th>\n",
       "      <th>race_ Other</th>\n",
       "      <th>race_ White</th>\n",
       "      <th>sex_ Male</th>\n",
       "      <th>native_country_europe</th>\n",
       "      <th>native_country_north_america</th>\n",
       "      <th>native_country_other</th>\n",
       "      <th>native_country_south_america</th>\n",
       "      <th>Intercept</th>\n",
       "    </tr>\n",
       "  </thead>\n",
       "  <tbody>\n",
       "    <tr>\n",
       "      <th>Coefficients</th>\n",
       "      <td>-0.029398</td>\n",
       "      <td>-8.480678e-07</td>\n",
       "      <td>-0.287651</td>\n",
       "      <td>-0.067638</td>\n",
       "      <td>0.63224</td>\n",
       "      <td>0.220291</td>\n",
       "      <td>0.427448</td>\n",
       "      <td>0.091023</td>\n",
       "      <td>0.898022</td>\n",
       "      <td>0.637232</td>\n",
       "      <td>1.032658</td>\n",
       "      <td>0.457309</td>\n",
       "      <td>0.166091</td>\n",
       "      <td>0.035516</td>\n",
       "      <td>0.242648</td>\n",
       "      <td>0.00689</td>\n",
       "      <td>0.078143</td>\n",
       "      <td>0.174708</td>\n",
       "      <td>0.340249</td>\n",
       "      <td>-0.021555</td>\n",
       "      <td>-0.036205</td>\n",
       "      <td>-0.081846</td>\n",
       "      <td>-0.038559</td>\n",
       "      <td>-0.136419</td>\n",
       "      <td>0.695593</td>\n",
       "      <td>-0.488345</td>\n",
       "      <td>-0.090799</td>\n",
       "      <td>-2.158532</td>\n",
       "      <td>-0.418002</td>\n",
       "      <td>0.288582</td>\n",
       "      <td>-0.16607</td>\n",
       "      <td>-0.7943</td>\n",
       "      <td>0.871364</td>\n",
       "      <td>0.624399</td>\n",
       "      <td>0.25087</td>\n",
       "      <td>0.915171</td>\n",
       "      <td>1.103248</td>\n",
       "      <td>-0.50615</td>\n",
       "      <td>-0.544199</td>\n",
       "      <td>-0.254344</td>\n",
       "      <td>-0.601954</td>\n",
       "      <td>0.106859</td>\n",
       "      <td>0.6776</td>\n",
       "      <td>-0.174841</td>\n",
       "      <td>0.528166</td>\n",
       "      <td>0.915549</td>\n",
       "      <td>0.016264</td>\n",
       "      <td>-1.386216</td>\n",
       "      <td>-0.38127</td>\n",
       "      <td>-0.255219</td>\n",
       "      <td>0.038576</td>\n",
       "      <td>-0.3631</td>\n",
       "      <td>-0.7612</td>\n",
       "      <td>-0.371848</td>\n",
       "      <td>-0.223619</td>\n",
       "      <td>0.135732</td>\n",
       "      <td>1.293652</td>\n",
       "      <td>10.788542</td>\n",
       "    </tr>\n",
       "  </tbody>\n",
       "</table>\n",
       "</div>"
      ],
      "text/plain": [
       "                   age        fnlwgt  education_no_of_years  \\\n",
       "Coefficients -0.029398 -8.480678e-07              -0.287651   \n",
       "\n",
       "              working_hours_per_week  workclass_ Local-gov  \\\n",
       "Coefficients               -0.067638               0.63224   \n",
       "\n",
       "              workclass_ Never-worked  workclass_ Private  \\\n",
       "Coefficients                 0.220291            0.427448   \n",
       "\n",
       "              workclass_ Self-emp-inc  workclass_ Self-emp-not-inc  \\\n",
       "Coefficients                 0.091023                     0.898022   \n",
       "\n",
       "              workclass_ State-gov  workclass_ Without-pay  workclass_Unknown  \\\n",
       "Coefficients              0.637232                1.032658           0.457309   \n",
       "\n",
       "              education_ 11th  education_ 12th  education_ 1st-4th  \\\n",
       "Coefficients         0.166091         0.035516            0.242648   \n",
       "\n",
       "              education_ 5th-6th  education_ 7th-8th  education_ 9th  \\\n",
       "Coefficients             0.00689            0.078143        0.174708   \n",
       "\n",
       "              education_ Assoc-acdm  education_ Assoc-voc  \\\n",
       "Coefficients               0.340249             -0.021555   \n",
       "\n",
       "              education_ Bachelors  education_ Doctorate  education_ HS-grad  \\\n",
       "Coefficients             -0.036205             -0.081846           -0.038559   \n",
       "\n",
       "              education_ Masters  education_ Preschool  \\\n",
       "Coefficients           -0.136419              0.695593   \n",
       "\n",
       "              education_ Prof-school  education_ Some-college  \\\n",
       "Coefficients               -0.488345                -0.090799   \n",
       "\n",
       "              marital_status_married  marital_status_not_married  \\\n",
       "Coefficients               -2.158532                   -0.418002   \n",
       "\n",
       "              occupation_ Armed-Forces  occupation_ Craft-repair  \\\n",
       "Coefficients                  0.288582                  -0.16607   \n",
       "\n",
       "              occupation_ Exec-managerial  occupation_ Farming-fishing  \\\n",
       "Coefficients                      -0.7943                     0.871364   \n",
       "\n",
       "              occupation_ Handlers-cleaners  occupation_ Machine-op-inspct  \\\n",
       "Coefficients                       0.624399                        0.25087   \n",
       "\n",
       "              occupation_ Other-service  occupation_ Priv-house-serv  \\\n",
       "Coefficients                   0.915171                     1.103248   \n",
       "\n",
       "              occupation_ Prof-specialty  occupation_ Protective-serv  \\\n",
       "Coefficients                    -0.50615                    -0.544199   \n",
       "\n",
       "              occupation_ Sales  occupation_ Tech-support  \\\n",
       "Coefficients          -0.254344                 -0.601954   \n",
       "\n",
       "              occupation_ Transport-moving  occupation_Unknown  \\\n",
       "Coefficients                      0.106859              0.6776   \n",
       "\n",
       "              relationship_ Not-in-family  relationship_ Other-relative  \\\n",
       "Coefficients                    -0.174841                      0.528166   \n",
       "\n",
       "              relationship_ Own-child  relationship_ Unmarried  \\\n",
       "Coefficients                 0.915549                 0.016264   \n",
       "\n",
       "              relationship_ Wife  race_ Asian-Pac-Islander  race_ Black  \\\n",
       "Coefficients           -1.386216                  -0.38127    -0.255219   \n",
       "\n",
       "              race_ Other  race_ White  sex_ Male  native_country_europe  \\\n",
       "Coefficients     0.038576      -0.3631    -0.7612              -0.371848   \n",
       "\n",
       "              native_country_north_america  native_country_other  \\\n",
       "Coefficients                     -0.223619              0.135732   \n",
       "\n",
       "              native_country_south_america  Intercept  \n",
       "Coefficients                      1.293652  10.788542  "
      ]
     },
     "execution_count": 82,
     "metadata": {},
     "output_type": "execute_result"
    }
   ],
   "source": [
    "# let us check the coefficients and intercept of the model\n",
    "\n",
    "coef_df = pd.DataFrame(\n",
    "    np.append(lg.coef_, lg.intercept_),\n",
    "    index=X_train.columns.tolist() + [\"Intercept\"],\n",
    "    columns=[\"Coefficients\"],\n",
    ")\n",
    "coef_df.T"
   ]
  },
  {
   "cell_type": "markdown",
   "metadata": {
    "id": "egyptian-trustee"
   },
   "source": [
    "### Coefficient interpretations\n",
    "\n",
    "* Coefficient of age, fnlwgt, education_no_of_years,working_hours_per_week,sex_Male, some levels of education and marital_status, occupation, race and native country are negative, increase in these will lead to decrease in chances of a person having <=50K salary. \n",
    "* Coefficient all the levels of workclass,some levels of occupation, race, native country positive increase in these will lead to increase in chances of a person having <=50K salary."
   ]
  },
  {
   "cell_type": "markdown",
   "metadata": {
    "id": "swedish-johns"
   },
   "source": [
    "###  Converting coefficients to odds"
   ]
  },
  {
   "cell_type": "markdown",
   "metadata": {
    "id": "respective-spine"
   },
   "source": [
    "* The coefficients of the logistic regression model are in terms of log(odd), to find the odds we have to take the exponential of the coefficients. \n",
    "* Therefore, **odds =  exp(b)**\n",
    "* The percentage change in odds is given as **odds = (exp(b) - 1) * 100**"
   ]
  },
  {
   "cell_type": "markdown",
   "metadata": {
    "id": "innocent-separate"
   },
   "source": [
    "**Odds from coefficients**"
   ]
  },
  {
   "cell_type": "code",
   "execution_count": 83,
   "metadata": {
    "id": "looking-statistics",
    "outputId": "28ffcb82-db1c-492b-c443-13fc2a9307e5"
   },
   "outputs": [
    {
     "data": {
      "text/html": [
       "<div>\n",
       "<style scoped>\n",
       "    .dataframe tbody tr th:only-of-type {\n",
       "        vertical-align: middle;\n",
       "    }\n",
       "\n",
       "    .dataframe tbody tr th {\n",
       "        vertical-align: top;\n",
       "    }\n",
       "\n",
       "    .dataframe thead th {\n",
       "        text-align: right;\n",
       "    }\n",
       "</style>\n",
       "<table border=\"1\" class=\"dataframe\">\n",
       "  <thead>\n",
       "    <tr style=\"text-align: right;\">\n",
       "      <th></th>\n",
       "      <th>age</th>\n",
       "      <th>fnlwgt</th>\n",
       "      <th>education_no_of_years</th>\n",
       "      <th>working_hours_per_week</th>\n",
       "      <th>workclass_ Local-gov</th>\n",
       "      <th>workclass_ Never-worked</th>\n",
       "      <th>workclass_ Private</th>\n",
       "      <th>workclass_ Self-emp-inc</th>\n",
       "      <th>workclass_ Self-emp-not-inc</th>\n",
       "      <th>workclass_ State-gov</th>\n",
       "      <th>workclass_ Without-pay</th>\n",
       "      <th>workclass_Unknown</th>\n",
       "      <th>education_ 11th</th>\n",
       "      <th>education_ 12th</th>\n",
       "      <th>education_ 1st-4th</th>\n",
       "      <th>education_ 5th-6th</th>\n",
       "      <th>education_ 7th-8th</th>\n",
       "      <th>education_ 9th</th>\n",
       "      <th>education_ Assoc-acdm</th>\n",
       "      <th>education_ Assoc-voc</th>\n",
       "      <th>education_ Bachelors</th>\n",
       "      <th>education_ Doctorate</th>\n",
       "      <th>education_ HS-grad</th>\n",
       "      <th>education_ Masters</th>\n",
       "      <th>education_ Preschool</th>\n",
       "      <th>education_ Prof-school</th>\n",
       "      <th>education_ Some-college</th>\n",
       "      <th>marital_status_married</th>\n",
       "      <th>marital_status_not_married</th>\n",
       "      <th>occupation_ Armed-Forces</th>\n",
       "      <th>occupation_ Craft-repair</th>\n",
       "      <th>occupation_ Exec-managerial</th>\n",
       "      <th>occupation_ Farming-fishing</th>\n",
       "      <th>occupation_ Handlers-cleaners</th>\n",
       "      <th>occupation_ Machine-op-inspct</th>\n",
       "      <th>occupation_ Other-service</th>\n",
       "      <th>occupation_ Priv-house-serv</th>\n",
       "      <th>occupation_ Prof-specialty</th>\n",
       "      <th>occupation_ Protective-serv</th>\n",
       "      <th>occupation_ Sales</th>\n",
       "      <th>occupation_ Tech-support</th>\n",
       "      <th>occupation_ Transport-moving</th>\n",
       "      <th>occupation_Unknown</th>\n",
       "      <th>relationship_ Not-in-family</th>\n",
       "      <th>relationship_ Other-relative</th>\n",
       "      <th>relationship_ Own-child</th>\n",
       "      <th>relationship_ Unmarried</th>\n",
       "      <th>relationship_ Wife</th>\n",
       "      <th>race_ Asian-Pac-Islander</th>\n",
       "      <th>race_ Black</th>\n",
       "      <th>race_ Other</th>\n",
       "      <th>race_ White</th>\n",
       "      <th>sex_ Male</th>\n",
       "      <th>native_country_europe</th>\n",
       "      <th>native_country_north_america</th>\n",
       "      <th>native_country_other</th>\n",
       "      <th>native_country_south_america</th>\n",
       "    </tr>\n",
       "  </thead>\n",
       "  <tbody>\n",
       "    <tr>\n",
       "      <th>Odds</th>\n",
       "      <td>0.971029</td>\n",
       "      <td>0.999999</td>\n",
       "      <td>0.750023</td>\n",
       "      <td>0.934599</td>\n",
       "      <td>1.881821</td>\n",
       "      <td>1.246439</td>\n",
       "      <td>1.533339</td>\n",
       "      <td>1.095294</td>\n",
       "      <td>2.454744</td>\n",
       "      <td>1.891239</td>\n",
       "      <td>2.808522</td>\n",
       "      <td>1.579817</td>\n",
       "      <td>1.180680</td>\n",
       "      <td>1.036154</td>\n",
       "      <td>1.274619</td>\n",
       "      <td>1.006914</td>\n",
       "      <td>1.081277</td>\n",
       "      <td>1.190899</td>\n",
       "      <td>1.405297</td>\n",
       "      <td>0.978676</td>\n",
       "      <td>0.964442</td>\n",
       "      <td>0.921414</td>\n",
       "      <td>0.962175</td>\n",
       "      <td>0.872477</td>\n",
       "      <td>2.004898</td>\n",
       "      <td>0.613641</td>\n",
       "      <td>0.913201</td>\n",
       "      <td>0.115495</td>\n",
       "      <td>0.658361</td>\n",
       "      <td>1.334534</td>\n",
       "      <td>0.846987</td>\n",
       "      <td>0.451898</td>\n",
       "      <td>2.390168</td>\n",
       "      <td>1.867123</td>\n",
       "      <td>1.285142</td>\n",
       "      <td>2.497202</td>\n",
       "      <td>3.013941</td>\n",
       "      <td>0.602812</td>\n",
       "      <td>0.580306</td>\n",
       "      <td>0.775425</td>\n",
       "      <td>0.547740</td>\n",
       "      <td>1.112778</td>\n",
       "      <td>1.969146</td>\n",
       "      <td>0.839591</td>\n",
       "      <td>1.695820</td>\n",
       "      <td>2.498148</td>\n",
       "      <td>1.016397</td>\n",
       "      <td>0.250020</td>\n",
       "      <td>0.682993</td>\n",
       "      <td>0.774747</td>\n",
       "      <td>1.039329</td>\n",
       "      <td>0.695517</td>\n",
       "      <td>0.467106</td>\n",
       "      <td>0.689459</td>\n",
       "      <td>0.799619</td>\n",
       "      <td>1.145375</td>\n",
       "      <td>3.646077</td>\n",
       "    </tr>\n",
       "    <tr>\n",
       "      <th>Change_odd%</th>\n",
       "      <td>-2.897053</td>\n",
       "      <td>-0.000085</td>\n",
       "      <td>-24.997683</td>\n",
       "      <td>-6.540128</td>\n",
       "      <td>88.182066</td>\n",
       "      <td>24.643945</td>\n",
       "      <td>53.333907</td>\n",
       "      <td>9.529446</td>\n",
       "      <td>145.474398</td>\n",
       "      <td>89.123925</td>\n",
       "      <td>180.852231</td>\n",
       "      <td>57.981701</td>\n",
       "      <td>18.068019</td>\n",
       "      <td>3.615410</td>\n",
       "      <td>27.461937</td>\n",
       "      <td>0.691383</td>\n",
       "      <td>8.127746</td>\n",
       "      <td>19.089897</td>\n",
       "      <td>40.529686</td>\n",
       "      <td>-2.132422</td>\n",
       "      <td>-3.555773</td>\n",
       "      <td>-7.858633</td>\n",
       "      <td>-3.782502</td>\n",
       "      <td>-12.752274</td>\n",
       "      <td>100.489755</td>\n",
       "      <td>-38.635912</td>\n",
       "      <td>-8.679906</td>\n",
       "      <td>-88.450541</td>\n",
       "      <td>-34.163937</td>\n",
       "      <td>33.453442</td>\n",
       "      <td>-15.301345</td>\n",
       "      <td>-54.810239</td>\n",
       "      <td>139.016816</td>\n",
       "      <td>86.712330</td>\n",
       "      <td>28.514240</td>\n",
       "      <td>149.720209</td>\n",
       "      <td>201.394073</td>\n",
       "      <td>-39.718816</td>\n",
       "      <td>-41.969353</td>\n",
       "      <td>-22.457514</td>\n",
       "      <td>-45.225968</td>\n",
       "      <td>11.277784</td>\n",
       "      <td>96.914624</td>\n",
       "      <td>-16.040920</td>\n",
       "      <td>69.581978</td>\n",
       "      <td>149.814757</td>\n",
       "      <td>1.639690</td>\n",
       "      <td>-74.998034</td>\n",
       "      <td>-31.700660</td>\n",
       "      <td>-22.525288</td>\n",
       "      <td>3.932921</td>\n",
       "      <td>-30.448278</td>\n",
       "      <td>-53.289421</td>\n",
       "      <td>-31.054128</td>\n",
       "      <td>-20.038057</td>\n",
       "      <td>14.537530</td>\n",
       "      <td>264.607671</td>\n",
       "    </tr>\n",
       "  </tbody>\n",
       "</table>\n",
       "</div>"
      ],
      "text/plain": [
       "                  age    fnlwgt  education_no_of_years  \\\n",
       "Odds         0.971029  0.999999               0.750023   \n",
       "Change_odd% -2.897053 -0.000085             -24.997683   \n",
       "\n",
       "             working_hours_per_week  workclass_ Local-gov  \\\n",
       "Odds                       0.934599              1.881821   \n",
       "Change_odd%               -6.540128             88.182066   \n",
       "\n",
       "             workclass_ Never-worked  workclass_ Private  \\\n",
       "Odds                        1.246439            1.533339   \n",
       "Change_odd%                24.643945           53.333907   \n",
       "\n",
       "             workclass_ Self-emp-inc  workclass_ Self-emp-not-inc  \\\n",
       "Odds                        1.095294                     2.454744   \n",
       "Change_odd%                 9.529446                   145.474398   \n",
       "\n",
       "             workclass_ State-gov  workclass_ Without-pay  workclass_Unknown  \\\n",
       "Odds                     1.891239                2.808522           1.579817   \n",
       "Change_odd%             89.123925              180.852231          57.981701   \n",
       "\n",
       "             education_ 11th  education_ 12th  education_ 1st-4th  \\\n",
       "Odds                1.180680         1.036154            1.274619   \n",
       "Change_odd%        18.068019         3.615410           27.461937   \n",
       "\n",
       "             education_ 5th-6th  education_ 7th-8th  education_ 9th  \\\n",
       "Odds                   1.006914            1.081277        1.190899   \n",
       "Change_odd%            0.691383            8.127746       19.089897   \n",
       "\n",
       "             education_ Assoc-acdm  education_ Assoc-voc  \\\n",
       "Odds                      1.405297              0.978676   \n",
       "Change_odd%              40.529686             -2.132422   \n",
       "\n",
       "             education_ Bachelors  education_ Doctorate  education_ HS-grad  \\\n",
       "Odds                     0.964442              0.921414            0.962175   \n",
       "Change_odd%             -3.555773             -7.858633           -3.782502   \n",
       "\n",
       "             education_ Masters  education_ Preschool  education_ Prof-school  \\\n",
       "Odds                   0.872477              2.004898                0.613641   \n",
       "Change_odd%          -12.752274            100.489755              -38.635912   \n",
       "\n",
       "             education_ Some-college  marital_status_married  \\\n",
       "Odds                        0.913201                0.115495   \n",
       "Change_odd%                -8.679906              -88.450541   \n",
       "\n",
       "             marital_status_not_married  occupation_ Armed-Forces  \\\n",
       "Odds                           0.658361                  1.334534   \n",
       "Change_odd%                  -34.163937                 33.453442   \n",
       "\n",
       "             occupation_ Craft-repair  occupation_ Exec-managerial  \\\n",
       "Odds                         0.846987                     0.451898   \n",
       "Change_odd%                -15.301345                   -54.810239   \n",
       "\n",
       "             occupation_ Farming-fishing  occupation_ Handlers-cleaners  \\\n",
       "Odds                            2.390168                       1.867123   \n",
       "Change_odd%                   139.016816                      86.712330   \n",
       "\n",
       "             occupation_ Machine-op-inspct  occupation_ Other-service  \\\n",
       "Odds                              1.285142                   2.497202   \n",
       "Change_odd%                      28.514240                 149.720209   \n",
       "\n",
       "             occupation_ Priv-house-serv  occupation_ Prof-specialty  \\\n",
       "Odds                            3.013941                    0.602812   \n",
       "Change_odd%                   201.394073                  -39.718816   \n",
       "\n",
       "             occupation_ Protective-serv  occupation_ Sales  \\\n",
       "Odds                            0.580306           0.775425   \n",
       "Change_odd%                   -41.969353         -22.457514   \n",
       "\n",
       "             occupation_ Tech-support  occupation_ Transport-moving  \\\n",
       "Odds                         0.547740                      1.112778   \n",
       "Change_odd%                -45.225968                     11.277784   \n",
       "\n",
       "             occupation_Unknown  relationship_ Not-in-family  \\\n",
       "Odds                   1.969146                     0.839591   \n",
       "Change_odd%           96.914624                   -16.040920   \n",
       "\n",
       "             relationship_ Other-relative  relationship_ Own-child  \\\n",
       "Odds                             1.695820                 2.498148   \n",
       "Change_odd%                     69.581978               149.814757   \n",
       "\n",
       "             relationship_ Unmarried  relationship_ Wife  \\\n",
       "Odds                        1.016397            0.250020   \n",
       "Change_odd%                 1.639690          -74.998034   \n",
       "\n",
       "             race_ Asian-Pac-Islander  race_ Black  race_ Other  race_ White  \\\n",
       "Odds                         0.682993     0.774747     1.039329     0.695517   \n",
       "Change_odd%                -31.700660   -22.525288     3.932921   -30.448278   \n",
       "\n",
       "             sex_ Male  native_country_europe  native_country_north_america  \\\n",
       "Odds          0.467106               0.689459                      0.799619   \n",
       "Change_odd% -53.289421             -31.054128                    -20.038057   \n",
       "\n",
       "             native_country_other  native_country_south_america  \n",
       "Odds                     1.145375                      3.646077  \n",
       "Change_odd%             14.537530                    264.607671  "
      ]
     },
     "execution_count": 83,
     "metadata": {},
     "output_type": "execute_result"
    }
   ],
   "source": [
    "# converting coefficients to odds\n",
    "odds = np.exp(lg.coef_[0])\n",
    "\n",
    "# finding the percentage change\n",
    "perc_change_odds = (np.exp(lg.coef_[0]) - 1) * 100\n",
    "\n",
    "# removing limit from number of columns to display\n",
    "pd.set_option(\"display.max_columns\", None)\n",
    "\n",
    "# adding the odds to a dataframe\n",
    "pd.DataFrame({\"Odds\": odds, \"Change_odd%\": perc_change_odds}, index=X_train.columns).T"
   ]
  },
  {
   "cell_type": "markdown",
   "metadata": {
    "id": "approved-lecture"
   },
   "source": [
    "### Coefficient interpretations\n",
    "\n",
    "* `age`: Holding all other features constant a 1 unit change in Age will decrease the odds of a person having salary <=50k by 0.97 times or a 2.90% decrease in odds of having salary <=50K.\n",
    "* `education_no_of_years`: Holding all other features constant a 1 unit change in the education_no_of_years will decrease the odds of a person having salary <=50k by 0.75 times or a 24.7% decrease in odds of having salary <=50K.\n",
    "* `working_hours_per_week`: Holding all other features constant a 1 unit change in the working_hours_per_week will decrease the odds of a person having salary <=50k by 0.93 times or a decrease of 6.50% increase in odds of having salary <=50K.\n",
    "* The odds of a male having salary <=50K is 0.94 times less than a female or a 5.21% fewer odds than female.\n",
    "* The odds of a person whose marital status is married having a salary <=50K is 0.078 less than the person who was never married or 92.10% fewer odds of having salary <=50K. Similarly, The odds of a person whose marital status is not_married having a salary <=50K is 0.66 times less than the person who was never married or 33.75% fewer odds of having a salary <=50K than the person who was never married. [keeping Never_married category as a reference].\n",
    "\n",
    "`Interpretation for other attributes can be done similarly.`"
   ]
  },
  {
   "cell_type": "markdown",
   "metadata": {
    "id": "economic-degree"
   },
   "source": [
    "#### Checking model performance on training set"
   ]
  },
  {
   "cell_type": "code",
   "execution_count": 84,
   "metadata": {
    "id": "healthy-catalog",
    "outputId": "ccca0057-0828-4eac-97ea-bf171bb4cf78"
   },
   "outputs": [
    {
     "data": {
      "image/png": "[encoded data removed]",
      "text/plain": [
       "<Figure size 432x288 with 2 Axes>"
      ]
     },
     "metadata": {
      "needs_background": "light"
     },
     "output_type": "display_data"
    }
   ],
   "source": [
    "# creating confusion matrix\n",
    "confusion_matrix_sklearn_with_threshold(lg, X_train, y_train)"
   ]
  },
  {
   "cell_type": "code",
   "execution_count": 85,
   "metadata": {
    "id": "appropriate-rabbit",
    "outputId": "c73c9490-8ce6-4d20-8fdd-1cdc78fefb12"
   },
   "outputs": [
    {
     "name": "stdout",
     "output_type": "stream",
     "text": [
      "Training performance:\n"
     ]
    },
    {
     "data": {
      "text/html": [
       "<div>\n",
       "<style scoped>\n",
       "    .dataframe tbody tr th:only-of-type {\n",
       "        vertical-align: middle;\n",
       "    }\n",
       "\n",
       "    .dataframe tbody tr th {\n",
       "        vertical-align: top;\n",
       "    }\n",
       "\n",
       "    .dataframe thead th {\n",
       "        text-align: right;\n",
       "    }\n",
       "</style>\n",
       "<table border=\"1\" class=\"dataframe\">\n",
       "  <thead>\n",
       "    <tr style=\"text-align: right;\">\n",
       "      <th></th>\n",
       "      <th>Accuracy</th>\n",
       "      <th>Recall</th>\n",
       "      <th>Precision</th>\n",
       "      <th>F1</th>\n",
       "    </tr>\n",
       "  </thead>\n",
       "  <tbody>\n",
       "    <tr>\n",
       "      <th>0</th>\n",
       "      <td>0.834372</td>\n",
       "      <td>0.921142</td>\n",
       "      <td>0.867248</td>\n",
       "      <td>0.893383</td>\n",
       "    </tr>\n",
       "  </tbody>\n",
       "</table>\n",
       "</div>"
      ],
      "text/plain": [
       "   Accuracy    Recall  Precision        F1\n",
       "0  0.834372  0.921142   0.867248  0.893383"
      ]
     },
     "execution_count": 85,
     "metadata": {},
     "output_type": "execute_result"
    }
   ],
   "source": [
    "log_reg_model_train_perf = model_performance_classification_sklearn_with_threshold(\n",
    "    lg, X_train, y_train\n",
    ")\n",
    "\n",
    "print(\"Training performance:\")\n",
    "log_reg_model_train_perf"
   ]
  },
  {
   "cell_type": "markdown",
   "metadata": {
    "id": "classical-ladder"
   },
   "source": [
    "#### Checking performance on test set"
   ]
  },
  {
   "cell_type": "code",
   "execution_count": 86,
   "metadata": {
    "id": "prescription-basic",
    "outputId": "1f9a8b47-facc-4130-dc7e-2968a6d9c619"
   },
   "outputs": [
    {
     "data": {
      "image/png": "[encoded data removed]",
      "text/plain": [
       "<Figure size 432x288 with 2 Axes>"
      ]
     },
     "metadata": {
      "needs_background": "light"
     },
     "output_type": "display_data"
    }
   ],
   "source": [
    "# creating confusion matrix\n",
    "confusion_matrix_sklearn_with_threshold(lg, X_test, y_test)"
   ]
  },
  {
   "cell_type": "code",
   "execution_count": 87,
   "metadata": {
    "id": "smoking-kruger",
    "outputId": "c6725476-5a1c-4e27-d355-db2b5d2d6572"
   },
   "outputs": [
    {
     "name": "stdout",
     "output_type": "stream",
     "text": [
      "Test set performance:\n"
     ]
    },
    {
     "data": {
      "text/html": [
       "<div>\n",
       "<style scoped>\n",
       "    .dataframe tbody tr th:only-of-type {\n",
       "        vertical-align: middle;\n",
       "    }\n",
       "\n",
       "    .dataframe tbody tr th {\n",
       "        vertical-align: top;\n",
       "    }\n",
       "\n",
       "    .dataframe thead th {\n",
       "        text-align: right;\n",
       "    }\n",
       "</style>\n",
       "<table border=\"1\" class=\"dataframe\">\n",
       "  <thead>\n",
       "    <tr style=\"text-align: right;\">\n",
       "      <th></th>\n",
       "      <th>Accuracy</th>\n",
       "      <th>Recall</th>\n",
       "      <th>Precision</th>\n",
       "      <th>F1</th>\n",
       "    </tr>\n",
       "  </thead>\n",
       "  <tbody>\n",
       "    <tr>\n",
       "      <th>0</th>\n",
       "      <td>0.838878</td>\n",
       "      <td>0.917616</td>\n",
       "      <td>0.879188</td>\n",
       "      <td>0.897991</td>\n",
       "    </tr>\n",
       "  </tbody>\n",
       "</table>\n",
       "</div>"
      ],
      "text/plain": [
       "   Accuracy    Recall  Precision        F1\n",
       "0  0.838878  0.917616   0.879188  0.897991"
      ]
     },
     "execution_count": 87,
     "metadata": {},
     "output_type": "execute_result"
    }
   ],
   "source": [
    "log_reg_model_test_perf = model_performance_classification_sklearn_with_threshold(\n",
    "    lg, X_test, y_test\n",
    ")\n",
    "\n",
    "print(\"Test set performance:\")\n",
    "log_reg_model_test_perf"
   ]
  },
  {
   "cell_type": "markdown",
   "metadata": {
    "id": "alone-relay"
   },
   "source": [
    "#### ROC-AUC"
   ]
  },
  {
   "cell_type": "markdown",
   "metadata": {
    "id": "furnished-dragon"
   },
   "source": [
    "* ROC-AUC on training set"
   ]
  },
  {
   "cell_type": "code",
   "execution_count": 88,
   "metadata": {
    "id": "stylish-writing",
    "outputId": "4b74adf4-d921-496b-92fd-576eae57abb1"
   },
   "outputs": [
    {
     "data": {
      "image/png": "[encoded data removed]",
      "text/plain": [
       "<Figure size 504x360 with 1 Axes>"
      ]
     },
     "metadata": {
      "needs_background": "light"
     },
     "output_type": "display_data"
    }
   ],
   "source": [
    "logit_roc_auc_train = roc_auc_score(y_train, lg.predict_proba(X_train)[:, 1])\n",
    "fpr, tpr, thresholds = roc_curve(y_train, lg.predict_proba(X_train)[:, 1])\n",
    "plt.figure(figsize=(7, 5))\n",
    "plt.plot(fpr, tpr, label=\"Logistic Regression (area = %0.2f)\" % logit_roc_auc_train)\n",
    "plt.plot([0, 1], [0, 1], \"r--\")\n",
    "plt.xlim([0.0, 1.0])\n",
    "plt.ylim([0.0, 1.05])\n",
    "plt.xlabel(\"False Positive Rate\")\n",
    "plt.ylabel(\"True Positive Rate\")\n",
    "plt.title(\"Receiver operating characteristic\")\n",
    "plt.legend(loc=\"lower right\")\n",
    "plt.show()"
   ]
  },
  {
   "cell_type": "markdown",
   "metadata": {
    "id": "weekly-discovery"
   },
   "source": [
    "* ROC-AUC on test set"
   ]
  },
  {
   "cell_type": "code",
   "execution_count": 89,
   "metadata": {
    "id": "global-capture",
    "outputId": "9a3032cb-d528-40b0-e827-8a4303dff3c4"
   },
   "outputs": [
    {
     "data": {
      "image/png": "[encoded data removed]",
      "text/plain": [
       "<Figure size 504x360 with 1 Axes>"
      ]
     },
     "metadata": {
      "needs_background": "light"
     },
     "output_type": "display_data"
    }
   ],
   "source": [
    "logit_roc_auc_test = roc_auc_score(y_test, lg.predict_proba(X_test)[:, 1])\n",
    "fpr, tpr, thresholds = roc_curve(y_test, lg.predict_proba(X_test)[:, 1])\n",
    "plt.figure(figsize=(7, 5))\n",
    "plt.plot(fpr, tpr, label=\"Logistic Regression (area = %0.2f)\" % logit_roc_auc_test)\n",
    "plt.plot([0, 1], [0, 1], \"r--\")\n",
    "plt.xlim([0.0, 1.0])\n",
    "plt.ylim([0.0, 1.05])\n",
    "plt.xlabel(\"False Positive Rate\")\n",
    "plt.ylabel(\"True Positive Rate\")\n",
    "plt.title(\"Receiver operating characteristic\")\n",
    "plt.legend(loc=\"lower right\")\n",
    "plt.show()"
   ]
  },
  {
   "cell_type": "markdown",
   "metadata": {
    "id": "electronic-consequence"
   },
   "source": [
    "* Model is giving a generalized performance."
   ]
  },
  {
   "cell_type": "markdown",
   "metadata": {
    "id": "duplicate-chocolate"
   },
   "source": [
    "### Model Performance Improvement"
   ]
  },
  {
   "cell_type": "code",
   "execution_count": null,
   "metadata": {
    "id": "yLRvYaeNdGz-"
   },
   "outputs": [],
   "source": []
  },
  {
   "cell_type": "markdown",
   "metadata": {
    "id": "binary-withdrawal"
   },
   "source": [
    "* Let's see if the f1 score can be improved further, by changing the model threshold using AUC-ROC Curve."
   ]
  },
  {
   "cell_type": "markdown",
   "metadata": {
    "id": "disturbed-dividend"
   },
   "source": [
    "### Optimal threshold using AUC-ROC curve"
   ]
  },
  {
   "cell_type": "code",
   "execution_count": 90,
   "metadata": {
    "id": "informal-retention",
    "outputId": "ecd8e3ec-d2f2-4491-888d-ee38723052fb"
   },
   "outputs": [
    {
     "name": "stdout",
     "output_type": "stream",
     "text": [
      "0.775701698675381\n"
     ]
    }
   ],
   "source": [
    "# Optimal threshold as per AUC-ROC curve\n",
    "# The optimal cut off would be where tpr is high and fpr is low\n",
    "fpr, tpr, thresholds = roc_curve(y_train, lg.predict_proba(X_train)[:, 1])\n",
    "\n",
    "optimal_idx = np.argmax(tpr - fpr)\n",
    "optimal_threshold_auc_roc = thresholds[optimal_idx]\n",
    "print(optimal_threshold_auc_roc)"
   ]
  },
  {
   "cell_type": "markdown",
   "metadata": {
    "id": "urban-rwanda"
   },
   "source": [
    "#### Checking model performance on training set"
   ]
  },
  {
   "cell_type": "code",
   "execution_count": 91,
   "metadata": {
    "id": "hawaiian-johns",
    "outputId": "64cd6b3b-51da-4327-839e-5f1ce934bb82"
   },
   "outputs": [
    {
     "data": {
      "image/png": "[encoded data removed]",
      "text/plain": [
       "<Figure size 432x288 with 2 Axes>"
      ]
     },
     "metadata": {
      "needs_background": "light"
     },
     "output_type": "display_data"
    }
   ],
   "source": [
    "# creating confusion matrix\n",
    "confusion_matrix_sklearn_with_threshold(\n",
    "    lg, X_train, y_train, threshold=optimal_threshold_auc_roc\n",
    ")"
   ]
  },
  {
   "cell_type": "code",
   "execution_count": 92,
   "metadata": {
    "id": "unexpected-minister",
    "outputId": "6382fd8f-e6f8-41fe-e637-b9f0ec543046",
    "scrolled": false
   },
   "outputs": [
    {
     "name": "stdout",
     "output_type": "stream",
     "text": [
      "Training performance:\n"
     ]
    },
    {
     "data": {
      "text/html": [
       "<div>\n",
       "<style scoped>\n",
       "    .dataframe tbody tr th:only-of-type {\n",
       "        vertical-align: middle;\n",
       "    }\n",
       "\n",
       "    .dataframe tbody tr th {\n",
       "        vertical-align: top;\n",
       "    }\n",
       "\n",
       "    .dataframe thead th {\n",
       "        text-align: right;\n",
       "    }\n",
       "</style>\n",
       "<table border=\"1\" class=\"dataframe\">\n",
       "  <thead>\n",
       "    <tr style=\"text-align: right;\">\n",
       "      <th></th>\n",
       "      <th>Accuracy</th>\n",
       "      <th>Recall</th>\n",
       "      <th>Precision</th>\n",
       "      <th>F1</th>\n",
       "    </tr>\n",
       "  </thead>\n",
       "  <tbody>\n",
       "    <tr>\n",
       "      <th>0</th>\n",
       "      <td>0.780186</td>\n",
       "      <td>0.750612</td>\n",
       "      <td>0.946533</td>\n",
       "      <td>0.837264</td>\n",
       "    </tr>\n",
       "  </tbody>\n",
       "</table>\n",
       "</div>"
      ],
      "text/plain": [
       "   Accuracy    Recall  Precision        F1\n",
       "0  0.780186  0.750612   0.946533  0.837264"
      ]
     },
     "execution_count": 92,
     "metadata": {},
     "output_type": "execute_result"
    }
   ],
   "source": [
    "# checking model performance for this model\n",
    "log_reg_model_train_perf_threshold_auc_roc = model_performance_classification_sklearn_with_threshold(\n",
    "    lg, X_train, y_train, threshold=optimal_threshold_auc_roc\n",
    ")\n",
    "print(\"Training performance:\")\n",
    "log_reg_model_train_perf_threshold_auc_roc"
   ]
  },
  {
   "cell_type": "markdown",
   "metadata": {
    "id": "collaborative-trustee"
   },
   "source": [
    "#### Checking model performance on test set"
   ]
  },
  {
   "cell_type": "code",
   "execution_count": 93,
   "metadata": {
    "id": "functioning-peeing",
    "outputId": "ee60824a-1af9-44ae-df1b-1caf7f89f2d4"
   },
   "outputs": [
    {
     "data": {
      "image/png": "[encoded data removed]",
      "text/plain": [
       "<Figure size 432x288 with 2 Axes>"
      ]
     },
     "metadata": {
      "needs_background": "light"
     },
     "output_type": "display_data"
    }
   ],
   "source": [
    "# creating confusion matrix\n",
    "confusion_matrix_sklearn_with_threshold(\n",
    "    lg, X_test, y_test, threshold=optimal_threshold_auc_roc\n",
    ")"
   ]
  },
  {
   "cell_type": "code",
   "execution_count": 94,
   "metadata": {
    "id": "experimental-bibliography",
    "outputId": "ccea5267-92fc-460b-aced-187403ce775b"
   },
   "outputs": [
    {
     "name": "stdout",
     "output_type": "stream",
     "text": [
      "Test set performance:\n"
     ]
    },
    {
     "data": {
      "text/html": [
       "<div>\n",
       "<style scoped>\n",
       "    .dataframe tbody tr th:only-of-type {\n",
       "        vertical-align: middle;\n",
       "    }\n",
       "\n",
       "    .dataframe tbody tr th {\n",
       "        vertical-align: top;\n",
       "    }\n",
       "\n",
       "    .dataframe thead th {\n",
       "        text-align: right;\n",
       "    }\n",
       "</style>\n",
       "<table border=\"1\" class=\"dataframe\">\n",
       "  <thead>\n",
       "    <tr style=\"text-align: right;\">\n",
       "      <th></th>\n",
       "      <th>Accuracy</th>\n",
       "      <th>Recall</th>\n",
       "      <th>Precision</th>\n",
       "      <th>F1</th>\n",
       "    </tr>\n",
       "  </thead>\n",
       "  <tbody>\n",
       "    <tr>\n",
       "      <th>0</th>\n",
       "      <td>0.779814</td>\n",
       "      <td>0.752583</td>\n",
       "      <td>0.952557</td>\n",
       "      <td>0.840844</td>\n",
       "    </tr>\n",
       "  </tbody>\n",
       "</table>\n",
       "</div>"
      ],
      "text/plain": [
       "   Accuracy    Recall  Precision        F1\n",
       "0  0.779814  0.752583   0.952557  0.840844"
      ]
     },
     "execution_count": 94,
     "metadata": {},
     "output_type": "execute_result"
    }
   ],
   "source": [
    "# checking model performance for this model\n",
    "log_reg_model_test_perf_threshold_auc_roc = model_performance_classification_sklearn_with_threshold(\n",
    "    lg, X_test, y_test, threshold=optimal_threshold_auc_roc\n",
    ")\n",
    "print(\"Test set performance:\")\n",
    "log_reg_model_test_perf_threshold_auc_roc"
   ]
  },
  {
   "cell_type": "markdown",
   "metadata": {
    "id": "nonprofit-engineering"
   },
   "source": [
    "* The precision of the model for both training and test set has improved but the F1 score has reduced."
   ]
  },
  {
   "cell_type": "markdown",
   "metadata": {
    "id": "documented-channels"
   },
   "source": [
    "#### Let's use Precision-Recall curve and see if we can find a better threshold"
   ]
  },
  {
   "cell_type": "code",
   "execution_count": 95,
   "metadata": {
    "id": "scientific-plain",
    "outputId": "fdefb456-4705-49c1-e33c-e1cc88a2a2f1"
   },
   "outputs": [
    {
     "data": {
      "image/png": "[encoded data removed]",
      "text/plain": [
       "<Figure size 720x504 with 1 Axes>"
      ]
     },
     "metadata": {
      "needs_background": "light"
     },
     "output_type": "display_data"
    }
   ],
   "source": [
    "y_scores = lg.predict_proba(X_train)[:, 1]\n",
    "prec, rec, tre = precision_recall_curve(y_train, y_scores,)\n",
    "\n",
    "\n",
    "def plot_prec_recall_vs_tresh(precisions, recalls, thresholds):\n",
    "    plt.plot(thresholds, precisions[:-1], \"b--\", label=\"precision\")\n",
    "    plt.plot(thresholds, recalls[:-1], \"g--\", label=\"recall\")\n",
    "    plt.xlabel(\"Threshold\")\n",
    "    plt.legend(loc=\"upper left\")\n",
    "    plt.ylim([0, 1])\n",
    "\n",
    "\n",
    "plt.figure(figsize=(10, 7))\n",
    "plot_prec_recall_vs_tresh(prec, rec, tre)\n",
    "plt.show()"
   ]
  },
  {
   "cell_type": "markdown",
   "metadata": {
    "id": "double-cholesterol"
   },
   "source": [
    "* At the threshold of 0.58, we get balanced recall and precision."
   ]
  },
  {
   "cell_type": "code",
   "execution_count": 96,
   "metadata": {
    "id": "continuous-hostel",
    "outputId": "d3218f32-7504-4a7b-c79a-a017f5e39590"
   },
   "outputs": [],
   "source": [
    "# setting the threshold\n",
    "optimal_threshold_curve = 0.58"
   ]
  },
  {
   "cell_type": "markdown",
   "metadata": {
    "id": "sudden-jerusalem"
   },
   "source": [
    "#### Checking model performance on training set"
   ]
  },
  {
   "cell_type": "code",
   "execution_count": 97,
   "metadata": {
    "id": "direct-scientist",
    "outputId": "feb60523-7b45-41fa-87de-52bdef119d40"
   },
   "outputs": [
    {
     "data": {
      "image/png": "[encoded data removed]",
      "text/plain": [
       "<Figure size 432x288 with 2 Axes>"
      ]
     },
     "metadata": {
      "needs_background": "light"
     },
     "output_type": "display_data"
    }
   ],
   "source": [
    "# creating confusion matrix\n",
    "confusion_matrix_sklearn_with_threshold(\n",
    "    lg, X_train, y_train, threshold=optimal_threshold_curve\n",
    ")"
   ]
  },
  {
   "cell_type": "code",
   "execution_count": 98,
   "metadata": {
    "id": "rough-double",
    "outputId": "96d237aa-f438-4b7c-b37a-35d1e8cc9f3e"
   },
   "outputs": [
    {
     "name": "stdout",
     "output_type": "stream",
     "text": [
      "Training performance:\n"
     ]
    },
    {
     "data": {
      "text/html": [
       "<div>\n",
       "<style scoped>\n",
       "    .dataframe tbody tr th:only-of-type {\n",
       "        vertical-align: middle;\n",
       "    }\n",
       "\n",
       "    .dataframe tbody tr th {\n",
       "        vertical-align: top;\n",
       "    }\n",
       "\n",
       "    .dataframe thead th {\n",
       "        text-align: right;\n",
       "    }\n",
       "</style>\n",
       "<table border=\"1\" class=\"dataframe\">\n",
       "  <thead>\n",
       "    <tr style=\"text-align: right;\">\n",
       "      <th></th>\n",
       "      <th>Accuracy</th>\n",
       "      <th>Recall</th>\n",
       "      <th>Precision</th>\n",
       "      <th>F1</th>\n",
       "    </tr>\n",
       "  </thead>\n",
       "  <tbody>\n",
       "    <tr>\n",
       "      <th>0</th>\n",
       "      <td>0.831695</td>\n",
       "      <td>0.886954</td>\n",
       "      <td>0.889337</td>\n",
       "      <td>0.888144</td>\n",
       "    </tr>\n",
       "  </tbody>\n",
       "</table>\n",
       "</div>"
      ],
      "text/plain": [
       "   Accuracy    Recall  Precision        F1\n",
       "0  0.831695  0.886954   0.889337  0.888144"
      ]
     },
     "execution_count": 98,
     "metadata": {},
     "output_type": "execute_result"
    }
   ],
   "source": [
    "log_reg_model_train_perf_threshold_curve = model_performance_classification_sklearn_with_threshold(\n",
    "    lg, X_train, y_train, threshold=optimal_threshold_curve\n",
    ")\n",
    "print(\"Training performance:\")\n",
    "log_reg_model_train_perf_threshold_curve"
   ]
  },
  {
   "cell_type": "markdown",
   "metadata": {
    "id": "loaded-citizenship"
   },
   "source": [
    "#### Checking model performance on test set"
   ]
  },
  {
   "cell_type": "code",
   "execution_count": 99,
   "metadata": {
    "id": "english-steal",
    "outputId": "974b171c-dcc5-48e5-8ac6-60d210a62fe8"
   },
   "outputs": [
    {
     "data": {
      "image/png": "[encoded data removed]",
      "text/plain": [
       "<Figure size 432x288 with 2 Axes>"
      ]
     },
     "metadata": {
      "needs_background": "light"
     },
     "output_type": "display_data"
    }
   ],
   "source": [
    "# creating confusion matrix\n",
    "confusion_matrix_sklearn_with_threshold(\n",
    "    lg, X_test, y_test, threshold=optimal_threshold_curve\n",
    ")"
   ]
  },
  {
   "cell_type": "code",
   "execution_count": 100,
   "metadata": {
    "id": "transsexual-crystal",
    "outputId": "d5bb4da1-90b6-4452-fa0e-a6577dfbcd95"
   },
   "outputs": [
    {
     "name": "stdout",
     "output_type": "stream",
     "text": [
      "Test set performance:\n"
     ]
    },
    {
     "data": {
      "text/html": [
       "<div>\n",
       "<style scoped>\n",
       "    .dataframe tbody tr th:only-of-type {\n",
       "        vertical-align: middle;\n",
       "    }\n",
       "\n",
       "    .dataframe tbody tr th {\n",
       "        vertical-align: top;\n",
       "    }\n",
       "\n",
       "    .dataframe thead th {\n",
       "        text-align: right;\n",
       "    }\n",
       "</style>\n",
       "<table border=\"1\" class=\"dataframe\">\n",
       "  <thead>\n",
       "    <tr style=\"text-align: right;\">\n",
       "      <th></th>\n",
       "      <th>Accuracy</th>\n",
       "      <th>Recall</th>\n",
       "      <th>Precision</th>\n",
       "      <th>F1</th>\n",
       "    </tr>\n",
       "  </thead>\n",
       "  <tbody>\n",
       "    <tr>\n",
       "      <th>0</th>\n",
       "      <td>0.831508</td>\n",
       "      <td>0.880927</td>\n",
       "      <td>0.899027</td>\n",
       "      <td>0.889885</td>\n",
       "    </tr>\n",
       "  </tbody>\n",
       "</table>\n",
       "</div>"
      ],
      "text/plain": [
       "   Accuracy    Recall  Precision        F1\n",
       "0  0.831508  0.880927   0.899027  0.889885"
      ]
     },
     "execution_count": 100,
     "metadata": {},
     "output_type": "execute_result"
    }
   ],
   "source": [
    "log_reg_model_test_perf_threshold_curve = model_performance_classification_sklearn_with_threshold(\n",
    "    lg, X_test, y_test, threshold=optimal_threshold_curve\n",
    ")\n",
    "print(\"Test set performance:\")\n",
    "log_reg_model_test_perf_threshold_curve"
   ]
  },
  {
   "cell_type": "markdown",
   "metadata": {
    "id": "shared-calibration"
   },
   "source": [
    "* Model is performing well on training and test.\n",
    "* There's not much improvement in the model performance as the default threshold is 0.50 and here we get 0.58 as the optimal threshold."
   ]
  },
  {
   "cell_type": "markdown",
   "metadata": {
    "id": "statutory-gasoline"
   },
   "source": [
    "### Model Performance Summary"
   ]
  },
  {
   "cell_type": "code",
   "execution_count": 101,
   "metadata": {
    "id": "modular-husband",
    "outputId": "a3172f44-f8c1-4a8f-c0c4-18d9e8ff863e"
   },
   "outputs": [
    {
     "name": "stdout",
     "output_type": "stream",
     "text": [
      "Training performance comparison:\n"
     ]
    },
    {
     "data": {
      "text/html": [
       "<div>\n",
       "<style scoped>\n",
       "    .dataframe tbody tr th:only-of-type {\n",
       "        vertical-align: middle;\n",
       "    }\n",
       "\n",
       "    .dataframe tbody tr th {\n",
       "        vertical-align: top;\n",
       "    }\n",
       "\n",
       "    .dataframe thead th {\n",
       "        text-align: right;\n",
       "    }\n",
       "</style>\n",
       "<table border=\"1\" class=\"dataframe\">\n",
       "  <thead>\n",
       "    <tr style=\"text-align: right;\">\n",
       "      <th></th>\n",
       "      <th>Logistic Regression sklearn</th>\n",
       "      <th>Logistic Regression-0.77 Threshold</th>\n",
       "      <th>Logistic Regression-0.58 Threshold</th>\n",
       "    </tr>\n",
       "  </thead>\n",
       "  <tbody>\n",
       "    <tr>\n",
       "      <th>Accuracy</th>\n",
       "      <td>0.834372</td>\n",
       "      <td>0.780186</td>\n",
       "      <td>0.831695</td>\n",
       "    </tr>\n",
       "    <tr>\n",
       "      <th>Recall</th>\n",
       "      <td>0.921142</td>\n",
       "      <td>0.750612</td>\n",
       "      <td>0.886954</td>\n",
       "    </tr>\n",
       "    <tr>\n",
       "      <th>Precision</th>\n",
       "      <td>0.867248</td>\n",
       "      <td>0.946533</td>\n",
       "      <td>0.889337</td>\n",
       "    </tr>\n",
       "    <tr>\n",
       "      <th>F1</th>\n",
       "      <td>0.893383</td>\n",
       "      <td>0.837264</td>\n",
       "      <td>0.888144</td>\n",
       "    </tr>\n",
       "  </tbody>\n",
       "</table>\n",
       "</div>"
      ],
      "text/plain": [
       "           Logistic Regression sklearn  Logistic Regression-0.77 Threshold  \\\n",
       "Accuracy                      0.834372                            0.780186   \n",
       "Recall                        0.921142                            0.750612   \n",
       "Precision                     0.867248                            0.946533   \n",
       "F1                            0.893383                            0.837264   \n",
       "\n",
       "           Logistic Regression-0.58 Threshold  \n",
       "Accuracy                             0.831695  \n",
       "Recall                               0.886954  \n",
       "Precision                            0.889337  \n",
       "F1                                   0.888144  "
      ]
     },
     "execution_count": 101,
     "metadata": {},
     "output_type": "execute_result"
    }
   ],
   "source": [
    "# training performance comparison\n",
    "\n",
    "models_train_comp_df = pd.concat(\n",
    "    [\n",
    "        log_reg_model_train_perf.T,\n",
    "        log_reg_model_train_perf_threshold_auc_roc.T,\n",
    "        log_reg_model_train_perf_threshold_curve.T\n",
    "    ],\n",
    "    axis=1,\n",
    ")\n",
    "models_train_comp_df.columns = [\n",
    "    \"Logistic Regression sklearn\",\n",
    "    \"Logistic Regression-0.77 Threshold\",\n",
    "    \"Logistic Regression-0.58 Threshold\"\n",
    "]\n",
    "print(\"Training performance comparison:\")\n",
    "models_train_comp_df"
   ]
  },
  {
   "cell_type": "code",
   "execution_count": 102,
   "metadata": {
    "id": "superb-split",
    "outputId": "b2649358-ce00-451a-bfb0-7d7680cec151"
   },
   "outputs": [
    {
     "name": "stdout",
     "output_type": "stream",
     "text": [
      "Test set performance comparison:\n"
     ]
    },
    {
     "data": {
      "text/html": [
       "<div>\n",
       "<style scoped>\n",
       "    .dataframe tbody tr th:only-of-type {\n",
       "        vertical-align: middle;\n",
       "    }\n",
       "\n",
       "    .dataframe tbody tr th {\n",
       "        vertical-align: top;\n",
       "    }\n",
       "\n",
       "    .dataframe thead th {\n",
       "        text-align: right;\n",
       "    }\n",
       "</style>\n",
       "<table border=\"1\" class=\"dataframe\">\n",
       "  <thead>\n",
       "    <tr style=\"text-align: right;\">\n",
       "      <th></th>\n",
       "      <th>Logistic Regression sklearn</th>\n",
       "      <th>Logistic Regression-0.77 Threshold</th>\n",
       "      <th>Logistic Regression-0.58 Threshold</th>\n",
       "    </tr>\n",
       "  </thead>\n",
       "  <tbody>\n",
       "    <tr>\n",
       "      <th>Accuracy</th>\n",
       "      <td>0.838878</td>\n",
       "      <td>0.779814</td>\n",
       "      <td>0.831508</td>\n",
       "    </tr>\n",
       "    <tr>\n",
       "      <th>Recall</th>\n",
       "      <td>0.917616</td>\n",
       "      <td>0.752583</td>\n",
       "      <td>0.880927</td>\n",
       "    </tr>\n",
       "    <tr>\n",
       "      <th>Precision</th>\n",
       "      <td>0.879188</td>\n",
       "      <td>0.952557</td>\n",
       "      <td>0.899027</td>\n",
       "    </tr>\n",
       "    <tr>\n",
       "      <th>F1</th>\n",
       "      <td>0.897991</td>\n",
       "      <td>0.840844</td>\n",
       "      <td>0.889885</td>\n",
       "    </tr>\n",
       "  </tbody>\n",
       "</table>\n",
       "</div>"
      ],
      "text/plain": [
       "           Logistic Regression sklearn  Logistic Regression-0.77 Threshold  \\\n",
       "Accuracy                      0.838878                            0.779814   \n",
       "Recall                        0.917616                            0.752583   \n",
       "Precision                     0.879188                            0.952557   \n",
       "F1                            0.897991                            0.840844   \n",
       "\n",
       "           Logistic Regression-0.58 Threshold  \n",
       "Accuracy                             0.831508  \n",
       "Recall                               0.880927  \n",
       "Precision                            0.899027  \n",
       "F1                                   0.889885  "
      ]
     },
     "execution_count": 102,
     "metadata": {},
     "output_type": "execute_result"
    }
   ],
   "source": [
    "# testing performance comparison\n",
    "\n",
    "models_test_comp_df = pd.concat(\n",
    "    [\n",
    "        log_reg_model_test_perf.T,\n",
    "        log_reg_model_test_perf_threshold_auc_roc.T,\n",
    "        log_reg_model_test_perf_threshold_curve.T\n",
    "        ],\n",
    "    axis=1,\n",
    ")\n",
    "models_test_comp_df.columns = [\n",
    "    \"Logistic Regression sklearn\",\n",
    "    \"Logistic Regression-0.77 Threshold\",\n",
    "    \"Logistic Regression-0.58 Threshold\"\n",
    "]\n",
    "print(\"Test set performance comparison:\")\n",
    "models_test_comp_df"
   ]
  },
  {
   "cell_type": "markdown",
   "metadata": {
    "id": "increasing-narrow"
   },
   "source": [
    "### Conclusion\n",
    "- We have been able to build a predictive model that can be used by the government to find the citizens having less than 50K salary with an f1_score of 0.89 on the training set and formulate policies accordingly. \n",
    "* Coefficient of age, fnlwgt, education_no_of_years,working_hours_per_week,sex_Male, some levels of education and marital_status, occupation, race and native country are negative, increase in these will lead to decrease in chances of a person having <=50K salary. \n",
    "* Coefficient all the levels of workclass,some levels of occupation, race, native country positive increase in these will lead to increase in chances of a person having <=50K salary."
   ]
  },
  {
   "cell_type": "markdown",
   "metadata": {
    "id": "greek-houston"
   },
   "source": [
    "### Recommendations\n",
    "\n",
    "- The government should promote education among citizens, they should make policies to make education accessible to all, as we say in our analysis that people who have higher education are more likely to have a salary above 50,000 Dollars. \n",
    "- Working hours is one of the significant predictors of salary, The government should implement laws to ensure that people are paid fairly for their work and are not overworked for the increase in salaries. This would improve work-life balance.\n",
    "- People who invest more are more likely to have a salary above 50k, government should initiate investment schemes and facilitate ease of investment so that people can plan and invest in resources.\n",
    "- As we saw in our analysis that Asian-Pac-Islander and White people are paid more than other races, there should be reforms to ensure that the salary criterion of employees is independent of their race.\n",
    "- Reforms should be made for private-sector employees so that they are paid fairly for their work.\n",
    "- Policy formulated by the government should be considerate of equal pay and counter the pay gap that exists in society."
   ]
  },
  {
   "cell_type": "markdown",
   "metadata": {
    "id": "elect-aquatic"
   },
   "source": [
    "## Sequential Feature Selector (ADDITIONAL)"
   ]
  },
  {
   "cell_type": "markdown",
   "metadata": {
    "id": "sublime-denver"
   },
   "source": [
    "## Note: Kindly  do not run the code cells containing the Sequential Feature Selector implementation during the session, since that algorithm takes considerable time to run."
   ]
  },
  {
   "cell_type": "markdown",
   "metadata": {
    "id": "working-alberta"
   },
   "source": [
    "#### Selecting subset of important features using Sequential Feature Selector method"
   ]
  },
  {
   "cell_type": "markdown",
   "metadata": {
    "id": "received-trustee"
   },
   "source": [
    "**Why we should do feature selection?**\n",
    "\n",
    "- Reduces dimensionality.\n",
    "- Discards deceptive features (Deceptive features appear to aid learning on the training set, but impair generalization).\n",
    "- Speeds training/testing."
   ]
  },
  {
   "cell_type": "markdown",
   "metadata": {
    "id": "minimal-cardiff"
   },
   "source": [
    "### How sequential feature selector works?\n",
    "* It starts with an empty model and adds in variables one by one.\n",
    "* In each forward step, you add the one variable that gives the highest improvement to your model."
   ]
  },
  {
   "cell_type": "code",
   "execution_count": 103,
   "metadata": {
    "id": "compliant-highway",
    "outputId": "faeba073-beec-449f-dfdc-5217608a97e2"
   },
   "outputs": [],
   "source": [
    "# Sequential feature selector is present in mlxtend library\n",
    "# !pip install mlxtend to install mlxtent library\n",
    "\n",
    "from mlxtend.feature_selection import SequentialFeatureSelector as SFS\n",
    "\n",
    "# to plot the performance with addition of each feature\n",
    "from mlxtend.plotting import plot_sequential_feature_selection as plot_sfs"
   ]
  },
  {
   "cell_type": "code",
   "execution_count": 104,
   "metadata": {
    "id": "endless-scale",
    "outputId": "4d857482-d9d6-4a3c-bb50-01d8998668ce"
   },
   "outputs": [],
   "source": [
    "# from sklearn.linear_model import LogisticRegression\n",
    "\n",
    "# Fit the model on train\n",
    "model = LogisticRegression(solver=\"newton-cg\", n_jobs=-1, random_state=1, max_iter=100)"
   ]
  },
  {
   "cell_type": "code",
   "execution_count": 105,
   "metadata": {
    "id": "convinced-standard",
    "outputId": "9d1fcb7e-4f20-4f12-a922-ada687635f9f",
    "scrolled": true
   },
   "outputs": [
    {
     "name": "stderr",
     "output_type": "stream",
     "text": [
      "[Parallel(n_jobs=-1)]: Using backend LokyBackend with 8 concurrent workers.\n",
      "[Parallel(n_jobs=-1)]: Done  25 tasks      | elapsed:    2.1s\n",
      "[Parallel(n_jobs=-1)]: Done  57 out of  57 | elapsed:    3.9s finished\n",
      "\n",
      "[2021-10-07 20:37:01] Features: 1/52 -- score: 0.8651903328467779[Parallel(n_jobs=-1)]: Using backend LokyBackend with 8 concurrent workers.\n",
      "[Parallel(n_jobs=-1)]: Done  25 tasks      | elapsed:    1.6s\n",
      "[Parallel(n_jobs=-1)]: Done  56 out of  56 | elapsed:    3.8s finished\n",
      "\n",
      "[2021-10-07 20:37:05] Features: 2/52 -- score: 0.8828389862839133[Parallel(n_jobs=-1)]: Using backend LokyBackend with 8 concurrent workers.\n",
      "[Parallel(n_jobs=-1)]: Done  25 tasks      | elapsed:    1.7s\n",
      "[Parallel(n_jobs=-1)]: Done  55 out of  55 | elapsed:    4.7s finished\n",
      "\n",
      "[2021-10-07 20:37:09] Features: 3/52 -- score: 0.8862069032832736[Parallel(n_jobs=-1)]: Using backend LokyBackend with 8 concurrent workers.\n",
      "[Parallel(n_jobs=-1)]: Done  25 tasks      | elapsed:    1.8s\n",
      "[Parallel(n_jobs=-1)]: Done  54 out of  54 | elapsed:    4.6s finished\n",
      "\n",
      "[2021-10-07 20:37:14] Features: 4/52 -- score: 0.8875747876863729[Parallel(n_jobs=-1)]: Using backend LokyBackend with 8 concurrent workers.\n",
      "[Parallel(n_jobs=-1)]: Done  25 tasks      | elapsed:    2.0s\n",
      "[Parallel(n_jobs=-1)]: Done  53 out of  53 | elapsed:    5.5s finished\n",
      "\n",
      "[2021-10-07 20:37:19] Features: 5/52 -- score: 0.8884882643444155[Parallel(n_jobs=-1)]: Using backend LokyBackend with 8 concurrent workers.\n",
      "[Parallel(n_jobs=-1)]: Done  25 tasks      | elapsed:    2.3s\n",
      "[Parallel(n_jobs=-1)]: Done  52 out of  52 | elapsed:    6.0s finished\n",
      "\n",
      "[2021-10-07 20:37:25] Features: 6/52 -- score: 0.8892070613158931[Parallel(n_jobs=-1)]: Using backend LokyBackend with 8 concurrent workers.\n",
      "[Parallel(n_jobs=-1)]: Done  25 tasks      | elapsed:    2.3s\n",
      "[Parallel(n_jobs=-1)]: Done  51 out of  51 | elapsed:    5.6s finished\n",
      "\n",
      "[2021-10-07 20:37:31] Features: 7/52 -- score: 0.8896852390015123[Parallel(n_jobs=-1)]: Using backend LokyBackend with 8 concurrent workers.\n",
      "[Parallel(n_jobs=-1)]: Done  25 tasks      | elapsed:    2.6s\n",
      "[Parallel(n_jobs=-1)]: Done  50 out of  50 | elapsed:    6.0s finished\n",
      "\n",
      "[2021-10-07 20:37:37] Features: 8/52 -- score: 0.8901068994337509[Parallel(n_jobs=-1)]: Using backend LokyBackend with 8 concurrent workers.\n",
      "[Parallel(n_jobs=-1)]: Done  25 tasks      | elapsed:    2.7s\n",
      "[Parallel(n_jobs=-1)]: Done  49 out of  49 | elapsed:    6.2s finished\n",
      "\n",
      "[2021-10-07 20:37:43] Features: 9/52 -- score: 0.8904002884978177[Parallel(n_jobs=-1)]: Using backend LokyBackend with 8 concurrent workers.\n",
      "[Parallel(n_jobs=-1)]: Done  25 tasks      | elapsed:    2.7s\n",
      "[Parallel(n_jobs=-1)]: Done  48 out of  48 | elapsed:    6.0s finished\n",
      "\n",
      "[2021-10-07 20:37:50] Features: 10/52 -- score: 0.8905721327273378[Parallel(n_jobs=-1)]: Using backend LokyBackend with 8 concurrent workers.\n",
      "\n",
      "STOPPING EARLY DUE TO KEYBOARD INTERRUPT..."
     ]
    }
   ],
   "source": [
    "# we will first build model with all varaible\n",
    "sfs = SFS(\n",
    "    model,\n",
    "    k_features=52,\n",
    "    forward=True,\n",
    "    floating=False,\n",
    "    scoring=\"f1\",\n",
    "    verbose=2,\n",
    "    cv=3,\n",
    "    n_jobs=-1,\n",
    ")\n",
    "\n",
    "sfs = sfs.fit(X_train, y_train)"
   ]
  },
  {
   "cell_type": "code",
   "execution_count": 106,
   "metadata": {
    "id": "atmospheric-insured",
    "outputId": "71ea9971-8458-4e18-b69c-b63912f59c5f"
   },
   "outputs": [
    {
     "data": {
      "image/png": "[encoded data removed]",
      "text/plain": [
       "<Figure size 864x360 with 1 Axes>"
      ]
     },
     "metadata": {
      "needs_background": "light"
     },
     "output_type": "display_data"
    }
   ],
   "source": [
    "fig1 = plot_sfs(sfs.get_metric_dict(), kind=\"std_dev\", figsize=(12, 5))\n",
    "plt.ylim([0.8, 1])\n",
    "plt.title(\"Sequential Forward Selection (w. StdDev)\")\n",
    "plt.xticks(rotation=90)\n",
    "plt.show()"
   ]
  },
  {
   "cell_type": "markdown",
   "metadata": {
    "id": "fifty-actress"
   },
   "source": [
    "* We can see that performance increases till the 8th feature and then became constant.\n",
    "* So we'll use 8 features only to build our mode but the choice of k_features it depends on the business context and use case of the model."
   ]
  },
  {
   "cell_type": "code",
   "execution_count": 107,
   "metadata": {
    "colab": {
     "base_uri": "https://localhost:8080/",
     "height": 331
    },
    "id": "sixth-notice",
    "outputId": "af545ea1-f28b-431d-e239-6905a315f41a",
    "scrolled": true
   },
   "outputs": [
    {
     "name": "stderr",
     "output_type": "stream",
     "text": [
      "[Parallel(n_jobs=-1)]: Using backend LokyBackend with 8 concurrent workers.\n",
      "[Parallel(n_jobs=-1)]: Done  25 tasks      | elapsed:    2.6s\n",
      "[Parallel(n_jobs=-1)]: Done  57 out of  57 | elapsed:    4.8s finished\n",
      "\n",
      "[2021-10-07 20:37:57] Features: 1/8 -- score: 0.8651903328467779[Parallel(n_jobs=-1)]: Using backend LokyBackend with 8 concurrent workers.\n",
      "[Parallel(n_jobs=-1)]: Done  25 tasks      | elapsed:    1.8s\n",
      "\n",
      "STOPPING EARLY DUE TO KEYBOARD INTERRUPT..."
     ]
    },
    {
     "data": {
      "image/png": "[encoded data removed]",
      "text/plain": [
       "<Figure size 720x360 with 1 Axes>"
      ]
     },
     "metadata": {
      "needs_background": "light"
     },
     "output_type": "display_data"
    }
   ],
   "source": [
    "sfs1 = SFS(\n",
    "    model,\n",
    "    k_features=8,\n",
    "    forward=True,\n",
    "    floating=False,\n",
    "    scoring=\"f1\",\n",
    "    verbose=2,\n",
    "    cv=3,\n",
    "    n_jobs=-1,\n",
    ")\n",
    "\n",
    "sfs1 = sfs1.fit(X_train, y_train)\n",
    "\n",
    "fig1 = plot_sfs(sfs1.get_metric_dict(), kind=\"std_dev\", figsize=(10, 5))\n",
    "\n",
    "plt.ylim([0.8, 1])\n",
    "plt.title(\"Sequential Forward Selection (w. StdDev)\")\n",
    "plt.grid()\n",
    "plt.show()"
   ]
  },
  {
   "cell_type": "markdown",
   "metadata": {
    "id": "enhanced-composition"
   },
   "source": [
    "**Finding which features are important?**"
   ]
  },
  {
   "cell_type": "code",
   "execution_count": 108,
   "metadata": {
    "colab": {
     "base_uri": "https://localhost:8080/"
    },
    "id": "opening-silicon",
    "outputId": "009399d4-5000-42e1-a9e5-e26b83396b75"
   },
   "outputs": [
    {
     "name": "stdout",
     "output_type": "stream",
     "text": [
      "[2]\n"
     ]
    }
   ],
   "source": [
    "feat_cols = list(sfs1.k_feature_idx_)\n",
    "print(feat_cols)"
   ]
  },
  {
   "cell_type": "markdown",
   "metadata": {
    "id": "innovative-phone"
   },
   "source": [
    "**Let's look at best 8 variables**"
   ]
  },
  {
   "cell_type": "code",
   "execution_count": 109,
   "metadata": {
    "colab": {
     "base_uri": "https://localhost:8080/"
    },
    "id": "governing-mailing",
    "outputId": "215a4a1f-a481-4e02-beca-4bc7509c615e"
   },
   "outputs": [
    {
     "data": {
      "text/plain": [
       "Index(['education_no_of_years'], dtype='object')"
      ]
     },
     "execution_count": 109,
     "metadata": {},
     "output_type": "execute_result"
    }
   ],
   "source": [
    "X_train.columns[feat_cols]"
   ]
  },
  {
   "cell_type": "code",
   "execution_count": 110,
   "metadata": {
    "id": "breeding-marsh",
    "outputId": "79e57b45-8e97-4a74-f821-2ebf846cbb00"
   },
   "outputs": [],
   "source": [
    "X_train_final = X_train[X_train.columns[feat_cols]]\n",
    "\n",
    "# Creating new x_test with the same variables that we selected for x_train\n",
    "X_test_final = X_test[X_train_final.columns]"
   ]
  },
  {
   "cell_type": "code",
   "execution_count": 111,
   "metadata": {
    "colab": {
     "base_uri": "https://localhost:8080/"
    },
    "id": "arabic-syndication",
    "outputId": "0c8e6e99-d171-4b23-9987-cd7d69146643"
   },
   "outputs": [
    {
     "name": "stderr",
     "output_type": "stream",
     "text": [
      "[Parallel(n_jobs=-1)]: Using backend LokyBackend with 8 concurrent workers.\n",
      "[Parallel(n_jobs=-1)]: Done   1 out of   1 | elapsed:    0.8s finished\n"
     ]
    },
    {
     "data": {
      "text/plain": [
       "LogisticRegression(n_jobs=-1, penalty='none', random_state=0,\n",
       "                   solver='newton-cg', verbose=True)"
      ]
     },
     "execution_count": 111,
     "metadata": {},
     "output_type": "execute_result"
    }
   ],
   "source": [
    "# Fitting logistic regession model\n",
    "\n",
    "logreg = LogisticRegression(\n",
    "    solver=\"newton-cg\", penalty=\"none\", verbose=True, n_jobs=-1, random_state=0\n",
    ")\n",
    "\n",
    "# There are several optimizer, we are using optimizer called as 'newton-cg' with max_iter equal to 10000\n",
    "# max_iter indicates number of iteration needed to converge\n",
    "\n",
    "logreg.fit(X_train_final, y_train)"
   ]
  },
  {
   "cell_type": "markdown",
   "metadata": {
    "id": "american-ending"
   },
   "source": [
    "### Let's Look at model performance"
   ]
  },
  {
   "cell_type": "markdown",
   "metadata": {
    "id": "comfortable-procedure"
   },
   "source": [
    "* On training set"
   ]
  },
  {
   "cell_type": "code",
   "execution_count": 112,
   "metadata": {
    "id": "arctic-going",
    "outputId": "684f5637-fea7-4436-a4e7-42e7e24ef121"
   },
   "outputs": [
    {
     "data": {
      "image/png": "[encoded data removed]",
      "text/plain": [
       "<Figure size 432x288 with 2 Axes>"
      ]
     },
     "metadata": {
      "needs_background": "light"
     },
     "output_type": "display_data"
    }
   ],
   "source": [
    "confusion_matrix_sklearn_with_threshold(logreg, X_train_final, y_train)"
   ]
  },
  {
   "cell_type": "code",
   "execution_count": 113,
   "metadata": {
    "colab": {
     "base_uri": "https://localhost:8080/",
     "height": 503
    },
    "id": "endless-cooperation",
    "outputId": "feeae71c-cea1-4e12-e89a-63742074bef5"
   },
   "outputs": [
    {
     "name": "stdout",
     "output_type": "stream",
     "text": [
      "Training performance:\n"
     ]
    },
    {
     "data": {
      "text/html": [
       "<div>\n",
       "<style scoped>\n",
       "    .dataframe tbody tr th:only-of-type {\n",
       "        vertical-align: middle;\n",
       "    }\n",
       "\n",
       "    .dataframe tbody tr th {\n",
       "        vertical-align: top;\n",
       "    }\n",
       "\n",
       "    .dataframe thead th {\n",
       "        text-align: right;\n",
       "    }\n",
       "</style>\n",
       "<table border=\"1\" class=\"dataframe\">\n",
       "  <thead>\n",
       "    <tr style=\"text-align: right;\">\n",
       "      <th></th>\n",
       "      <th>Accuracy</th>\n",
       "      <th>Recall</th>\n",
       "      <th>Precision</th>\n",
       "      <th>F1</th>\n",
       "    </tr>\n",
       "  </thead>\n",
       "  <tbody>\n",
       "    <tr>\n",
       "      <th>0</th>\n",
       "      <td>0.775097</td>\n",
       "      <td>0.958008</td>\n",
       "      <td>0.78877</td>\n",
       "      <td>0.86519</td>\n",
       "    </tr>\n",
       "  </tbody>\n",
       "</table>\n",
       "</div>"
      ],
      "text/plain": [
       "   Accuracy    Recall  Precision       F1\n",
       "0  0.775097  0.958008    0.78877  0.86519"
      ]
     },
     "execution_count": 113,
     "metadata": {},
     "output_type": "execute_result"
    }
   ],
   "source": [
    "log_reg_model_train_perf_SFS = model_performance_classification_sklearn_with_threshold(\n",
    "    logreg, X_train_final, y_train\n",
    ")\n",
    "print(\"Training performance:\")\n",
    "log_reg_model_train_perf_SFS"
   ]
  },
  {
   "cell_type": "markdown",
   "metadata": {
    "id": "thick-traffic"
   },
   "source": [
    "* On test set"
   ]
  },
  {
   "cell_type": "code",
   "execution_count": 114,
   "metadata": {
    "id": "parental-prevention",
    "outputId": "6ee6d606-9e15-4135-897b-0458321a1725"
   },
   "outputs": [
    {
     "data": {
      "image/png": "[encoded data removed]",
      "text/plain": [
       "<Figure size 432x288 with 2 Axes>"
      ]
     },
     "metadata": {
      "needs_background": "light"
     },
     "output_type": "display_data"
    }
   ],
   "source": [
    "confusion_matrix_sklearn_with_threshold(logreg, X_test_final, y_test)"
   ]
  },
  {
   "cell_type": "code",
   "execution_count": 115,
   "metadata": {
    "id": "plain-orchestra",
    "outputId": "57f01f0b-0989-417a-bd25-0f2699c082fd"
   },
   "outputs": [
    {
     "name": "stdout",
     "output_type": "stream",
     "text": [
      "Test set performance:\n"
     ]
    },
    {
     "data": {
      "text/html": [
       "<div>\n",
       "<style scoped>\n",
       "    .dataframe tbody tr th:only-of-type {\n",
       "        vertical-align: middle;\n",
       "    }\n",
       "\n",
       "    .dataframe tbody tr th {\n",
       "        vertical-align: top;\n",
       "    }\n",
       "\n",
       "    .dataframe thead th {\n",
       "        text-align: right;\n",
       "    }\n",
       "</style>\n",
       "<table border=\"1\" class=\"dataframe\">\n",
       "  <thead>\n",
       "    <tr style=\"text-align: right;\">\n",
       "      <th></th>\n",
       "      <th>Accuracy</th>\n",
       "      <th>Recall</th>\n",
       "      <th>Precision</th>\n",
       "      <th>F1</th>\n",
       "    </tr>\n",
       "  </thead>\n",
       "  <tbody>\n",
       "    <tr>\n",
       "      <th>0</th>\n",
       "      <td>0.79005</td>\n",
       "      <td>0.959868</td>\n",
       "      <td>0.80567</td>\n",
       "      <td>0.876035</td>\n",
       "    </tr>\n",
       "  </tbody>\n",
       "</table>\n",
       "</div>"
      ],
      "text/plain": [
       "   Accuracy    Recall  Precision        F1\n",
       "0   0.79005  0.959868    0.80567  0.876035"
      ]
     },
     "execution_count": 115,
     "metadata": {},
     "output_type": "execute_result"
    }
   ],
   "source": [
    "log_reg_model_test_perf_SFS = model_performance_classification_sklearn_with_threshold(\n",
    "    logreg, X_test_final, y_test\n",
    ")\n",
    "print(\"Test set performance:\")\n",
    "log_reg_model_test_perf_SFS"
   ]
  },
  {
   "cell_type": "markdown",
   "metadata": {
    "id": "swiss-candle"
   },
   "source": [
    "* Model is giving a generalized performance on training and test set.\n",
    "* With a fewer number of features, the model performance is comparable to the initial logistic regression model."
   ]
  },
  {
   "cell_type": "markdown",
   "metadata": {
    "id": "incomplete-defeat"
   },
   "source": [
    "### Model Performance Summary"
   ]
  },
  {
   "cell_type": "code",
   "execution_count": 116,
   "metadata": {
    "id": "private-grade",
    "outputId": "d7370784-a7f5-4f26-8c47-0bdb278bebeb"
   },
   "outputs": [
    {
     "name": "stdout",
     "output_type": "stream",
     "text": [
      "Training performance comparison:\n"
     ]
    },
    {
     "data": {
      "text/html": [
       "<div>\n",
       "<style scoped>\n",
       "    .dataframe tbody tr th:only-of-type {\n",
       "        vertical-align: middle;\n",
       "    }\n",
       "\n",
       "    .dataframe tbody tr th {\n",
       "        vertical-align: top;\n",
       "    }\n",
       "\n",
       "    .dataframe thead th {\n",
       "        text-align: right;\n",
       "    }\n",
       "</style>\n",
       "<table border=\"1\" class=\"dataframe\">\n",
       "  <thead>\n",
       "    <tr style=\"text-align: right;\">\n",
       "      <th></th>\n",
       "      <th>Logistic Regression sklearn</th>\n",
       "      <th>Logistic Regression-0.77 Threshold</th>\n",
       "      <th>Logistic Regression-0.58 Threshold</th>\n",
       "      <th>Logistic Regression - SFS</th>\n",
       "    </tr>\n",
       "  </thead>\n",
       "  <tbody>\n",
       "    <tr>\n",
       "      <th>Accuracy</th>\n",
       "      <td>0.834372</td>\n",
       "      <td>0.780186</td>\n",
       "      <td>0.831695</td>\n",
       "      <td>0.775097</td>\n",
       "    </tr>\n",
       "    <tr>\n",
       "      <th>Recall</th>\n",
       "      <td>0.921142</td>\n",
       "      <td>0.750612</td>\n",
       "      <td>0.886954</td>\n",
       "      <td>0.958008</td>\n",
       "    </tr>\n",
       "    <tr>\n",
       "      <th>Precision</th>\n",
       "      <td>0.867248</td>\n",
       "      <td>0.946533</td>\n",
       "      <td>0.889337</td>\n",
       "      <td>0.788770</td>\n",
       "    </tr>\n",
       "    <tr>\n",
       "      <th>F1</th>\n",
       "      <td>0.893383</td>\n",
       "      <td>0.837264</td>\n",
       "      <td>0.888144</td>\n",
       "      <td>0.865190</td>\n",
       "    </tr>\n",
       "  </tbody>\n",
       "</table>\n",
       "</div>"
      ],
      "text/plain": [
       "           Logistic Regression sklearn  Logistic Regression-0.77 Threshold  \\\n",
       "Accuracy                      0.834372                            0.780186   \n",
       "Recall                        0.921142                            0.750612   \n",
       "Precision                     0.867248                            0.946533   \n",
       "F1                            0.893383                            0.837264   \n",
       "\n",
       "           Logistic Regression-0.58 Threshold  Logistic Regression - SFS  \n",
       "Accuracy                             0.831695                   0.775097  \n",
       "Recall                               0.886954                   0.958008  \n",
       "Precision                            0.889337                   0.788770  \n",
       "F1                                   0.888144                   0.865190  "
      ]
     },
     "execution_count": 116,
     "metadata": {},
     "output_type": "execute_result"
    }
   ],
   "source": [
    "# training performance comparison\n",
    "\n",
    "models_train_comp_df = pd.concat(\n",
    "    [\n",
    "        log_reg_model_train_perf.T,\n",
    "        log_reg_model_train_perf_threshold_auc_roc.T,\n",
    "        log_reg_model_train_perf_threshold_curve.T,\n",
    "        log_reg_model_train_perf_SFS.T,\n",
    "    ],\n",
    "    axis=1,\n",
    ")\n",
    "models_train_comp_df.columns = [\n",
    "    \"Logistic Regression sklearn\",\n",
    "    \"Logistic Regression-0.77 Threshold\",\n",
    "    \"Logistic Regression-0.58 Threshold\",\n",
    "    \"Logistic Regression - SFS\",\n",
    "]\n",
    "print(\"Training performance comparison:\")\n",
    "models_train_comp_df"
   ]
  },
  {
   "cell_type": "code",
   "execution_count": 117,
   "metadata": {
    "id": "decreased-anthropology",
    "outputId": "8d0e7984-a8e0-45ef-a498-091b04f31d6b"
   },
   "outputs": [
    {
     "name": "stdout",
     "output_type": "stream",
     "text": [
      "Test set performance comparison:\n"
     ]
    },
    {
     "data": {
      "text/html": [
       "<div>\n",
       "<style scoped>\n",
       "    .dataframe tbody tr th:only-of-type {\n",
       "        vertical-align: middle;\n",
       "    }\n",
       "\n",
       "    .dataframe tbody tr th {\n",
       "        vertical-align: top;\n",
       "    }\n",
       "\n",
       "    .dataframe thead th {\n",
       "        text-align: right;\n",
       "    }\n",
       "</style>\n",
       "<table border=\"1\" class=\"dataframe\">\n",
       "  <thead>\n",
       "    <tr style=\"text-align: right;\">\n",
       "      <th></th>\n",
       "      <th>Logistic Regression sklearn</th>\n",
       "      <th>Logistic Regression-0.77 Threshold</th>\n",
       "      <th>Logistic Regression-0.58 Threshold</th>\n",
       "    </tr>\n",
       "  </thead>\n",
       "  <tbody>\n",
       "    <tr>\n",
       "      <th>Accuracy</th>\n",
       "      <td>0.838878</td>\n",
       "      <td>0.779814</td>\n",
       "      <td>0.831508</td>\n",
       "    </tr>\n",
       "    <tr>\n",
       "      <th>Recall</th>\n",
       "      <td>0.917616</td>\n",
       "      <td>0.752583</td>\n",
       "      <td>0.880927</td>\n",
       "    </tr>\n",
       "    <tr>\n",
       "      <th>Precision</th>\n",
       "      <td>0.879188</td>\n",
       "      <td>0.952557</td>\n",
       "      <td>0.899027</td>\n",
       "    </tr>\n",
       "    <tr>\n",
       "      <th>F1</th>\n",
       "      <td>0.897991</td>\n",
       "      <td>0.840844</td>\n",
       "      <td>0.889885</td>\n",
       "    </tr>\n",
       "  </tbody>\n",
       "</table>\n",
       "</div>"
      ],
      "text/plain": [
       "           Logistic Regression sklearn  Logistic Regression-0.77 Threshold  \\\n",
       "Accuracy                      0.838878                            0.779814   \n",
       "Recall                        0.917616                            0.752583   \n",
       "Precision                     0.879188                            0.952557   \n",
       "F1                            0.897991                            0.840844   \n",
       "\n",
       "           Logistic Regression-0.58 Threshold  \n",
       "Accuracy                             0.831508  \n",
       "Recall                               0.880927  \n",
       "Precision                            0.899027  \n",
       "F1                                   0.889885  "
      ]
     },
     "execution_count": 117,
     "metadata": {},
     "output_type": "execute_result"
    }
   ],
   "source": [
    "# testing performance comparison\n",
    "\n",
    "models_test_comp_df = pd.concat(\n",
    "    [\n",
    "        log_reg_model_test_perf.T,\n",
    "        log_reg_model_test_perf_threshold_auc_roc.T,\n",
    "        log_reg_model_test_perf_threshold_curve.T,\n",
    "    ],\n",
    "    axis=1,\n",
    ")\n",
    "models_test_comp_df.columns = [\n",
    "    \"Logistic Regression sklearn\",\n",
    "    \"Logistic Regression-0.77 Threshold\",\n",
    "    \"Logistic Regression-0.58 Threshold\",\n",
    "]\n",
    "print(\"Test set performance comparison:\")\n",
    "models_test_comp_df"
   ]
  },
  {
   "cell_type": "code",
   "execution_count": 118,
   "metadata": {},
   "outputs": [
    {
     "data": {
      "text/plain": [
       "0.6666666666666666"
      ]
     },
     "execution_count": 118,
     "metadata": {},
     "output_type": "execute_result"
    }
   ],
   "source": [
    "60/(90)"
   ]
  },
  {
   "cell_type": "code",
   "execution_count": null,
   "metadata": {},
   "outputs": [],
   "source": []
  },
  {
   "cell_type": "code",
   "execution_count": null,
   "metadata": {},
   "outputs": [],
   "source": []
  },
  {
   "cell_type": "markdown",
   "metadata": {
    "id": "center-venture"
   },
   "source": [
    "### Conclusion\n",
    "- We built a model which has the same F1 score as the initial model but with only 8 features. \n",
    "- We found that education_no_of_years, workclass,education, marital_status_married, and occupation are important features."
   ]
  }
 ],
 "metadata": {
  "colab": {
   "name": "IncomeGroupClassification_CaseStudy_AIML.ipynb",
   "provenance": []
  },
  "kernelspec": {
   "display_name": "Python 3",
   "language": "python",
   "name": "python3"
  },
  "language_info": {
   "codemirror_mode": {
    "name": "ipython",
    "version": 3
   },
   "file_extension": ".py",
   "mimetype": "text/x-python",
   "name": "python",
   "nbconvert_exporter": "python",
   "pygments_lexer": "ipython3",
   "version": "3.8.5"
  }
 },
 "nbformat": 4,
 "nbformat_minor": 5
}
