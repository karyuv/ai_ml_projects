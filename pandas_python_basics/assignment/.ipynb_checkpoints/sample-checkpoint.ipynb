{
 "cells": [
  {
   "cell_type": "code",
   "execution_count": 6,
   "metadata": {},
   "outputs": [],
   "source": [
    "import pandas_profiling \n",
    "import pandas as pd\n",
    "import numpy as np\n",
    "import os"
   ]
  },
  {
   "cell_type": "code",
   "execution_count": 7,
   "metadata": {},
   "outputs": [],
   "source": [
    "def load_dataframe_from_csv(csv_file_name:str)->pd.DataFrame:\n",
    "    \"\"\"Load a csv file and return a pandas dataframe.\n",
    "    \n",
    "    Parameters\n",
    "    ----------\n",
    "    csv_file_name : str\n",
    "        The csv file\n",
    "    \n",
    "    Return\n",
    "    ----------\n",
    "    data_frame : DataFrame\n",
    "        Pandas data frame\n",
    "        \n",
    "    Raises\n",
    "    ------\n",
    "    AssertionError\n",
    "        If the file type is not of type csv\n",
    "    \"\"\"\n",
    "    file_name = str(csv_file_name)\n",
    "    _,file_type=os.path.splitext(file_name)\n",
    "    assert file_type == '.csv',f\"File format should be of type csv instead of format {file_type}\"\n",
    "    \n",
    "    data_frame = pd.read_csv(csv_file_name)\n",
    "    return data_frame\n",
    "    "
   ]
  },
  {
   "cell_type": "code",
   "execution_count": 8,
   "metadata": {},
   "outputs": [
    {
     "name": "stdout",
     "output_type": "stream",
     "text": [
      ".csv\n"
     ]
    }
   ],
   "source": [
    "data = load_dataframe_from_csv(\"CardioGoodFitness.csv\")"
   ]
  },
  {
   "cell_type": "code",
   "execution_count": null,
   "metadata": {},
   "outputs": [],
   "source": []
  }
 ],
 "metadata": {
  "kernelspec": {
   "display_name": "Python 3",
   "language": "python",
   "name": "python3"
  },
  "language_info": {
   "codemirror_mode": {
    "name": "ipython",
    "version": 3
   },
   "file_extension": ".py",
   "mimetype": "text/x-python",
   "name": "python",
   "nbconvert_exporter": "python",
   "pygments_lexer": "ipython3",
   "version": "3.8.5"
  }
 },
 "nbformat": 4,
 "nbformat_minor": 4
}
