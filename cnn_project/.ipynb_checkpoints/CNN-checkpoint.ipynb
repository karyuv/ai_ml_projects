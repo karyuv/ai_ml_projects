{
 "cells": [
  {
   "cell_type": "markdown",
   "metadata": {},
   "source": [
    "# CNN- Kernels and filters\n",
    "\n",
    "## What it is?\n",
    "- CNN inputs are given as volumes (tensors).\n",
    "- Specialized linear operation on an imag through kernels (which are 2d matrices like mask operators.)\n",
    "- As a result of the step above (because of multiplying with the mask), we get **feature maps** (or activation maps).\n",
    "- so for an image, multiple kernels are applied to get different feature maps.\n",
    "- All the feature maps enchance specific feature map in the image.\n",
    "- Kernel size can be 3x3, 5x5 etc\n",
    "- In tensor flow, rank tells the dimension of a tensor. shape tells the dimension of number of channels too.\n",
    "- After applying feature kernel, the size of the feature map is less than the input tensor.\n",
    "- When applying the kernel, it is derived by mutliplying the corresponding elements betweeen the 2 matrices (not like typical matrix multiplication)\n",
    "- So the kernel is applied throughout the image, the kernel can be applied N pixel after the other. This is called strid. this is a hyper parameter too.\n",
    "- Size of new image (feature map) is \n",
    "  - rnew = (image_rows-filter_rows)/(stride)+1\n",
    "  - cnew= (imagec_cols-filter_cols)/(stride) + 1\n",
    "\n",
    "## Some of the famous networks\n",
    "- ImageNet\n",
    "- GoogleNet\n",
    "   - Fully connected layers often complicate the training, since there is so much to optimize for.\n",
    "   - Hence there is research underway to go away from using such fully connected networks.\n",
    "- AlexNet\n",
    "   - Has a larger kernel size 11x11, which may not give granular details\n",
    "- ResNet\n",
    "   - xavier initialization\n",
    "   - Batch normalization\n",
    "   - no dropout used\n",
    "   - for image segmentation, use RESNET.\n",
    "- Some observations:\n",
    "  - With more indepth layer, the prediction is better.\n",
    "  - Resnet is a very deep layer.\n",
    "- Transfer learning is very common in CNN too.\n",
    "   - Where we use an other network to see how it does learning, than just making from scratch.\n",
    "- Data Augmentation (also called as Image Augmentation)\n",
    "   - Manipulate the images in different way (cropping, adding random noise, rotation, resizing etc)\n",
    "   "
   ]
  },
  {
   "cell_type": "code",
   "execution_count": null,
   "metadata": {},
   "outputs": [],
   "source": []
  }
 ],
 "metadata": {
  "kernelspec": {
   "display_name": "Python 3",
   "language": "python",
   "name": "python3"
  },
  "language_info": {
   "codemirror_mode": {
    "name": "ipython",
    "version": 3
   },
   "file_extension": ".py",
   "mimetype": "text/x-python",
   "name": "python",
   "nbconvert_exporter": "python",
   "pygments_lexer": "ipython3",
   "version": "3.8.5"
  }
 },
 "nbformat": 4,
 "nbformat_minor": 4
}
