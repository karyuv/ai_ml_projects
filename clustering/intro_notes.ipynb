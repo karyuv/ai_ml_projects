{
 "cells": [
  {
   "cell_type": "markdown",
   "metadata": {},
   "source": [
    "# Types of clustering\n",
    "## Connectivity based clustering\n",
    " - Look at every pair of points, objects\n",
    " - Then do clustering based on that.\n",
    " - computaionally expensive, since its considers every combination\n",
    " - n*(n+1)/2 (quadractically)\n",
    " - visualization done by **Dendograms**.\n",
    " - Flexible to work with.\n",
    " - Has a top down approach, because you start with independent objects and then just group them\n",
    " - no need for any input other than the data.\n",
    "\n",
    "\n",
    "## Centroid based clustering (eg.: k means clustering)\n",
    " - Beging by calculating 5 times the samples.\n",
    " - scales by 5*n (linearly)\n",
    " - Works by:\n",
    "   - assign 2 center points\n",
    "   - then group points based on the distance between the 2 center points.\n",
    "   - Larger k (the number of groups) produces smaller groups.\n",
    "   - Smaller k, produces larger groups.\n",
    " - starts with k (estimate on number of groups)\n",
    "     - then assign k center points\n",
    "     - estimate the distance of other points from the center.\n",
    "     - if the 2 points are closer to center, then its means they are similar.\n",
    " - Lloyd's algorithm\n",
    " - Elbow plot (elbow method)\n",
    "    - To estimate the k for compression and accuracy.\n",
    "    - k=1 means max compression and maybe less accuracy.\n",
    "   \n",
    "\n",
    " \n",
    " \n",
    "# Minkowski distance\n",
    "if p=1, manhattan distance\n",
    "if p=2, euclidean distance\n",
    "if p=infintity, chebychev distance\n",
    "\n",
    "Mostly folks with euclidean, manhattan and least chebychev distance.\n",
    "\n",
    "# Measure of similarity\n",
    "- All the distance measure gives a measure of similarity.\n"
   ]
  },
  {
   "cell_type": "code",
   "execution_count": null,
   "metadata": {},
   "outputs": [],
   "source": []
  }
 ],
 "metadata": {
  "kernelspec": {
   "display_name": "Python 3",
   "language": "python",
   "name": "python3"
  },
  "language_info": {
   "codemirror_mode": {
    "name": "ipython",
    "version": 3
   },
   "file_extension": ".py",
   "mimetype": "text/x-python",
   "name": "python",
   "nbconvert_exporter": "python",
   "pygments_lexer": "ipython3",
   "version": "3.8.5"
  }
 },
 "nbformat": 4,
 "nbformat_minor": 4
}
